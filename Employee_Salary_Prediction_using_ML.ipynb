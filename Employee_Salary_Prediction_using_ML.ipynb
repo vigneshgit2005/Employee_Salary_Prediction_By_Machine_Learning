{
 "cells": [
  {
   "cell_type": "code",
   "execution_count": 1,
   "id": "3d20c744",
   "metadata": {},
   "outputs": [],
   "source": [
    "# Import necessary libraries\n",
    "import pandas as pd\n",
    "import plotly.express as px"
   ]
  },
  {
   "cell_type": "code",
   "execution_count": 2,
   "id": "f688061a",
   "metadata": {},
   "outputs": [],
   "source": [
    "# Import the dataset\n",
    "data = pd.read_csv(r\"C:\\Users\\mvign\\OneDrive\\Desktop\\Employee_Salry_Prediction\\Salary Data.csv\")\n"
   ]
  },
  {
   "cell_type": "code",
   "execution_count": null,
   "id": "9f868b9e",
   "metadata": {},
   "outputs": [
    {
     "data": {
      "text/html": [
       "<div>\n",
       "<style scoped>\n",
       "    .dataframe tbody tr th:only-of-type {\n",
       "        vertical-align: middle;\n",
       "    }\n",
       "\n",
       "    .dataframe tbody tr th {\n",
       "        vertical-align: top;\n",
       "    }\n",
       "\n",
       "    .dataframe thead th {\n",
       "        text-align: right;\n",
       "    }\n",
       "</style>\n",
       "<table border=\"1\" class=\"dataframe\">\n",
       "  <thead>\n",
       "    <tr style=\"text-align: right;\">\n",
       "      <th></th>\n",
       "      <th>Age</th>\n",
       "      <th>Gender</th>\n",
       "      <th>Education Level</th>\n",
       "      <th>Job Title</th>\n",
       "      <th>Years of Experience</th>\n",
       "      <th>Salary</th>\n",
       "    </tr>\n",
       "  </thead>\n",
       "  <tbody>\n",
       "    <tr>\n",
       "      <th>0</th>\n",
       "      <td>32.0</td>\n",
       "      <td>Male</td>\n",
       "      <td>Bachelor's</td>\n",
       "      <td>Software Engineer</td>\n",
       "      <td>5.0</td>\n",
       "      <td>90000.0</td>\n",
       "    </tr>\n",
       "    <tr>\n",
       "      <th>1</th>\n",
       "      <td>28.0</td>\n",
       "      <td>Female</td>\n",
       "      <td>Master's</td>\n",
       "      <td>Data Analyst</td>\n",
       "      <td>3.0</td>\n",
       "      <td>65000.0</td>\n",
       "    </tr>\n",
       "    <tr>\n",
       "      <th>2</th>\n",
       "      <td>45.0</td>\n",
       "      <td>Male</td>\n",
       "      <td>PhD</td>\n",
       "      <td>Senior Manager</td>\n",
       "      <td>15.0</td>\n",
       "      <td>150000.0</td>\n",
       "    </tr>\n",
       "    <tr>\n",
       "      <th>3</th>\n",
       "      <td>36.0</td>\n",
       "      <td>Female</td>\n",
       "      <td>Bachelor's</td>\n",
       "      <td>Sales Associate</td>\n",
       "      <td>7.0</td>\n",
       "      <td>60000.0</td>\n",
       "    </tr>\n",
       "    <tr>\n",
       "      <th>4</th>\n",
       "      <td>52.0</td>\n",
       "      <td>Male</td>\n",
       "      <td>Master's</td>\n",
       "      <td>Director</td>\n",
       "      <td>20.0</td>\n",
       "      <td>200000.0</td>\n",
       "    </tr>\n",
       "    <tr>\n",
       "      <th>5</th>\n",
       "      <td>29.0</td>\n",
       "      <td>Male</td>\n",
       "      <td>Bachelor's</td>\n",
       "      <td>Marketing Analyst</td>\n",
       "      <td>2.0</td>\n",
       "      <td>55000.0</td>\n",
       "    </tr>\n",
       "    <tr>\n",
       "      <th>6</th>\n",
       "      <td>42.0</td>\n",
       "      <td>Female</td>\n",
       "      <td>Master's</td>\n",
       "      <td>Product Manager</td>\n",
       "      <td>12.0</td>\n",
       "      <td>120000.0</td>\n",
       "    </tr>\n",
       "    <tr>\n",
       "      <th>7</th>\n",
       "      <td>31.0</td>\n",
       "      <td>Male</td>\n",
       "      <td>Bachelor's</td>\n",
       "      <td>Sales Manager</td>\n",
       "      <td>4.0</td>\n",
       "      <td>80000.0</td>\n",
       "    </tr>\n",
       "    <tr>\n",
       "      <th>8</th>\n",
       "      <td>26.0</td>\n",
       "      <td>Female</td>\n",
       "      <td>Bachelor's</td>\n",
       "      <td>Marketing Coordinator</td>\n",
       "      <td>1.0</td>\n",
       "      <td>45000.0</td>\n",
       "    </tr>\n",
       "    <tr>\n",
       "      <th>9</th>\n",
       "      <td>38.0</td>\n",
       "      <td>Male</td>\n",
       "      <td>PhD</td>\n",
       "      <td>Senior Scientist</td>\n",
       "      <td>10.0</td>\n",
       "      <td>110000.0</td>\n",
       "    </tr>\n",
       "  </tbody>\n",
       "</table>\n",
       "</div>"
      ],
      "text/plain": [
       "    Age  Gender Education Level              Job Title  Years of Experience  \\\n",
       "0  32.0    Male      Bachelor's      Software Engineer                  5.0   \n",
       "1  28.0  Female        Master's           Data Analyst                  3.0   \n",
       "2  45.0    Male             PhD         Senior Manager                 15.0   \n",
       "3  36.0  Female      Bachelor's        Sales Associate                  7.0   \n",
       "4  52.0    Male        Master's               Director                 20.0   \n",
       "5  29.0    Male      Bachelor's      Marketing Analyst                  2.0   \n",
       "6  42.0  Female        Master's        Product Manager                 12.0   \n",
       "7  31.0    Male      Bachelor's          Sales Manager                  4.0   \n",
       "8  26.0  Female      Bachelor's  Marketing Coordinator                  1.0   \n",
       "9  38.0    Male             PhD       Senior Scientist                 10.0   \n",
       "\n",
       "     Salary  \n",
       "0   90000.0  \n",
       "1   65000.0  \n",
       "2  150000.0  \n",
       "3   60000.0  \n",
       "4  200000.0  \n",
       "5   55000.0  \n",
       "6  120000.0  \n",
       "7   80000.0  \n",
       "8   45000.0  \n",
       "9  110000.0  "
      ]
     },
     "execution_count": 3,
     "metadata": {},
     "output_type": "execute_result"
    }
   ],
   "source": [
    "# Take a look at the first ten rows of the dataset\n",
    "data.head(10)"
   ]
  },
  {
   "cell_type": "code",
   "execution_count": null,
   "id": "17792e12",
   "metadata": {},
   "outputs": [
    {
     "data": {
      "text/html": [
       "<div>\n",
       "<style scoped>\n",
       "    .dataframe tbody tr th:only-of-type {\n",
       "        vertical-align: middle;\n",
       "    }\n",
       "\n",
       "    .dataframe tbody tr th {\n",
       "        vertical-align: top;\n",
       "    }\n",
       "\n",
       "    .dataframe thead th {\n",
       "        text-align: right;\n",
       "    }\n",
       "</style>\n",
       "<table border=\"1\" class=\"dataframe\">\n",
       "  <thead>\n",
       "    <tr style=\"text-align: right;\">\n",
       "      <th></th>\n",
       "      <th>Age</th>\n",
       "      <th>Gender</th>\n",
       "      <th>Education Level</th>\n",
       "      <th>Job Title</th>\n",
       "      <th>Years of Experience</th>\n",
       "      <th>Salary</th>\n",
       "    </tr>\n",
       "  </thead>\n",
       "  <tbody>\n",
       "    <tr>\n",
       "      <th>372</th>\n",
       "      <td>29.0</td>\n",
       "      <td>Female</td>\n",
       "      <td>Bachelor's</td>\n",
       "      <td>Junior Project Manager</td>\n",
       "      <td>2.0</td>\n",
       "      <td>40000.0</td>\n",
       "    </tr>\n",
       "    <tr>\n",
       "      <th>373</th>\n",
       "      <td>34.0</td>\n",
       "      <td>Male</td>\n",
       "      <td>Bachelor's</td>\n",
       "      <td>Senior Operations Coordinator</td>\n",
       "      <td>7.0</td>\n",
       "      <td>90000.0</td>\n",
       "    </tr>\n",
       "    <tr>\n",
       "      <th>374</th>\n",
       "      <td>44.0</td>\n",
       "      <td>Female</td>\n",
       "      <td>PhD</td>\n",
       "      <td>Senior Business Analyst</td>\n",
       "      <td>15.0</td>\n",
       "      <td>150000.0</td>\n",
       "    </tr>\n",
       "  </tbody>\n",
       "</table>\n",
       "</div>"
      ],
      "text/plain": [
       "      Age  Gender Education Level                      Job Title  \\\n",
       "372  29.0  Female      Bachelor's         Junior Project Manager   \n",
       "373  34.0    Male      Bachelor's  Senior Operations Coordinator   \n",
       "374  44.0  Female             PhD        Senior Business Analyst   \n",
       "\n",
       "     Years of Experience    Salary  \n",
       "372                  2.0   40000.0  \n",
       "373                  7.0   90000.0  \n",
       "374                 15.0  150000.0  "
      ]
     },
     "execution_count": 4,
     "metadata": {},
     "output_type": "execute_result"
    }
   ],
   "source": [
    "# Display the last three rows of the dataset\n",
    "data.tail(3)"
   ]
  },
  {
   "cell_type": "code",
   "execution_count": 5,
   "id": "d1ff6797",
   "metadata": {},
   "outputs": [
    {
     "data": {
      "text/plain": [
       "(375, 6)"
      ]
     },
     "execution_count": 5,
     "metadata": {},
     "output_type": "execute_result"
    }
   ],
   "source": [
    "# Display the shape of the dataset\n",
    "data.shape"
   ]
  },
  {
   "cell_type": "code",
   "execution_count": 6,
   "id": "881277bd",
   "metadata": {},
   "outputs": [
    {
     "data": {
      "text/plain": [
       "Age                    2\n",
       "Gender                 2\n",
       "Education Level        2\n",
       "Job Title              2\n",
       "Years of Experience    2\n",
       "Salary                 2\n",
       "dtype: int64"
      ]
     },
     "execution_count": 6,
     "metadata": {},
     "output_type": "execute_result"
    }
   ],
   "source": [
    "#null values\n",
    "data.isna().sum() #mean median mode arbitrary"
   ]
  },
  {
   "cell_type": "code",
   "execution_count": 7,
   "id": "64a0bf33",
   "metadata": {},
   "outputs": [
    {
     "data": {
      "text/html": [
       "<div>\n",
       "<style scoped>\n",
       "    .dataframe tbody tr th:only-of-type {\n",
       "        vertical-align: middle;\n",
       "    }\n",
       "\n",
       "    .dataframe tbody tr th {\n",
       "        vertical-align: top;\n",
       "    }\n",
       "\n",
       "    .dataframe thead th {\n",
       "        text-align: right;\n",
       "    }\n",
       "</style>\n",
       "<table border=\"1\" class=\"dataframe\">\n",
       "  <thead>\n",
       "    <tr style=\"text-align: right;\">\n",
       "      <th></th>\n",
       "      <th>Age</th>\n",
       "      <th>Gender</th>\n",
       "      <th>Education Level</th>\n",
       "      <th>Job Title</th>\n",
       "      <th>Years of Experience</th>\n",
       "      <th>Salary</th>\n",
       "    </tr>\n",
       "  </thead>\n",
       "  <tbody>\n",
       "    <tr>\n",
       "      <th>0</th>\n",
       "      <td>32.0</td>\n",
       "      <td>Male</td>\n",
       "      <td>Bachelor's</td>\n",
       "      <td>Software Engineer</td>\n",
       "      <td>5.0</td>\n",
       "      <td>90000.0</td>\n",
       "    </tr>\n",
       "    <tr>\n",
       "      <th>1</th>\n",
       "      <td>28.0</td>\n",
       "      <td>Female</td>\n",
       "      <td>Master's</td>\n",
       "      <td>Data Analyst</td>\n",
       "      <td>3.0</td>\n",
       "      <td>65000.0</td>\n",
       "    </tr>\n",
       "    <tr>\n",
       "      <th>2</th>\n",
       "      <td>45.0</td>\n",
       "      <td>Male</td>\n",
       "      <td>PhD</td>\n",
       "      <td>Senior Manager</td>\n",
       "      <td>15.0</td>\n",
       "      <td>150000.0</td>\n",
       "    </tr>\n",
       "    <tr>\n",
       "      <th>3</th>\n",
       "      <td>36.0</td>\n",
       "      <td>Female</td>\n",
       "      <td>Bachelor's</td>\n",
       "      <td>Sales Associate</td>\n",
       "      <td>7.0</td>\n",
       "      <td>60000.0</td>\n",
       "    </tr>\n",
       "    <tr>\n",
       "      <th>4</th>\n",
       "      <td>52.0</td>\n",
       "      <td>Male</td>\n",
       "      <td>Master's</td>\n",
       "      <td>Director</td>\n",
       "      <td>20.0</td>\n",
       "      <td>200000.0</td>\n",
       "    </tr>\n",
       "    <tr>\n",
       "      <th>...</th>\n",
       "      <td>...</td>\n",
       "      <td>...</td>\n",
       "      <td>...</td>\n",
       "      <td>...</td>\n",
       "      <td>...</td>\n",
       "      <td>...</td>\n",
       "    </tr>\n",
       "    <tr>\n",
       "      <th>370</th>\n",
       "      <td>35.0</td>\n",
       "      <td>Female</td>\n",
       "      <td>Bachelor's</td>\n",
       "      <td>Senior Marketing Analyst</td>\n",
       "      <td>8.0</td>\n",
       "      <td>85000.0</td>\n",
       "    </tr>\n",
       "    <tr>\n",
       "      <th>371</th>\n",
       "      <td>43.0</td>\n",
       "      <td>Male</td>\n",
       "      <td>Master's</td>\n",
       "      <td>Director of Operations</td>\n",
       "      <td>19.0</td>\n",
       "      <td>170000.0</td>\n",
       "    </tr>\n",
       "    <tr>\n",
       "      <th>372</th>\n",
       "      <td>29.0</td>\n",
       "      <td>Female</td>\n",
       "      <td>Bachelor's</td>\n",
       "      <td>Junior Project Manager</td>\n",
       "      <td>2.0</td>\n",
       "      <td>40000.0</td>\n",
       "    </tr>\n",
       "    <tr>\n",
       "      <th>373</th>\n",
       "      <td>34.0</td>\n",
       "      <td>Male</td>\n",
       "      <td>Bachelor's</td>\n",
       "      <td>Senior Operations Coordinator</td>\n",
       "      <td>7.0</td>\n",
       "      <td>90000.0</td>\n",
       "    </tr>\n",
       "    <tr>\n",
       "      <th>374</th>\n",
       "      <td>44.0</td>\n",
       "      <td>Female</td>\n",
       "      <td>PhD</td>\n",
       "      <td>Senior Business Analyst</td>\n",
       "      <td>15.0</td>\n",
       "      <td>150000.0</td>\n",
       "    </tr>\n",
       "  </tbody>\n",
       "</table>\n",
       "<p>375 rows × 6 columns</p>\n",
       "</div>"
      ],
      "text/plain": [
       "      Age  Gender Education Level                      Job Title  \\\n",
       "0    32.0    Male      Bachelor's              Software Engineer   \n",
       "1    28.0  Female        Master's                   Data Analyst   \n",
       "2    45.0    Male             PhD                 Senior Manager   \n",
       "3    36.0  Female      Bachelor's                Sales Associate   \n",
       "4    52.0    Male        Master's                       Director   \n",
       "..    ...     ...             ...                            ...   \n",
       "370  35.0  Female      Bachelor's       Senior Marketing Analyst   \n",
       "371  43.0    Male        Master's         Director of Operations   \n",
       "372  29.0  Female      Bachelor's         Junior Project Manager   \n",
       "373  34.0    Male      Bachelor's  Senior Operations Coordinator   \n",
       "374  44.0  Female             PhD        Senior Business Analyst   \n",
       "\n",
       "     Years of Experience    Salary  \n",
       "0                    5.0   90000.0  \n",
       "1                    3.0   65000.0  \n",
       "2                   15.0  150000.0  \n",
       "3                    7.0   60000.0  \n",
       "4                   20.0  200000.0  \n",
       "..                   ...       ...  \n",
       "370                  8.0   85000.0  \n",
       "371                 19.0  170000.0  \n",
       "372                  2.0   40000.0  \n",
       "373                  7.0   90000.0  \n",
       "374                 15.0  150000.0  \n",
       "\n",
       "[375 rows x 6 columns]"
      ]
     },
     "execution_count": 7,
     "metadata": {},
     "output_type": "execute_result"
    }
   ],
   "source": [
    "data"
   ]
  },
  {
   "cell_type": "code",
   "execution_count": 8,
   "id": "98d95a1c",
   "metadata": {},
   "outputs": [
    {
     "name": "stdout",
     "output_type": "stream",
     "text": [
      "Index(['Age', 'Gender', 'Education Level', 'Job Title', 'Years of Experience',\n",
      "       'Salary'],\n",
      "      dtype='object')\n"
     ]
    }
   ],
   "source": [
    "print(data.columns)"
   ]
  },
  {
   "cell_type": "code",
   "execution_count": null,
   "id": "0d270638",
   "metadata": {},
   "outputs": [
    {
     "data": {
      "application/vnd.plotly.v1+json": {
       "config": {
        "plotlyServerURL": "https://plot.ly"
       },
       "data": [
        {
         "alignmentgroup": "True",
         "hovertemplate": "Age of Individuals=%{y}<extra></extra>",
         "legendgroup": "",
         "marker": {
          "color": "#00CC96"
         },
         "name": "",
         "notched": false,
         "offsetgroup": "",
         "orientation": "v",
         "showlegend": false,
         "type": "box",
         "x0": " ",
         "xaxis": "x",
         "y": {
          "bdata": "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",
          "dtype": "f8"
         },
         "y0": " ",
         "yaxis": "y"
        }
       ],
       "layout": {
        "boxmode": "group",
        "legend": {
         "tracegroupgap": 0
        },
        "template": {
         "data": {
          "bar": [
           {
            "error_x": {
             "color": "#f2f5fa"
            },
            "error_y": {
             "color": "#f2f5fa"
            },
            "marker": {
             "line": {
              "color": "rgb(17,17,17)",
              "width": 0.5
             },
             "pattern": {
              "fillmode": "overlay",
              "size": 10,
              "solidity": 0.2
             }
            },
            "type": "bar"
           }
          ],
          "barpolar": [
           {
            "marker": {
             "line": {
              "color": "rgb(17,17,17)",
              "width": 0.5
             },
             "pattern": {
              "fillmode": "overlay",
              "size": 10,
              "solidity": 0.2
             }
            },
            "type": "barpolar"
           }
          ],
          "carpet": [
           {
            "aaxis": {
             "endlinecolor": "#A2B1C6",
             "gridcolor": "#506784",
             "linecolor": "#506784",
             "minorgridcolor": "#506784",
             "startlinecolor": "#A2B1C6"
            },
            "baxis": {
             "endlinecolor": "#A2B1C6",
             "gridcolor": "#506784",
             "linecolor": "#506784",
             "minorgridcolor": "#506784",
             "startlinecolor": "#A2B1C6"
            },
            "type": "carpet"
           }
          ],
          "choropleth": [
           {
            "colorbar": {
             "outlinewidth": 0,
             "ticks": ""
            },
            "type": "choropleth"
           }
          ],
          "contour": [
           {
            "colorbar": {
             "outlinewidth": 0,
             "ticks": ""
            },
            "colorscale": [
             [
              0,
              "#0d0887"
             ],
             [
              0.1111111111111111,
              "#46039f"
             ],
             [
              0.2222222222222222,
              "#7201a8"
             ],
             [
              0.3333333333333333,
              "#9c179e"
             ],
             [
              0.4444444444444444,
              "#bd3786"
             ],
             [
              0.5555555555555556,
              "#d8576b"
             ],
             [
              0.6666666666666666,
              "#ed7953"
             ],
             [
              0.7777777777777778,
              "#fb9f3a"
             ],
             [
              0.8888888888888888,
              "#fdca26"
             ],
             [
              1,
              "#f0f921"
             ]
            ],
            "type": "contour"
           }
          ],
          "contourcarpet": [
           {
            "colorbar": {
             "outlinewidth": 0,
             "ticks": ""
            },
            "type": "contourcarpet"
           }
          ],
          "heatmap": [
           {
            "colorbar": {
             "outlinewidth": 0,
             "ticks": ""
            },
            "colorscale": [
             [
              0,
              "#0d0887"
             ],
             [
              0.1111111111111111,
              "#46039f"
             ],
             [
              0.2222222222222222,
              "#7201a8"
             ],
             [
              0.3333333333333333,
              "#9c179e"
             ],
             [
              0.4444444444444444,
              "#bd3786"
             ],
             [
              0.5555555555555556,
              "#d8576b"
             ],
             [
              0.6666666666666666,
              "#ed7953"
             ],
             [
              0.7777777777777778,
              "#fb9f3a"
             ],
             [
              0.8888888888888888,
              "#fdca26"
             ],
             [
              1,
              "#f0f921"
             ]
            ],
            "type": "heatmap"
           }
          ],
          "histogram": [
           {
            "marker": {
             "pattern": {
              "fillmode": "overlay",
              "size": 10,
              "solidity": 0.2
             }
            },
            "type": "histogram"
           }
          ],
          "histogram2d": [
           {
            "colorbar": {
             "outlinewidth": 0,
             "ticks": ""
            },
            "colorscale": [
             [
              0,
              "#0d0887"
             ],
             [
              0.1111111111111111,
              "#46039f"
             ],
             [
              0.2222222222222222,
              "#7201a8"
             ],
             [
              0.3333333333333333,
              "#9c179e"
             ],
             [
              0.4444444444444444,
              "#bd3786"
             ],
             [
              0.5555555555555556,
              "#d8576b"
             ],
             [
              0.6666666666666666,
              "#ed7953"
             ],
             [
              0.7777777777777778,
              "#fb9f3a"
             ],
             [
              0.8888888888888888,
              "#fdca26"
             ],
             [
              1,
              "#f0f921"
             ]
            ],
            "type": "histogram2d"
           }
          ],
          "histogram2dcontour": [
           {
            "colorbar": {
             "outlinewidth": 0,
             "ticks": ""
            },
            "colorscale": [
             [
              0,
              "#0d0887"
             ],
             [
              0.1111111111111111,
              "#46039f"
             ],
             [
              0.2222222222222222,
              "#7201a8"
             ],
             [
              0.3333333333333333,
              "#9c179e"
             ],
             [
              0.4444444444444444,
              "#bd3786"
             ],
             [
              0.5555555555555556,
              "#d8576b"
             ],
             [
              0.6666666666666666,
              "#ed7953"
             ],
             [
              0.7777777777777778,
              "#fb9f3a"
             ],
             [
              0.8888888888888888,
              "#fdca26"
             ],
             [
              1,
              "#f0f921"
             ]
            ],
            "type": "histogram2dcontour"
           }
          ],
          "mesh3d": [
           {
            "colorbar": {
             "outlinewidth": 0,
             "ticks": ""
            },
            "type": "mesh3d"
           }
          ],
          "parcoords": [
           {
            "line": {
             "colorbar": {
              "outlinewidth": 0,
              "ticks": ""
             }
            },
            "type": "parcoords"
           }
          ],
          "pie": [
           {
            "automargin": true,
            "type": "pie"
           }
          ],
          "scatter": [
           {
            "marker": {
             "line": {
              "color": "#283442"
             }
            },
            "type": "scatter"
           }
          ],
          "scatter3d": [
           {
            "line": {
             "colorbar": {
              "outlinewidth": 0,
              "ticks": ""
             }
            },
            "marker": {
             "colorbar": {
              "outlinewidth": 0,
              "ticks": ""
             }
            },
            "type": "scatter3d"
           }
          ],
          "scattercarpet": [
           {
            "marker": {
             "colorbar": {
              "outlinewidth": 0,
              "ticks": ""
             }
            },
            "type": "scattercarpet"
           }
          ],
          "scattergeo": [
           {
            "marker": {
             "colorbar": {
              "outlinewidth": 0,
              "ticks": ""
             }
            },
            "type": "scattergeo"
           }
          ],
          "scattergl": [
           {
            "marker": {
             "line": {
              "color": "#283442"
             }
            },
            "type": "scattergl"
           }
          ],
          "scattermap": [
           {
            "marker": {
             "colorbar": {
              "outlinewidth": 0,
              "ticks": ""
             }
            },
            "type": "scattermap"
           }
          ],
          "scattermapbox": [
           {
            "marker": {
             "colorbar": {
              "outlinewidth": 0,
              "ticks": ""
             }
            },
            "type": "scattermapbox"
           }
          ],
          "scatterpolar": [
           {
            "marker": {
             "colorbar": {
              "outlinewidth": 0,
              "ticks": ""
             }
            },
            "type": "scatterpolar"
           }
          ],
          "scatterpolargl": [
           {
            "marker": {
             "colorbar": {
              "outlinewidth": 0,
              "ticks": ""
             }
            },
            "type": "scatterpolargl"
           }
          ],
          "scatterternary": [
           {
            "marker": {
             "colorbar": {
              "outlinewidth": 0,
              "ticks": ""
             }
            },
            "type": "scatterternary"
           }
          ],
          "surface": [
           {
            "colorbar": {
             "outlinewidth": 0,
             "ticks": ""
            },
            "colorscale": [
             [
              0,
              "#0d0887"
             ],
             [
              0.1111111111111111,
              "#46039f"
             ],
             [
              0.2222222222222222,
              "#7201a8"
             ],
             [
              0.3333333333333333,
              "#9c179e"
             ],
             [
              0.4444444444444444,
              "#bd3786"
             ],
             [
              0.5555555555555556,
              "#d8576b"
             ],
             [
              0.6666666666666666,
              "#ed7953"
             ],
             [
              0.7777777777777778,
              "#fb9f3a"
             ],
             [
              0.8888888888888888,
              "#fdca26"
             ],
             [
              1,
              "#f0f921"
             ]
            ],
            "type": "surface"
           }
          ],
          "table": [
           {
            "cells": {
             "fill": {
              "color": "#506784"
             },
             "line": {
              "color": "rgb(17,17,17)"
             }
            },
            "header": {
             "fill": {
              "color": "#2a3f5f"
             },
             "line": {
              "color": "rgb(17,17,17)"
             }
            },
            "type": "table"
           }
          ]
         },
         "layout": {
          "annotationdefaults": {
           "arrowcolor": "#f2f5fa",
           "arrowhead": 0,
           "arrowwidth": 1
          },
          "autotypenumbers": "strict",
          "coloraxis": {
           "colorbar": {
            "outlinewidth": 0,
            "ticks": ""
           }
          },
          "colorscale": {
           "diverging": [
            [
             0,
             "#8e0152"
            ],
            [
             0.1,
             "#c51b7d"
            ],
            [
             0.2,
             "#de77ae"
            ],
            [
             0.3,
             "#f1b6da"
            ],
            [
             0.4,
             "#fde0ef"
            ],
            [
             0.5,
             "#f7f7f7"
            ],
            [
             0.6,
             "#e6f5d0"
            ],
            [
             0.7,
             "#b8e186"
            ],
            [
             0.8,
             "#7fbc41"
            ],
            [
             0.9,
             "#4d9221"
            ],
            [
             1,
             "#276419"
            ]
           ],
           "sequential": [
            [
             0,
             "#0d0887"
            ],
            [
             0.1111111111111111,
             "#46039f"
            ],
            [
             0.2222222222222222,
             "#7201a8"
            ],
            [
             0.3333333333333333,
             "#9c179e"
            ],
            [
             0.4444444444444444,
             "#bd3786"
            ],
            [
             0.5555555555555556,
             "#d8576b"
            ],
            [
             0.6666666666666666,
             "#ed7953"
            ],
            [
             0.7777777777777778,
             "#fb9f3a"
            ],
            [
             0.8888888888888888,
             "#fdca26"
            ],
            [
             1,
             "#f0f921"
            ]
           ],
           "sequentialminus": [
            [
             0,
             "#0d0887"
            ],
            [
             0.1111111111111111,
             "#46039f"
            ],
            [
             0.2222222222222222,
             "#7201a8"
            ],
            [
             0.3333333333333333,
             "#9c179e"
            ],
            [
             0.4444444444444444,
             "#bd3786"
            ],
            [
             0.5555555555555556,
             "#d8576b"
            ],
            [
             0.6666666666666666,
             "#ed7953"
            ],
            [
             0.7777777777777778,
             "#fb9f3a"
            ],
            [
             0.8888888888888888,
             "#fdca26"
            ],
            [
             1,
             "#f0f921"
            ]
           ]
          },
          "colorway": [
           "#636efa",
           "#EF553B",
           "#00cc96",
           "#ab63fa",
           "#FFA15A",
           "#19d3f3",
           "#FF6692",
           "#B6E880",
           "#FF97FF",
           "#FECB52"
          ],
          "font": {
           "color": "#f2f5fa"
          },
          "geo": {
           "bgcolor": "rgb(17,17,17)",
           "lakecolor": "rgb(17,17,17)",
           "landcolor": "rgb(17,17,17)",
           "showlakes": true,
           "showland": true,
           "subunitcolor": "#506784"
          },
          "hoverlabel": {
           "align": "left"
          },
          "hovermode": "closest",
          "mapbox": {
           "style": "dark"
          },
          "paper_bgcolor": "rgb(17,17,17)",
          "plot_bgcolor": "rgb(17,17,17)",
          "polar": {
           "angularaxis": {
            "gridcolor": "#506784",
            "linecolor": "#506784",
            "ticks": ""
           },
           "bgcolor": "rgb(17,17,17)",
           "radialaxis": {
            "gridcolor": "#506784",
            "linecolor": "#506784",
            "ticks": ""
           }
          },
          "scene": {
           "xaxis": {
            "backgroundcolor": "rgb(17,17,17)",
            "gridcolor": "#506784",
            "gridwidth": 2,
            "linecolor": "#506784",
            "showbackground": true,
            "ticks": "",
            "zerolinecolor": "#C8D4E3"
           },
           "yaxis": {
            "backgroundcolor": "rgb(17,17,17)",
            "gridcolor": "#506784",
            "gridwidth": 2,
            "linecolor": "#506784",
            "showbackground": true,
            "ticks": "",
            "zerolinecolor": "#C8D4E3"
           },
           "zaxis": {
            "backgroundcolor": "rgb(17,17,17)",
            "gridcolor": "#506784",
            "gridwidth": 2,
            "linecolor": "#506784",
            "showbackground": true,
            "ticks": "",
            "zerolinecolor": "#C8D4E3"
           }
          },
          "shapedefaults": {
           "line": {
            "color": "#f2f5fa"
           }
          },
          "sliderdefaults": {
           "bgcolor": "#C8D4E3",
           "bordercolor": "rgb(17,17,17)",
           "borderwidth": 1,
           "tickwidth": 0
          },
          "ternary": {
           "aaxis": {
            "gridcolor": "#506784",
            "linecolor": "#506784",
            "ticks": ""
           },
           "baxis": {
            "gridcolor": "#506784",
            "linecolor": "#506784",
            "ticks": ""
           },
           "bgcolor": "rgb(17,17,17)",
           "caxis": {
            "gridcolor": "#506784",
            "linecolor": "#506784",
            "ticks": ""
           }
          },
          "title": {
           "x": 0.05
          },
          "updatemenudefaults": {
           "bgcolor": "#506784",
           "borderwidth": 0
          },
          "xaxis": {
           "automargin": true,
           "gridcolor": "#283442",
           "linecolor": "#506784",
           "ticks": "",
           "title": {
            "standoff": 15
           },
           "zerolinecolor": "#283442",
           "zerolinewidth": 2
          },
          "yaxis": {
           "automargin": true,
           "gridcolor": "#283442",
           "linecolor": "#506784",
           "ticks": "",
           "title": {
            "standoff": 15
           },
           "zerolinecolor": "#283442",
           "zerolinewidth": 2
          }
         }
        },
        "title": {
         "font": {
          "size": 20
         },
         "text": "📊 Age Distribution of Dataset",
         "x": 0.5
        },
        "xaxis": {
         "anchor": "y",
         "domain": [
          0,
          1
         ]
        },
        "yaxis": {
         "anchor": "x",
         "domain": [
          0,
          1
         ],
         "title": {
          "text": "Age"
         }
        }
       }
      }
     },
     "metadata": {},
     "output_type": "display_data"
    }
   ],
   "source": [
    "\n",
    "\n",
    "fig = px.box(\n",
    "    data_frame=data,\n",
    "    y=\"Age\",\n",
    "    title=\"📊 Age Distribution of Dataset\",\n",
    "    template=\"plotly_dark\",\n",
    "    labels={\"Age\": \"Age of Individuals\"},\n",
    "    color_discrete_sequence=[\"#00CC96\"]\n",
    ")\n",
    "\n",
    "fig.update_layout(\n",
    "    yaxis_title=\"Age\",\n",
    "    title_font_size=20,\n",
    "    title_x=0.5\n",
    ")\n",
    "\n",
    "fig.show()\n"
   ]
  },
  {
   "cell_type": "code",
   "execution_count": 10,
   "id": "b7e229b8",
   "metadata": {},
   "outputs": [
    {
     "data": {
      "application/vnd.plotly.v1+json": {
       "config": {
        "plotlyServerURL": "https://plot.ly"
       },
       "data": [
        {
         "bingroup": "x",
         "hovertemplate": "Age of Individuals=%{x}<br>count=%{y}<extra></extra>",
         "legendgroup": "",
         "marker": {
          "color": "#00BFFF",
          "pattern": {
           "shape": ""
          }
         },
         "name": "",
         "nbinsx": 20,
         "orientation": "v",
         "showlegend": false,
         "type": "histogram",
         "x": {
          "bdata": "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",
          "dtype": "f8"
         },
         "xaxis": "x",
         "yaxis": "y"
        }
       ],
       "layout": {
        "annotations": [
         {
          "bgcolor": "rgba(0,255,0,0.2)",
          "font": {
           "color": "lime"
          },
          "showarrow": false,
          "text": "📈 Mean: 37.4",
          "x": 37.43163538873995,
          "xanchor": "right",
          "xref": "x",
          "y": 1,
          "yanchor": "top",
          "yref": "y domain"
         },
         {
          "bgcolor": "rgba(255,0,0,0.2)",
          "font": {
           "color": "red"
          },
          "showarrow": false,
          "text": "📊 Median: 36.0",
          "x": 36,
          "xanchor": "left",
          "xref": "x",
          "y": 1,
          "yanchor": "top",
          "yref": "y domain"
         }
        ],
        "bargap": 0.1,
        "barmode": "relative",
        "font": {
         "size": 14
        },
        "legend": {
         "orientation": "h",
         "tracegroupgap": 0,
         "y": -0.2
        },
        "shapes": [
         {
          "line": {
           "color": "lime",
           "dash": "dash",
           "width": 2
          },
          "type": "line",
          "x0": 37.43163538873995,
          "x1": 37.43163538873995,
          "xref": "x",
          "y0": 0,
          "y1": 1,
          "yref": "y domain"
         },
         {
          "line": {
           "color": "red",
           "dash": "dot",
           "width": 2
          },
          "type": "line",
          "x0": 36,
          "x1": 36,
          "xref": "x",
          "y0": 0,
          "y1": 1,
          "yref": "y domain"
         }
        ],
        "template": {
         "data": {
          "bar": [
           {
            "error_x": {
             "color": "#f2f5fa"
            },
            "error_y": {
             "color": "#f2f5fa"
            },
            "marker": {
             "line": {
              "color": "rgb(17,17,17)",
              "width": 0.5
             },
             "pattern": {
              "fillmode": "overlay",
              "size": 10,
              "solidity": 0.2
             }
            },
            "type": "bar"
           }
          ],
          "barpolar": [
           {
            "marker": {
             "line": {
              "color": "rgb(17,17,17)",
              "width": 0.5
             },
             "pattern": {
              "fillmode": "overlay",
              "size": 10,
              "solidity": 0.2
             }
            },
            "type": "barpolar"
           }
          ],
          "carpet": [
           {
            "aaxis": {
             "endlinecolor": "#A2B1C6",
             "gridcolor": "#506784",
             "linecolor": "#506784",
             "minorgridcolor": "#506784",
             "startlinecolor": "#A2B1C6"
            },
            "baxis": {
             "endlinecolor": "#A2B1C6",
             "gridcolor": "#506784",
             "linecolor": "#506784",
             "minorgridcolor": "#506784",
             "startlinecolor": "#A2B1C6"
            },
            "type": "carpet"
           }
          ],
          "choropleth": [
           {
            "colorbar": {
             "outlinewidth": 0,
             "ticks": ""
            },
            "type": "choropleth"
           }
          ],
          "contour": [
           {
            "colorbar": {
             "outlinewidth": 0,
             "ticks": ""
            },
            "colorscale": [
             [
              0,
              "#0d0887"
             ],
             [
              0.1111111111111111,
              "#46039f"
             ],
             [
              0.2222222222222222,
              "#7201a8"
             ],
             [
              0.3333333333333333,
              "#9c179e"
             ],
             [
              0.4444444444444444,
              "#bd3786"
             ],
             [
              0.5555555555555556,
              "#d8576b"
             ],
             [
              0.6666666666666666,
              "#ed7953"
             ],
             [
              0.7777777777777778,
              "#fb9f3a"
             ],
             [
              0.8888888888888888,
              "#fdca26"
             ],
             [
              1,
              "#f0f921"
             ]
            ],
            "type": "contour"
           }
          ],
          "contourcarpet": [
           {
            "colorbar": {
             "outlinewidth": 0,
             "ticks": ""
            },
            "type": "contourcarpet"
           }
          ],
          "heatmap": [
           {
            "colorbar": {
             "outlinewidth": 0,
             "ticks": ""
            },
            "colorscale": [
             [
              0,
              "#0d0887"
             ],
             [
              0.1111111111111111,
              "#46039f"
             ],
             [
              0.2222222222222222,
              "#7201a8"
             ],
             [
              0.3333333333333333,
              "#9c179e"
             ],
             [
              0.4444444444444444,
              "#bd3786"
             ],
             [
              0.5555555555555556,
              "#d8576b"
             ],
             [
              0.6666666666666666,
              "#ed7953"
             ],
             [
              0.7777777777777778,
              "#fb9f3a"
             ],
             [
              0.8888888888888888,
              "#fdca26"
             ],
             [
              1,
              "#f0f921"
             ]
            ],
            "type": "heatmap"
           }
          ],
          "histogram": [
           {
            "marker": {
             "pattern": {
              "fillmode": "overlay",
              "size": 10,
              "solidity": 0.2
             }
            },
            "type": "histogram"
           }
          ],
          "histogram2d": [
           {
            "colorbar": {
             "outlinewidth": 0,
             "ticks": ""
            },
            "colorscale": [
             [
              0,
              "#0d0887"
             ],
             [
              0.1111111111111111,
              "#46039f"
             ],
             [
              0.2222222222222222,
              "#7201a8"
             ],
             [
              0.3333333333333333,
              "#9c179e"
             ],
             [
              0.4444444444444444,
              "#bd3786"
             ],
             [
              0.5555555555555556,
              "#d8576b"
             ],
             [
              0.6666666666666666,
              "#ed7953"
             ],
             [
              0.7777777777777778,
              "#fb9f3a"
             ],
             [
              0.8888888888888888,
              "#fdca26"
             ],
             [
              1,
              "#f0f921"
             ]
            ],
            "type": "histogram2d"
           }
          ],
          "histogram2dcontour": [
           {
            "colorbar": {
             "outlinewidth": 0,
             "ticks": ""
            },
            "colorscale": [
             [
              0,
              "#0d0887"
             ],
             [
              0.1111111111111111,
              "#46039f"
             ],
             [
              0.2222222222222222,
              "#7201a8"
             ],
             [
              0.3333333333333333,
              "#9c179e"
             ],
             [
              0.4444444444444444,
              "#bd3786"
             ],
             [
              0.5555555555555556,
              "#d8576b"
             ],
             [
              0.6666666666666666,
              "#ed7953"
             ],
             [
              0.7777777777777778,
              "#fb9f3a"
             ],
             [
              0.8888888888888888,
              "#fdca26"
             ],
             [
              1,
              "#f0f921"
             ]
            ],
            "type": "histogram2dcontour"
           }
          ],
          "mesh3d": [
           {
            "colorbar": {
             "outlinewidth": 0,
             "ticks": ""
            },
            "type": "mesh3d"
           }
          ],
          "parcoords": [
           {
            "line": {
             "colorbar": {
              "outlinewidth": 0,
              "ticks": ""
             }
            },
            "type": "parcoords"
           }
          ],
          "pie": [
           {
            "automargin": true,
            "type": "pie"
           }
          ],
          "scatter": [
           {
            "marker": {
             "line": {
              "color": "#283442"
             }
            },
            "type": "scatter"
           }
          ],
          "scatter3d": [
           {
            "line": {
             "colorbar": {
              "outlinewidth": 0,
              "ticks": ""
             }
            },
            "marker": {
             "colorbar": {
              "outlinewidth": 0,
              "ticks": ""
             }
            },
            "type": "scatter3d"
           }
          ],
          "scattercarpet": [
           {
            "marker": {
             "colorbar": {
              "outlinewidth": 0,
              "ticks": ""
             }
            },
            "type": "scattercarpet"
           }
          ],
          "scattergeo": [
           {
            "marker": {
             "colorbar": {
              "outlinewidth": 0,
              "ticks": ""
             }
            },
            "type": "scattergeo"
           }
          ],
          "scattergl": [
           {
            "marker": {
             "line": {
              "color": "#283442"
             }
            },
            "type": "scattergl"
           }
          ],
          "scattermap": [
           {
            "marker": {
             "colorbar": {
              "outlinewidth": 0,
              "ticks": ""
             }
            },
            "type": "scattermap"
           }
          ],
          "scattermapbox": [
           {
            "marker": {
             "colorbar": {
              "outlinewidth": 0,
              "ticks": ""
             }
            },
            "type": "scattermapbox"
           }
          ],
          "scatterpolar": [
           {
            "marker": {
             "colorbar": {
              "outlinewidth": 0,
              "ticks": ""
             }
            },
            "type": "scatterpolar"
           }
          ],
          "scatterpolargl": [
           {
            "marker": {
             "colorbar": {
              "outlinewidth": 0,
              "ticks": ""
             }
            },
            "type": "scatterpolargl"
           }
          ],
          "scatterternary": [
           {
            "marker": {
             "colorbar": {
              "outlinewidth": 0,
              "ticks": ""
             }
            },
            "type": "scatterternary"
           }
          ],
          "surface": [
           {
            "colorbar": {
             "outlinewidth": 0,
             "ticks": ""
            },
            "colorscale": [
             [
              0,
              "#0d0887"
             ],
             [
              0.1111111111111111,
              "#46039f"
             ],
             [
              0.2222222222222222,
              "#7201a8"
             ],
             [
              0.3333333333333333,
              "#9c179e"
             ],
             [
              0.4444444444444444,
              "#bd3786"
             ],
             [
              0.5555555555555556,
              "#d8576b"
             ],
             [
              0.6666666666666666,
              "#ed7953"
             ],
             [
              0.7777777777777778,
              "#fb9f3a"
             ],
             [
              0.8888888888888888,
              "#fdca26"
             ],
             [
              1,
              "#f0f921"
             ]
            ],
            "type": "surface"
           }
          ],
          "table": [
           {
            "cells": {
             "fill": {
              "color": "#506784"
             },
             "line": {
              "color": "rgb(17,17,17)"
             }
            },
            "header": {
             "fill": {
              "color": "#2a3f5f"
             },
             "line": {
              "color": "rgb(17,17,17)"
             }
            },
            "type": "table"
           }
          ]
         },
         "layout": {
          "annotationdefaults": {
           "arrowcolor": "#f2f5fa",
           "arrowhead": 0,
           "arrowwidth": 1
          },
          "autotypenumbers": "strict",
          "coloraxis": {
           "colorbar": {
            "outlinewidth": 0,
            "ticks": ""
           }
          },
          "colorscale": {
           "diverging": [
            [
             0,
             "#8e0152"
            ],
            [
             0.1,
             "#c51b7d"
            ],
            [
             0.2,
             "#de77ae"
            ],
            [
             0.3,
             "#f1b6da"
            ],
            [
             0.4,
             "#fde0ef"
            ],
            [
             0.5,
             "#f7f7f7"
            ],
            [
             0.6,
             "#e6f5d0"
            ],
            [
             0.7,
             "#b8e186"
            ],
            [
             0.8,
             "#7fbc41"
            ],
            [
             0.9,
             "#4d9221"
            ],
            [
             1,
             "#276419"
            ]
           ],
           "sequential": [
            [
             0,
             "#0d0887"
            ],
            [
             0.1111111111111111,
             "#46039f"
            ],
            [
             0.2222222222222222,
             "#7201a8"
            ],
            [
             0.3333333333333333,
             "#9c179e"
            ],
            [
             0.4444444444444444,
             "#bd3786"
            ],
            [
             0.5555555555555556,
             "#d8576b"
            ],
            [
             0.6666666666666666,
             "#ed7953"
            ],
            [
             0.7777777777777778,
             "#fb9f3a"
            ],
            [
             0.8888888888888888,
             "#fdca26"
            ],
            [
             1,
             "#f0f921"
            ]
           ],
           "sequentialminus": [
            [
             0,
             "#0d0887"
            ],
            [
             0.1111111111111111,
             "#46039f"
            ],
            [
             0.2222222222222222,
             "#7201a8"
            ],
            [
             0.3333333333333333,
             "#9c179e"
            ],
            [
             0.4444444444444444,
             "#bd3786"
            ],
            [
             0.5555555555555556,
             "#d8576b"
            ],
            [
             0.6666666666666666,
             "#ed7953"
            ],
            [
             0.7777777777777778,
             "#fb9f3a"
            ],
            [
             0.8888888888888888,
             "#fdca26"
            ],
            [
             1,
             "#f0f921"
            ]
           ]
          },
          "colorway": [
           "#636efa",
           "#EF553B",
           "#00cc96",
           "#ab63fa",
           "#FFA15A",
           "#19d3f3",
           "#FF6692",
           "#B6E880",
           "#FF97FF",
           "#FECB52"
          ],
          "font": {
           "color": "#f2f5fa"
          },
          "geo": {
           "bgcolor": "rgb(17,17,17)",
           "lakecolor": "rgb(17,17,17)",
           "landcolor": "rgb(17,17,17)",
           "showlakes": true,
           "showland": true,
           "subunitcolor": "#506784"
          },
          "hoverlabel": {
           "align": "left"
          },
          "hovermode": "closest",
          "mapbox": {
           "style": "dark"
          },
          "paper_bgcolor": "rgb(17,17,17)",
          "plot_bgcolor": "rgb(17,17,17)",
          "polar": {
           "angularaxis": {
            "gridcolor": "#506784",
            "linecolor": "#506784",
            "ticks": ""
           },
           "bgcolor": "rgb(17,17,17)",
           "radialaxis": {
            "gridcolor": "#506784",
            "linecolor": "#506784",
            "ticks": ""
           }
          },
          "scene": {
           "xaxis": {
            "backgroundcolor": "rgb(17,17,17)",
            "gridcolor": "#506784",
            "gridwidth": 2,
            "linecolor": "#506784",
            "showbackground": true,
            "ticks": "",
            "zerolinecolor": "#C8D4E3"
           },
           "yaxis": {
            "backgroundcolor": "rgb(17,17,17)",
            "gridcolor": "#506784",
            "gridwidth": 2,
            "linecolor": "#506784",
            "showbackground": true,
            "ticks": "",
            "zerolinecolor": "#C8D4E3"
           },
           "zaxis": {
            "backgroundcolor": "rgb(17,17,17)",
            "gridcolor": "#506784",
            "gridwidth": 2,
            "linecolor": "#506784",
            "showbackground": true,
            "ticks": "",
            "zerolinecolor": "#C8D4E3"
           }
          },
          "shapedefaults": {
           "line": {
            "color": "#f2f5fa"
           }
          },
          "sliderdefaults": {
           "bgcolor": "#C8D4E3",
           "bordercolor": "rgb(17,17,17)",
           "borderwidth": 1,
           "tickwidth": 0
          },
          "ternary": {
           "aaxis": {
            "gridcolor": "#506784",
            "linecolor": "#506784",
            "ticks": ""
           },
           "baxis": {
            "gridcolor": "#506784",
            "linecolor": "#506784",
            "ticks": ""
           },
           "bgcolor": "rgb(17,17,17)",
           "caxis": {
            "gridcolor": "#506784",
            "linecolor": "#506784",
            "ticks": ""
           }
          },
          "title": {
           "x": 0.05
          },
          "updatemenudefaults": {
           "bgcolor": "#506784",
           "borderwidth": 0
          },
          "xaxis": {
           "automargin": true,
           "gridcolor": "#283442",
           "linecolor": "#506784",
           "ticks": "",
           "title": {
            "standoff": 15
           },
           "zerolinecolor": "#283442",
           "zerolinewidth": 2
          },
          "yaxis": {
           "automargin": true,
           "gridcolor": "#283442",
           "linecolor": "#506784",
           "ticks": "",
           "title": {
            "standoff": 15
           },
           "zerolinecolor": "#283442",
           "zerolinewidth": 2
          }
         }
        },
        "title": {
         "font": {
          "size": 24
         },
         "text": "📊 Age Distribution with Mean and Median",
         "x": 0.5
        },
        "xaxis": {
         "anchor": "y",
         "domain": [
          0,
          1
         ],
         "title": {
          "text": "Age of Individuals"
         }
        },
        "yaxis": {
         "anchor": "x",
         "domain": [
          0,
          1
         ],
         "title": {
          "text": "Number of People"
         }
        }
       }
      }
     },
     "metadata": {},
     "output_type": "display_data"
    }
   ],
   "source": [
    "# Compute statistics\n",
    "mean_age = data['Age'].mean()\n",
    "median_age = data['Age'].median()\n",
    "\n",
    "# Create histogram\n",
    "fig = px.histogram(\n",
    "    data_frame=data,\n",
    "    x=\"Age\",\n",
    "    nbins=20,\n",
    "    title=\"📊 Age Distribution with Mean and Median\",\n",
    "    template=\"plotly_dark\",\n",
    "    labels={\"Age\": \"Age of Individuals\"},\n",
    "    color_discrete_sequence=[\"#00BFFF\"]  # Light Blue\n",
    ")\n",
    "\n",
    "# Add mean line (Green)\n",
    "fig.add_vline(\n",
    "    x=mean_age,\n",
    "    line_dash=\"dash\",\n",
    "    line_color=\"lime\",\n",
    "    line_width=2,\n",
    "    annotation_text=f\"📈 Mean: {mean_age:.1f}\",\n",
    "    annotation_position=\"top left\",\n",
    "    annotation_font_color=\"lime\",\n",
    "    annotation_bgcolor=\"rgba(0,255,0,0.2)\"\n",
    ")\n",
    "\n",
    "# Add median line (Red)\n",
    "fig.add_vline(\n",
    "    x=median_age,\n",
    "    line_dash=\"dot\",\n",
    "    line_color=\"red\",\n",
    "    line_width=2,\n",
    "    annotation_text=f\"📊 Median: {median_age:.1f}\",\n",
    "    annotation_position=\"top right\",\n",
    "    annotation_font_color=\"red\",\n",
    "    annotation_bgcolor=\"rgba(255,0,0,0.2)\"\n",
    ")\n",
    "\n",
    "# Update layout for better readability\n",
    "fig.update_layout(\n",
    "    xaxis_title=\"Age of Individuals\",\n",
    "    yaxis_title=\"Number of People\",\n",
    "    title_font=dict(size=24),\n",
    "    font=dict(size=14),\n",
    "    bargap=0.1,\n",
    "    title_x=0.5,\n",
    "    legend=dict(orientation=\"h\", y=-0.2)\n",
    ")\n",
    "\n",
    "fig.show()\n"
   ]
  },
  {
   "cell_type": "code",
   "execution_count": 11,
   "id": "b6cd1eba",
   "metadata": {},
   "outputs": [
    {
     "data": {
      "text/plain": [
       "Gender\n",
       "Male      52.01%\n",
       "Female    47.99%\n",
       "Name: proportion, dtype: object"
      ]
     },
     "execution_count": 11,
     "metadata": {},
     "output_type": "execute_result"
    }
   ],
   "source": [
    "gender = data[\"Gender\"].value_counts(normalize=1) * 100\n",
    "gender.apply(lambda x: f\"{x:0.2f}%\")"
   ]
  },
  {
   "cell_type": "code",
   "execution_count": null,
   "id": "f51dc404",
   "metadata": {},
   "outputs": [
    {
     "data": {
      "application/vnd.plotly.v1+json": {
       "config": {
        "plotlyServerURL": "https://plot.ly"
       },
       "data": [
        {
         "hovertemplate": "Gender: %{x}<br>Percentage: %{y:.1f}%",
         "legendgroup": "Male",
         "marker": {
          "color": "#45FFCA",
          "pattern": {
           "shape": ""
          }
         },
         "name": "Male",
         "orientation": "v",
         "showlegend": true,
         "text": [
          "52.0%"
         ],
         "textfont": {
          "color": "#FFFFFF",
          "family": "Arial",
          "size": 16
         },
         "textposition": "outside",
         "type": "bar",
         "x": [
          "Male"
         ],
         "xaxis": "x",
         "y": {
          "bdata": "k0JDZl8BSkA=",
          "dtype": "f8"
         },
         "yaxis": "y"
        },
        {
         "hovertemplate": "Gender: %{x}<br>Percentage: %{y:.1f}%",
         "legendgroup": "Female",
         "marker": {
          "color": "#FF9B9B",
          "pattern": {
           "shape": ""
          }
         },
         "name": "Female",
         "orientation": "v",
         "showlegend": true,
         "text": [
          "48.0%"
         ],
         "textfont": {
          "color": "#FFFFFF",
          "family": "Arial",
          "size": 16
         },
         "textposition": "outside",
         "type": "bar",
         "x": [
          "Female"
         ],
         "xaxis": "x",
         "y": {
          "bdata": "bb28maD+R0A=",
          "dtype": "f8"
         },
         "yaxis": "y"
        }
       ],
       "layout": {
        "barmode": "relative",
        "font": {
         "family": "Arial",
         "size": 14
        },
        "legend": {
         "title": {
          "text": "Gender"
         },
         "tracegroupgap": 0
        },
        "paper_bgcolor": "rgba(0,0,0,0)",
        "plot_bgcolor": "rgba(0,0,0,0)",
        "showlegend": false,
        "template": {
         "data": {
          "bar": [
           {
            "error_x": {
             "color": "#f2f5fa"
            },
            "error_y": {
             "color": "#f2f5fa"
            },
            "marker": {
             "line": {
              "color": "rgb(17,17,17)",
              "width": 0.5
             },
             "pattern": {
              "fillmode": "overlay",
              "size": 10,
              "solidity": 0.2
             }
            },
            "type": "bar"
           }
          ],
          "barpolar": [
           {
            "marker": {
             "line": {
              "color": "rgb(17,17,17)",
              "width": 0.5
             },
             "pattern": {
              "fillmode": "overlay",
              "size": 10,
              "solidity": 0.2
             }
            },
            "type": "barpolar"
           }
          ],
          "carpet": [
           {
            "aaxis": {
             "endlinecolor": "#A2B1C6",
             "gridcolor": "#506784",
             "linecolor": "#506784",
             "minorgridcolor": "#506784",
             "startlinecolor": "#A2B1C6"
            },
            "baxis": {
             "endlinecolor": "#A2B1C6",
             "gridcolor": "#506784",
             "linecolor": "#506784",
             "minorgridcolor": "#506784",
             "startlinecolor": "#A2B1C6"
            },
            "type": "carpet"
           }
          ],
          "choropleth": [
           {
            "colorbar": {
             "outlinewidth": 0,
             "ticks": ""
            },
            "type": "choropleth"
           }
          ],
          "contour": [
           {
            "colorbar": {
             "outlinewidth": 0,
             "ticks": ""
            },
            "colorscale": [
             [
              0,
              "#0d0887"
             ],
             [
              0.1111111111111111,
              "#46039f"
             ],
             [
              0.2222222222222222,
              "#7201a8"
             ],
             [
              0.3333333333333333,
              "#9c179e"
             ],
             [
              0.4444444444444444,
              "#bd3786"
             ],
             [
              0.5555555555555556,
              "#d8576b"
             ],
             [
              0.6666666666666666,
              "#ed7953"
             ],
             [
              0.7777777777777778,
              "#fb9f3a"
             ],
             [
              0.8888888888888888,
              "#fdca26"
             ],
             [
              1,
              "#f0f921"
             ]
            ],
            "type": "contour"
           }
          ],
          "contourcarpet": [
           {
            "colorbar": {
             "outlinewidth": 0,
             "ticks": ""
            },
            "type": "contourcarpet"
           }
          ],
          "heatmap": [
           {
            "colorbar": {
             "outlinewidth": 0,
             "ticks": ""
            },
            "colorscale": [
             [
              0,
              "#0d0887"
             ],
             [
              0.1111111111111111,
              "#46039f"
             ],
             [
              0.2222222222222222,
              "#7201a8"
             ],
             [
              0.3333333333333333,
              "#9c179e"
             ],
             [
              0.4444444444444444,
              "#bd3786"
             ],
             [
              0.5555555555555556,
              "#d8576b"
             ],
             [
              0.6666666666666666,
              "#ed7953"
             ],
             [
              0.7777777777777778,
              "#fb9f3a"
             ],
             [
              0.8888888888888888,
              "#fdca26"
             ],
             [
              1,
              "#f0f921"
             ]
            ],
            "type": "heatmap"
           }
          ],
          "histogram": [
           {
            "marker": {
             "pattern": {
              "fillmode": "overlay",
              "size": 10,
              "solidity": 0.2
             }
            },
            "type": "histogram"
           }
          ],
          "histogram2d": [
           {
            "colorbar": {
             "outlinewidth": 0,
             "ticks": ""
            },
            "colorscale": [
             [
              0,
              "#0d0887"
             ],
             [
              0.1111111111111111,
              "#46039f"
             ],
             [
              0.2222222222222222,
              "#7201a8"
             ],
             [
              0.3333333333333333,
              "#9c179e"
             ],
             [
              0.4444444444444444,
              "#bd3786"
             ],
             [
              0.5555555555555556,
              "#d8576b"
             ],
             [
              0.6666666666666666,
              "#ed7953"
             ],
             [
              0.7777777777777778,
              "#fb9f3a"
             ],
             [
              0.8888888888888888,
              "#fdca26"
             ],
             [
              1,
              "#f0f921"
             ]
            ],
            "type": "histogram2d"
           }
          ],
          "histogram2dcontour": [
           {
            "colorbar": {
             "outlinewidth": 0,
             "ticks": ""
            },
            "colorscale": [
             [
              0,
              "#0d0887"
             ],
             [
              0.1111111111111111,
              "#46039f"
             ],
             [
              0.2222222222222222,
              "#7201a8"
             ],
             [
              0.3333333333333333,
              "#9c179e"
             ],
             [
              0.4444444444444444,
              "#bd3786"
             ],
             [
              0.5555555555555556,
              "#d8576b"
             ],
             [
              0.6666666666666666,
              "#ed7953"
             ],
             [
              0.7777777777777778,
              "#fb9f3a"
             ],
             [
              0.8888888888888888,
              "#fdca26"
             ],
             [
              1,
              "#f0f921"
             ]
            ],
            "type": "histogram2dcontour"
           }
          ],
          "mesh3d": [
           {
            "colorbar": {
             "outlinewidth": 0,
             "ticks": ""
            },
            "type": "mesh3d"
           }
          ],
          "parcoords": [
           {
            "line": {
             "colorbar": {
              "outlinewidth": 0,
              "ticks": ""
             }
            },
            "type": "parcoords"
           }
          ],
          "pie": [
           {
            "automargin": true,
            "type": "pie"
           }
          ],
          "scatter": [
           {
            "marker": {
             "line": {
              "color": "#283442"
             }
            },
            "type": "scatter"
           }
          ],
          "scatter3d": [
           {
            "line": {
             "colorbar": {
              "outlinewidth": 0,
              "ticks": ""
             }
            },
            "marker": {
             "colorbar": {
              "outlinewidth": 0,
              "ticks": ""
             }
            },
            "type": "scatter3d"
           }
          ],
          "scattercarpet": [
           {
            "marker": {
             "colorbar": {
              "outlinewidth": 0,
              "ticks": ""
             }
            },
            "type": "scattercarpet"
           }
          ],
          "scattergeo": [
           {
            "marker": {
             "colorbar": {
              "outlinewidth": 0,
              "ticks": ""
             }
            },
            "type": "scattergeo"
           }
          ],
          "scattergl": [
           {
            "marker": {
             "line": {
              "color": "#283442"
             }
            },
            "type": "scattergl"
           }
          ],
          "scattermap": [
           {
            "marker": {
             "colorbar": {
              "outlinewidth": 0,
              "ticks": ""
             }
            },
            "type": "scattermap"
           }
          ],
          "scattermapbox": [
           {
            "marker": {
             "colorbar": {
              "outlinewidth": 0,
              "ticks": ""
             }
            },
            "type": "scattermapbox"
           }
          ],
          "scatterpolar": [
           {
            "marker": {
             "colorbar": {
              "outlinewidth": 0,
              "ticks": ""
             }
            },
            "type": "scatterpolar"
           }
          ],
          "scatterpolargl": [
           {
            "marker": {
             "colorbar": {
              "outlinewidth": 0,
              "ticks": ""
             }
            },
            "type": "scatterpolargl"
           }
          ],
          "scatterternary": [
           {
            "marker": {
             "colorbar": {
              "outlinewidth": 0,
              "ticks": ""
             }
            },
            "type": "scatterternary"
           }
          ],
          "surface": [
           {
            "colorbar": {
             "outlinewidth": 0,
             "ticks": ""
            },
            "colorscale": [
             [
              0,
              "#0d0887"
             ],
             [
              0.1111111111111111,
              "#46039f"
             ],
             [
              0.2222222222222222,
              "#7201a8"
             ],
             [
              0.3333333333333333,
              "#9c179e"
             ],
             [
              0.4444444444444444,
              "#bd3786"
             ],
             [
              0.5555555555555556,
              "#d8576b"
             ],
             [
              0.6666666666666666,
              "#ed7953"
             ],
             [
              0.7777777777777778,
              "#fb9f3a"
             ],
             [
              0.8888888888888888,
              "#fdca26"
             ],
             [
              1,
              "#f0f921"
             ]
            ],
            "type": "surface"
           }
          ],
          "table": [
           {
            "cells": {
             "fill": {
              "color": "#506784"
             },
             "line": {
              "color": "rgb(17,17,17)"
             }
            },
            "header": {
             "fill": {
              "color": "#2a3f5f"
             },
             "line": {
              "color": "rgb(17,17,17)"
             }
            },
            "type": "table"
           }
          ]
         },
         "layout": {
          "annotationdefaults": {
           "arrowcolor": "#f2f5fa",
           "arrowhead": 0,
           "arrowwidth": 1
          },
          "autotypenumbers": "strict",
          "coloraxis": {
           "colorbar": {
            "outlinewidth": 0,
            "ticks": ""
           }
          },
          "colorscale": {
           "diverging": [
            [
             0,
             "#8e0152"
            ],
            [
             0.1,
             "#c51b7d"
            ],
            [
             0.2,
             "#de77ae"
            ],
            [
             0.3,
             "#f1b6da"
            ],
            [
             0.4,
             "#fde0ef"
            ],
            [
             0.5,
             "#f7f7f7"
            ],
            [
             0.6,
             "#e6f5d0"
            ],
            [
             0.7,
             "#b8e186"
            ],
            [
             0.8,
             "#7fbc41"
            ],
            [
             0.9,
             "#4d9221"
            ],
            [
             1,
             "#276419"
            ]
           ],
           "sequential": [
            [
             0,
             "#0d0887"
            ],
            [
             0.1111111111111111,
             "#46039f"
            ],
            [
             0.2222222222222222,
             "#7201a8"
            ],
            [
             0.3333333333333333,
             "#9c179e"
            ],
            [
             0.4444444444444444,
             "#bd3786"
            ],
            [
             0.5555555555555556,
             "#d8576b"
            ],
            [
             0.6666666666666666,
             "#ed7953"
            ],
            [
             0.7777777777777778,
             "#fb9f3a"
            ],
            [
             0.8888888888888888,
             "#fdca26"
            ],
            [
             1,
             "#f0f921"
            ]
           ],
           "sequentialminus": [
            [
             0,
             "#0d0887"
            ],
            [
             0.1111111111111111,
             "#46039f"
            ],
            [
             0.2222222222222222,
             "#7201a8"
            ],
            [
             0.3333333333333333,
             "#9c179e"
            ],
            [
             0.4444444444444444,
             "#bd3786"
            ],
            [
             0.5555555555555556,
             "#d8576b"
            ],
            [
             0.6666666666666666,
             "#ed7953"
            ],
            [
             0.7777777777777778,
             "#fb9f3a"
            ],
            [
             0.8888888888888888,
             "#fdca26"
            ],
            [
             1,
             "#f0f921"
            ]
           ]
          },
          "colorway": [
           "#636efa",
           "#EF553B",
           "#00cc96",
           "#ab63fa",
           "#FFA15A",
           "#19d3f3",
           "#FF6692",
           "#B6E880",
           "#FF97FF",
           "#FECB52"
          ],
          "font": {
           "color": "#f2f5fa"
          },
          "geo": {
           "bgcolor": "rgb(17,17,17)",
           "lakecolor": "rgb(17,17,17)",
           "landcolor": "rgb(17,17,17)",
           "showlakes": true,
           "showland": true,
           "subunitcolor": "#506784"
          },
          "hoverlabel": {
           "align": "left"
          },
          "hovermode": "closest",
          "mapbox": {
           "style": "dark"
          },
          "paper_bgcolor": "rgb(17,17,17)",
          "plot_bgcolor": "rgb(17,17,17)",
          "polar": {
           "angularaxis": {
            "gridcolor": "#506784",
            "linecolor": "#506784",
            "ticks": ""
           },
           "bgcolor": "rgb(17,17,17)",
           "radialaxis": {
            "gridcolor": "#506784",
            "linecolor": "#506784",
            "ticks": ""
           }
          },
          "scene": {
           "xaxis": {
            "backgroundcolor": "rgb(17,17,17)",
            "gridcolor": "#506784",
            "gridwidth": 2,
            "linecolor": "#506784",
            "showbackground": true,
            "ticks": "",
            "zerolinecolor": "#C8D4E3"
           },
           "yaxis": {
            "backgroundcolor": "rgb(17,17,17)",
            "gridcolor": "#506784",
            "gridwidth": 2,
            "linecolor": "#506784",
            "showbackground": true,
            "ticks": "",
            "zerolinecolor": "#C8D4E3"
           },
           "zaxis": {
            "backgroundcolor": "rgb(17,17,17)",
            "gridcolor": "#506784",
            "gridwidth": 2,
            "linecolor": "#506784",
            "showbackground": true,
            "ticks": "",
            "zerolinecolor": "#C8D4E3"
           }
          },
          "shapedefaults": {
           "line": {
            "color": "#f2f5fa"
           }
          },
          "sliderdefaults": {
           "bgcolor": "#C8D4E3",
           "bordercolor": "rgb(17,17,17)",
           "borderwidth": 1,
           "tickwidth": 0
          },
          "ternary": {
           "aaxis": {
            "gridcolor": "#506784",
            "linecolor": "#506784",
            "ticks": ""
           },
           "baxis": {
            "gridcolor": "#506784",
            "linecolor": "#506784",
            "ticks": ""
           },
           "bgcolor": "rgb(17,17,17)",
           "caxis": {
            "gridcolor": "#506784",
            "linecolor": "#506784",
            "ticks": ""
           }
          },
          "title": {
           "x": 0.05
          },
          "updatemenudefaults": {
           "bgcolor": "#506784",
           "borderwidth": 0
          },
          "xaxis": {
           "automargin": true,
           "gridcolor": "#283442",
           "linecolor": "#506784",
           "ticks": "",
           "title": {
            "standoff": 15
           },
           "zerolinecolor": "#283442",
           "zerolinewidth": 2
          },
          "yaxis": {
           "automargin": true,
           "gridcolor": "#283442",
           "linecolor": "#506784",
           "ticks": "",
           "title": {
            "standoff": 15
           },
           "zerolinecolor": "#283442",
           "zerolinewidth": 2
          }
         }
        },
        "title": {
         "font": {
          "size": 24
         },
         "text": "👥 Gender Distribution in Dataset (in %)",
         "x": 0.5
        },
        "xaxis": {
         "anchor": "y",
         "categoryarray": [
          "Male",
          "Female"
         ],
         "categoryorder": "array",
         "domain": [
          0,
          1
         ],
         "title": {
          "text": "Gender"
         }
        },
        "yaxis": {
         "anchor": "x",
         "domain": [
          0,
          1
         ],
         "title": {
          "text": "Frequency (%)"
         }
        }
       }
      }
     },
     "metadata": {},
     "output_type": "display_data"
    }
   ],
   "source": [
    "# Create bar chart\n",
    "fig = px.bar(\n",
    "    data_frame=gender,\n",
    "    x=gender.index,\n",
    "    y=gender.values,\n",
    "    color=gender.index,\n",
    "    title=\"👥 Gender Distribution in Dataset (in %)\",\n",
    "    labels={\"x\": \"Gender\", \"y\": \"Percentage\"},\n",
    "    color_discrete_sequence=[\"#45FFCA\", \"#FF9B9B\"],\n",
    "    template=\"plotly_dark\",\n",
    "    text=gender.apply(lambda x: f\"{x:.1f}%\")\n",
    ")\n",
    "\n",
    "# Update layout for better readability\n",
    "fig.update_layout(\n",
    "    title_font_size=24,\n",
    "    title_x=0.5,\n",
    "    xaxis_title=\"Gender\",\n",
    "    yaxis_title=\"Frequency (%)\",\n",
    "    font=dict(family=\"Arial\", size=14),\n",
    "    plot_bgcolor=\"rgba(0,0,0,0)\",\n",
    "    paper_bgcolor=\"rgba(0,0,0,0)\",\n",
    "    showlegend=False\n",
    ")\n",
    "\n",
    "    # Update text and hover styling\n",
    "    fig.update_traces(\n",
    "        textposition=\"outside\",\n",
    "        textfont=dict(size=16, family=\"Arial\", color=\"#FFFFFF\"),\n",
    "        hovertemplate=\"Gender: %{x}<br>Percentage: %{y:.1f}%\"\n",
    "    )\n",
    "\n",
    "    # Show the plot\n",
    "    fig.show()\n"
   ]
  },
  {
   "cell_type": "code",
   "execution_count": 13,
   "id": "3af25825",
   "metadata": {},
   "outputs": [
    {
     "data": {
      "application/vnd.plotly.v1+json": {
       "config": {
        "plotlyServerURL": "https://plot.ly"
       },
       "data": [
        {
         "hovertemplate": "Gender: %{x}<br>Percentage: %{y:.1f}%",
         "legendgroup": "Male",
         "marker": {
          "color": "#45FFCA",
          "pattern": {
           "shape": ""
          }
         },
         "name": "Male",
         "orientation": "v",
         "showlegend": true,
         "text": [
          "52.0%"
         ],
         "textfont": {
          "color": "#FFFFFF",
          "family": "Arial",
          "size": 16
         },
         "textposition": "outside",
         "type": "bar",
         "x": [
          "Male"
         ],
         "xaxis": "x",
         "y": {
          "bdata": "k0JDZl8BSkA=",
          "dtype": "f8"
         },
         "yaxis": "y"
        },
        {
         "hovertemplate": "Gender: %{x}<br>Percentage: %{y:.1f}%",
         "legendgroup": "Female",
         "marker": {
          "color": "#FF9B9B",
          "pattern": {
           "shape": ""
          }
         },
         "name": "Female",
         "orientation": "v",
         "showlegend": true,
         "text": [
          "48.0%"
         ],
         "textfont": {
          "color": "#FFFFFF",
          "family": "Arial",
          "size": 16
         },
         "textposition": "outside",
         "type": "bar",
         "x": [
          "Female"
         ],
         "xaxis": "x",
         "y": {
          "bdata": "bb28maD+R0A=",
          "dtype": "f8"
         },
         "yaxis": "y"
        }
       ],
       "layout": {
        "barmode": "relative",
        "font": {
         "family": "Arial",
         "size": 14
        },
        "height": 600,
        "legend": {
         "title": {
          "text": "Gender"
         },
         "tracegroupgap": 0
        },
        "paper_bgcolor": "rgba(0,0,0,0)",
        "plot_bgcolor": "rgba(0,0,0,0)",
        "showlegend": false,
        "template": {
         "data": {
          "bar": [
           {
            "error_x": {
             "color": "#f2f5fa"
            },
            "error_y": {
             "color": "#f2f5fa"
            },
            "marker": {
             "line": {
              "color": "rgb(17,17,17)",
              "width": 0.5
             },
             "pattern": {
              "fillmode": "overlay",
              "size": 10,
              "solidity": 0.2
             }
            },
            "type": "bar"
           }
          ],
          "barpolar": [
           {
            "marker": {
             "line": {
              "color": "rgb(17,17,17)",
              "width": 0.5
             },
             "pattern": {
              "fillmode": "overlay",
              "size": 10,
              "solidity": 0.2
             }
            },
            "type": "barpolar"
           }
          ],
          "carpet": [
           {
            "aaxis": {
             "endlinecolor": "#A2B1C6",
             "gridcolor": "#506784",
             "linecolor": "#506784",
             "minorgridcolor": "#506784",
             "startlinecolor": "#A2B1C6"
            },
            "baxis": {
             "endlinecolor": "#A2B1C6",
             "gridcolor": "#506784",
             "linecolor": "#506784",
             "minorgridcolor": "#506784",
             "startlinecolor": "#A2B1C6"
            },
            "type": "carpet"
           }
          ],
          "choropleth": [
           {
            "colorbar": {
             "outlinewidth": 0,
             "ticks": ""
            },
            "type": "choropleth"
           }
          ],
          "contour": [
           {
            "colorbar": {
             "outlinewidth": 0,
             "ticks": ""
            },
            "colorscale": [
             [
              0,
              "#0d0887"
             ],
             [
              0.1111111111111111,
              "#46039f"
             ],
             [
              0.2222222222222222,
              "#7201a8"
             ],
             [
              0.3333333333333333,
              "#9c179e"
             ],
             [
              0.4444444444444444,
              "#bd3786"
             ],
             [
              0.5555555555555556,
              "#d8576b"
             ],
             [
              0.6666666666666666,
              "#ed7953"
             ],
             [
              0.7777777777777778,
              "#fb9f3a"
             ],
             [
              0.8888888888888888,
              "#fdca26"
             ],
             [
              1,
              "#f0f921"
             ]
            ],
            "type": "contour"
           }
          ],
          "contourcarpet": [
           {
            "colorbar": {
             "outlinewidth": 0,
             "ticks": ""
            },
            "type": "contourcarpet"
           }
          ],
          "heatmap": [
           {
            "colorbar": {
             "outlinewidth": 0,
             "ticks": ""
            },
            "colorscale": [
             [
              0,
              "#0d0887"
             ],
             [
              0.1111111111111111,
              "#46039f"
             ],
             [
              0.2222222222222222,
              "#7201a8"
             ],
             [
              0.3333333333333333,
              "#9c179e"
             ],
             [
              0.4444444444444444,
              "#bd3786"
             ],
             [
              0.5555555555555556,
              "#d8576b"
             ],
             [
              0.6666666666666666,
              "#ed7953"
             ],
             [
              0.7777777777777778,
              "#fb9f3a"
             ],
             [
              0.8888888888888888,
              "#fdca26"
             ],
             [
              1,
              "#f0f921"
             ]
            ],
            "type": "heatmap"
           }
          ],
          "histogram": [
           {
            "marker": {
             "pattern": {
              "fillmode": "overlay",
              "size": 10,
              "solidity": 0.2
             }
            },
            "type": "histogram"
           }
          ],
          "histogram2d": [
           {
            "colorbar": {
             "outlinewidth": 0,
             "ticks": ""
            },
            "colorscale": [
             [
              0,
              "#0d0887"
             ],
             [
              0.1111111111111111,
              "#46039f"
             ],
             [
              0.2222222222222222,
              "#7201a8"
             ],
             [
              0.3333333333333333,
              "#9c179e"
             ],
             [
              0.4444444444444444,
              "#bd3786"
             ],
             [
              0.5555555555555556,
              "#d8576b"
             ],
             [
              0.6666666666666666,
              "#ed7953"
             ],
             [
              0.7777777777777778,
              "#fb9f3a"
             ],
             [
              0.8888888888888888,
              "#fdca26"
             ],
             [
              1,
              "#f0f921"
             ]
            ],
            "type": "histogram2d"
           }
          ],
          "histogram2dcontour": [
           {
            "colorbar": {
             "outlinewidth": 0,
             "ticks": ""
            },
            "colorscale": [
             [
              0,
              "#0d0887"
             ],
             [
              0.1111111111111111,
              "#46039f"
             ],
             [
              0.2222222222222222,
              "#7201a8"
             ],
             [
              0.3333333333333333,
              "#9c179e"
             ],
             [
              0.4444444444444444,
              "#bd3786"
             ],
             [
              0.5555555555555556,
              "#d8576b"
             ],
             [
              0.6666666666666666,
              "#ed7953"
             ],
             [
              0.7777777777777778,
              "#fb9f3a"
             ],
             [
              0.8888888888888888,
              "#fdca26"
             ],
             [
              1,
              "#f0f921"
             ]
            ],
            "type": "histogram2dcontour"
           }
          ],
          "mesh3d": [
           {
            "colorbar": {
             "outlinewidth": 0,
             "ticks": ""
            },
            "type": "mesh3d"
           }
          ],
          "parcoords": [
           {
            "line": {
             "colorbar": {
              "outlinewidth": 0,
              "ticks": ""
             }
            },
            "type": "parcoords"
           }
          ],
          "pie": [
           {
            "automargin": true,
            "type": "pie"
           }
          ],
          "scatter": [
           {
            "marker": {
             "line": {
              "color": "#283442"
             }
            },
            "type": "scatter"
           }
          ],
          "scatter3d": [
           {
            "line": {
             "colorbar": {
              "outlinewidth": 0,
              "ticks": ""
             }
            },
            "marker": {
             "colorbar": {
              "outlinewidth": 0,
              "ticks": ""
             }
            },
            "type": "scatter3d"
           }
          ],
          "scattercarpet": [
           {
            "marker": {
             "colorbar": {
              "outlinewidth": 0,
              "ticks": ""
             }
            },
            "type": "scattercarpet"
           }
          ],
          "scattergeo": [
           {
            "marker": {
             "colorbar": {
              "outlinewidth": 0,
              "ticks": ""
             }
            },
            "type": "scattergeo"
           }
          ],
          "scattergl": [
           {
            "marker": {
             "line": {
              "color": "#283442"
             }
            },
            "type": "scattergl"
           }
          ],
          "scattermap": [
           {
            "marker": {
             "colorbar": {
              "outlinewidth": 0,
              "ticks": ""
             }
            },
            "type": "scattermap"
           }
          ],
          "scattermapbox": [
           {
            "marker": {
             "colorbar": {
              "outlinewidth": 0,
              "ticks": ""
             }
            },
            "type": "scattermapbox"
           }
          ],
          "scatterpolar": [
           {
            "marker": {
             "colorbar": {
              "outlinewidth": 0,
              "ticks": ""
             }
            },
            "type": "scatterpolar"
           }
          ],
          "scatterpolargl": [
           {
            "marker": {
             "colorbar": {
              "outlinewidth": 0,
              "ticks": ""
             }
            },
            "type": "scatterpolargl"
           }
          ],
          "scatterternary": [
           {
            "marker": {
             "colorbar": {
              "outlinewidth": 0,
              "ticks": ""
             }
            },
            "type": "scatterternary"
           }
          ],
          "surface": [
           {
            "colorbar": {
             "outlinewidth": 0,
             "ticks": ""
            },
            "colorscale": [
             [
              0,
              "#0d0887"
             ],
             [
              0.1111111111111111,
              "#46039f"
             ],
             [
              0.2222222222222222,
              "#7201a8"
             ],
             [
              0.3333333333333333,
              "#9c179e"
             ],
             [
              0.4444444444444444,
              "#bd3786"
             ],
             [
              0.5555555555555556,
              "#d8576b"
             ],
             [
              0.6666666666666666,
              "#ed7953"
             ],
             [
              0.7777777777777778,
              "#fb9f3a"
             ],
             [
              0.8888888888888888,
              "#fdca26"
             ],
             [
              1,
              "#f0f921"
             ]
            ],
            "type": "surface"
           }
          ],
          "table": [
           {
            "cells": {
             "fill": {
              "color": "#506784"
             },
             "line": {
              "color": "rgb(17,17,17)"
             }
            },
            "header": {
             "fill": {
              "color": "#2a3f5f"
             },
             "line": {
              "color": "rgb(17,17,17)"
             }
            },
            "type": "table"
           }
          ]
         },
         "layout": {
          "annotationdefaults": {
           "arrowcolor": "#f2f5fa",
           "arrowhead": 0,
           "arrowwidth": 1
          },
          "autotypenumbers": "strict",
          "coloraxis": {
           "colorbar": {
            "outlinewidth": 0,
            "ticks": ""
           }
          },
          "colorscale": {
           "diverging": [
            [
             0,
             "#8e0152"
            ],
            [
             0.1,
             "#c51b7d"
            ],
            [
             0.2,
             "#de77ae"
            ],
            [
             0.3,
             "#f1b6da"
            ],
            [
             0.4,
             "#fde0ef"
            ],
            [
             0.5,
             "#f7f7f7"
            ],
            [
             0.6,
             "#e6f5d0"
            ],
            [
             0.7,
             "#b8e186"
            ],
            [
             0.8,
             "#7fbc41"
            ],
            [
             0.9,
             "#4d9221"
            ],
            [
             1,
             "#276419"
            ]
           ],
           "sequential": [
            [
             0,
             "#0d0887"
            ],
            [
             0.1111111111111111,
             "#46039f"
            ],
            [
             0.2222222222222222,
             "#7201a8"
            ],
            [
             0.3333333333333333,
             "#9c179e"
            ],
            [
             0.4444444444444444,
             "#bd3786"
            ],
            [
             0.5555555555555556,
             "#d8576b"
            ],
            [
             0.6666666666666666,
             "#ed7953"
            ],
            [
             0.7777777777777778,
             "#fb9f3a"
            ],
            [
             0.8888888888888888,
             "#fdca26"
            ],
            [
             1,
             "#f0f921"
            ]
           ],
           "sequentialminus": [
            [
             0,
             "#0d0887"
            ],
            [
             0.1111111111111111,
             "#46039f"
            ],
            [
             0.2222222222222222,
             "#7201a8"
            ],
            [
             0.3333333333333333,
             "#9c179e"
            ],
            [
             0.4444444444444444,
             "#bd3786"
            ],
            [
             0.5555555555555556,
             "#d8576b"
            ],
            [
             0.6666666666666666,
             "#ed7953"
            ],
            [
             0.7777777777777778,
             "#fb9f3a"
            ],
            [
             0.8888888888888888,
             "#fdca26"
            ],
            [
             1,
             "#f0f921"
            ]
           ]
          },
          "colorway": [
           "#636efa",
           "#EF553B",
           "#00cc96",
           "#ab63fa",
           "#FFA15A",
           "#19d3f3",
           "#FF6692",
           "#B6E880",
           "#FF97FF",
           "#FECB52"
          ],
          "font": {
           "color": "#f2f5fa"
          },
          "geo": {
           "bgcolor": "rgb(17,17,17)",
           "lakecolor": "rgb(17,17,17)",
           "landcolor": "rgb(17,17,17)",
           "showlakes": true,
           "showland": true,
           "subunitcolor": "#506784"
          },
          "hoverlabel": {
           "align": "left"
          },
          "hovermode": "closest",
          "mapbox": {
           "style": "dark"
          },
          "paper_bgcolor": "rgb(17,17,17)",
          "plot_bgcolor": "rgb(17,17,17)",
          "polar": {
           "angularaxis": {
            "gridcolor": "#506784",
            "linecolor": "#506784",
            "ticks": ""
           },
           "bgcolor": "rgb(17,17,17)",
           "radialaxis": {
            "gridcolor": "#506784",
            "linecolor": "#506784",
            "ticks": ""
           }
          },
          "scene": {
           "xaxis": {
            "backgroundcolor": "rgb(17,17,17)",
            "gridcolor": "#506784",
            "gridwidth": 2,
            "linecolor": "#506784",
            "showbackground": true,
            "ticks": "",
            "zerolinecolor": "#C8D4E3"
           },
           "yaxis": {
            "backgroundcolor": "rgb(17,17,17)",
            "gridcolor": "#506784",
            "gridwidth": 2,
            "linecolor": "#506784",
            "showbackground": true,
            "ticks": "",
            "zerolinecolor": "#C8D4E3"
           },
           "zaxis": {
            "backgroundcolor": "rgb(17,17,17)",
            "gridcolor": "#506784",
            "gridwidth": 2,
            "linecolor": "#506784",
            "showbackground": true,
            "ticks": "",
            "zerolinecolor": "#C8D4E3"
           }
          },
          "shapedefaults": {
           "line": {
            "color": "#f2f5fa"
           }
          },
          "sliderdefaults": {
           "bgcolor": "#C8D4E3",
           "bordercolor": "rgb(17,17,17)",
           "borderwidth": 1,
           "tickwidth": 0
          },
          "ternary": {
           "aaxis": {
            "gridcolor": "#506784",
            "linecolor": "#506784",
            "ticks": ""
           },
           "baxis": {
            "gridcolor": "#506784",
            "linecolor": "#506784",
            "ticks": ""
           },
           "bgcolor": "rgb(17,17,17)",
           "caxis": {
            "gridcolor": "#506784",
            "linecolor": "#506784",
            "ticks": ""
           }
          },
          "title": {
           "x": 0.05
          },
          "updatemenudefaults": {
           "bgcolor": "#506784",
           "borderwidth": 0
          },
          "xaxis": {
           "automargin": true,
           "gridcolor": "#283442",
           "linecolor": "#506784",
           "ticks": "",
           "title": {
            "standoff": 15
           },
           "zerolinecolor": "#283442",
           "zerolinewidth": 2
          },
          "yaxis": {
           "automargin": true,
           "gridcolor": "#283442",
           "linecolor": "#506784",
           "ticks": "",
           "title": {
            "standoff": 15
           },
           "zerolinecolor": "#283442",
           "zerolinewidth": 2
          }
         }
        },
        "title": {
         "font": {
          "size": 20
         },
         "text": "👥 Gender Distribution in Dataset (in %)",
         "x": 0.5
        },
        "xaxis": {
         "anchor": "y",
         "categoryarray": [
          "Male",
          "Female"
         ],
         "categoryorder": "array",
         "domain": [
          0,
          1
         ],
         "title": {
          "text": "Gender"
         }
        },
        "yaxis": {
         "anchor": "x",
         "domain": [
          0,
          1
         ],
         "title": {
          "text": "Frequency (%)"
         }
        }
       }
      }
     },
     "metadata": {},
     "output_type": "display_data"
    }
   ],
   "source": [
    "\n",
    "# Create bar chart\n",
    "fig = px.bar(\n",
    "    data_frame=gender,\n",
    "    x=gender.index,\n",
    "    y=gender.values,\n",
    "    color=gender.index,\n",
    "    title=\"👥 Gender Distribution in Dataset (in %)\",\n",
    "    labels={\"x\": \"Gender\", \"y\": \"Percentage\"},\n",
    "    color_discrete_sequence=[\"#45FFCA\", \"#FF9B9B\"],\n",
    "    template=\"plotly_dark\",\n",
    "    height=600,  # <- Increased height here\n",
    "    text=gender.apply(lambda x: f\"{x:.1f}%\")\n",
    "    \n",
    ")\n",
    "\n",
    "# Update layout for better readability\n",
    "fig.update_layout(\n",
    "    title_font_size=20,\n",
    "    title_x=0.5,\n",
    "    xaxis_title=\"Gender\",\n",
    "    yaxis_title=\"Frequency (%)\",\n",
    "    font=dict(family=\"Arial\", size=14),\n",
    "    plot_bgcolor=\"rgba(0,0,0,0)\",\n",
    "    paper_bgcolor=\"rgba(0,0,0,0)\",\n",
    "    showlegend=False\n",
    "    \n",
    ")\n",
    "\n",
    "# Update text and hover styling\n",
    "fig.update_traces(\n",
    "    textposition=\"outside\",\n",
    "    textfont=dict(size=16, family=\"Arial\", color=\"#FFFFFF\"),\n",
    "    hovertemplate=\"Gender: %{x}<br>Percentage: %{y:.1f}%\"\n",
    ")\n",
    "\n",
    "# Show the plot\n",
    "fig.show()\n"
   ]
  },
  {
   "cell_type": "code",
   "execution_count": 14,
   "id": "7ec49402",
   "metadata": {},
   "outputs": [
    {
     "data": {
      "text/plain": [
       "Education Level\n",
       "Bachelor's    60.05%\n",
       "Master's      26.27%\n",
       "PhD           13.67%\n",
       "Name: proportion, dtype: object"
      ]
     },
     "execution_count": 14,
     "metadata": {},
     "output_type": "execute_result"
    }
   ],
   "source": [
    "education = data[\"Education Level\"].value_counts(normalize=1) * 100\n",
    "education.apply(lambda x: f\"{x:0.2f}%\")"
   ]
  },
  {
   "cell_type": "code",
   "execution_count": 15,
   "id": "461d69dc",
   "metadata": {},
   "outputs": [
    {
     "data": {
      "application/vnd.plotly.v1+json": {
       "config": {
        "plotlyServerURL": "https://plot.ly"
       },
       "data": [
        {
         "hovertemplate": "Education Level: %{x}<br>Percentage: %{y:.2f}%",
         "legendgroup": "Bachelor's",
         "marker": {
          "color": "rgb(141,211,199)",
          "pattern": {
           "shape": ""
          }
         },
         "name": "Bachelor's",
         "orientation": "v",
         "showlegend": true,
         "text": [
          "60.1%"
         ],
         "textfont": {
          "color": "white",
          "size": 14
         },
         "textposition": "outside",
         "type": "bar",
         "x": [
          "Bachelor's"
         ],
         "xaxis": "x",
         "y": {
          "bdata": "3kxQ/9wGTkA=",
          "dtype": "f8"
         },
         "yaxis": "y"
        },
        {
         "hovertemplate": "Education Level: %{x}<br>Percentage: %{y:.2f}%",
         "legendgroup": "Master's",
         "marker": {
          "color": "rgb(255,255,179)",
          "pattern": {
           "shape": ""
          }
         },
         "name": "Master's",
         "orientation": "v",
         "showlegend": true,
         "text": [
          "26.3%"
         ],
         "textfont": {
          "color": "white",
          "size": 14
         },
         "textposition": "outside",
         "type": "bar",
         "x": [
          "Master's"
         ],
         "xaxis": "x",
         "y": {
          "bdata": "Q0NmXwFGOkA=",
          "dtype": "f8"
         },
         "yaxis": "y"
        },
        {
         "hovertemplate": "Education Level: %{x}<br>Percentage: %{y:.2f}%",
         "legendgroup": "PhD",
         "marker": {
          "color": "rgb(190,186,218)",
          "pattern": {
           "shape": ""
          }
         },
         "name": "PhD",
         "orientation": "v",
         "showlegend": true,
         "text": [
          "13.7%"
         ],
         "textfont": {
          "color": "white",
          "size": 14
         },
         "textposition": "outside",
         "type": "bar",
         "x": [
          "PhD"
         ],
         "xaxis": "x",
         "y": {
          "bdata": "AkbyQ4lYK0A=",
          "dtype": "f8"
         },
         "yaxis": "y"
        }
       ],
       "layout": {
        "barmode": "relative",
        "font": {
         "family": "Arial",
         "size": 14
        },
        "height": 600,
        "legend": {
         "title": {
          "text": "color"
         },
         "tracegroupgap": 0
        },
        "plot_bgcolor": "rgba(0,0,0,0)",
        "showlegend": false,
        "template": {
         "data": {
          "bar": [
           {
            "error_x": {
             "color": "#f2f5fa"
            },
            "error_y": {
             "color": "#f2f5fa"
            },
            "marker": {
             "line": {
              "color": "rgb(17,17,17)",
              "width": 0.5
             },
             "pattern": {
              "fillmode": "overlay",
              "size": 10,
              "solidity": 0.2
             }
            },
            "type": "bar"
           }
          ],
          "barpolar": [
           {
            "marker": {
             "line": {
              "color": "rgb(17,17,17)",
              "width": 0.5
             },
             "pattern": {
              "fillmode": "overlay",
              "size": 10,
              "solidity": 0.2
             }
            },
            "type": "barpolar"
           }
          ],
          "carpet": [
           {
            "aaxis": {
             "endlinecolor": "#A2B1C6",
             "gridcolor": "#506784",
             "linecolor": "#506784",
             "minorgridcolor": "#506784",
             "startlinecolor": "#A2B1C6"
            },
            "baxis": {
             "endlinecolor": "#A2B1C6",
             "gridcolor": "#506784",
             "linecolor": "#506784",
             "minorgridcolor": "#506784",
             "startlinecolor": "#A2B1C6"
            },
            "type": "carpet"
           }
          ],
          "choropleth": [
           {
            "colorbar": {
             "outlinewidth": 0,
             "ticks": ""
            },
            "type": "choropleth"
           }
          ],
          "contour": [
           {
            "colorbar": {
             "outlinewidth": 0,
             "ticks": ""
            },
            "colorscale": [
             [
              0,
              "#0d0887"
             ],
             [
              0.1111111111111111,
              "#46039f"
             ],
             [
              0.2222222222222222,
              "#7201a8"
             ],
             [
              0.3333333333333333,
              "#9c179e"
             ],
             [
              0.4444444444444444,
              "#bd3786"
             ],
             [
              0.5555555555555556,
              "#d8576b"
             ],
             [
              0.6666666666666666,
              "#ed7953"
             ],
             [
              0.7777777777777778,
              "#fb9f3a"
             ],
             [
              0.8888888888888888,
              "#fdca26"
             ],
             [
              1,
              "#f0f921"
             ]
            ],
            "type": "contour"
           }
          ],
          "contourcarpet": [
           {
            "colorbar": {
             "outlinewidth": 0,
             "ticks": ""
            },
            "type": "contourcarpet"
           }
          ],
          "heatmap": [
           {
            "colorbar": {
             "outlinewidth": 0,
             "ticks": ""
            },
            "colorscale": [
             [
              0,
              "#0d0887"
             ],
             [
              0.1111111111111111,
              "#46039f"
             ],
             [
              0.2222222222222222,
              "#7201a8"
             ],
             [
              0.3333333333333333,
              "#9c179e"
             ],
             [
              0.4444444444444444,
              "#bd3786"
             ],
             [
              0.5555555555555556,
              "#d8576b"
             ],
             [
              0.6666666666666666,
              "#ed7953"
             ],
             [
              0.7777777777777778,
              "#fb9f3a"
             ],
             [
              0.8888888888888888,
              "#fdca26"
             ],
             [
              1,
              "#f0f921"
             ]
            ],
            "type": "heatmap"
           }
          ],
          "histogram": [
           {
            "marker": {
             "pattern": {
              "fillmode": "overlay",
              "size": 10,
              "solidity": 0.2
             }
            },
            "type": "histogram"
           }
          ],
          "histogram2d": [
           {
            "colorbar": {
             "outlinewidth": 0,
             "ticks": ""
            },
            "colorscale": [
             [
              0,
              "#0d0887"
             ],
             [
              0.1111111111111111,
              "#46039f"
             ],
             [
              0.2222222222222222,
              "#7201a8"
             ],
             [
              0.3333333333333333,
              "#9c179e"
             ],
             [
              0.4444444444444444,
              "#bd3786"
             ],
             [
              0.5555555555555556,
              "#d8576b"
             ],
             [
              0.6666666666666666,
              "#ed7953"
             ],
             [
              0.7777777777777778,
              "#fb9f3a"
             ],
             [
              0.8888888888888888,
              "#fdca26"
             ],
             [
              1,
              "#f0f921"
             ]
            ],
            "type": "histogram2d"
           }
          ],
          "histogram2dcontour": [
           {
            "colorbar": {
             "outlinewidth": 0,
             "ticks": ""
            },
            "colorscale": [
             [
              0,
              "#0d0887"
             ],
             [
              0.1111111111111111,
              "#46039f"
             ],
             [
              0.2222222222222222,
              "#7201a8"
             ],
             [
              0.3333333333333333,
              "#9c179e"
             ],
             [
              0.4444444444444444,
              "#bd3786"
             ],
             [
              0.5555555555555556,
              "#d8576b"
             ],
             [
              0.6666666666666666,
              "#ed7953"
             ],
             [
              0.7777777777777778,
              "#fb9f3a"
             ],
             [
              0.8888888888888888,
              "#fdca26"
             ],
             [
              1,
              "#f0f921"
             ]
            ],
            "type": "histogram2dcontour"
           }
          ],
          "mesh3d": [
           {
            "colorbar": {
             "outlinewidth": 0,
             "ticks": ""
            },
            "type": "mesh3d"
           }
          ],
          "parcoords": [
           {
            "line": {
             "colorbar": {
              "outlinewidth": 0,
              "ticks": ""
             }
            },
            "type": "parcoords"
           }
          ],
          "pie": [
           {
            "automargin": true,
            "type": "pie"
           }
          ],
          "scatter": [
           {
            "marker": {
             "line": {
              "color": "#283442"
             }
            },
            "type": "scatter"
           }
          ],
          "scatter3d": [
           {
            "line": {
             "colorbar": {
              "outlinewidth": 0,
              "ticks": ""
             }
            },
            "marker": {
             "colorbar": {
              "outlinewidth": 0,
              "ticks": ""
             }
            },
            "type": "scatter3d"
           }
          ],
          "scattercarpet": [
           {
            "marker": {
             "colorbar": {
              "outlinewidth": 0,
              "ticks": ""
             }
            },
            "type": "scattercarpet"
           }
          ],
          "scattergeo": [
           {
            "marker": {
             "colorbar": {
              "outlinewidth": 0,
              "ticks": ""
             }
            },
            "type": "scattergeo"
           }
          ],
          "scattergl": [
           {
            "marker": {
             "line": {
              "color": "#283442"
             }
            },
            "type": "scattergl"
           }
          ],
          "scattermap": [
           {
            "marker": {
             "colorbar": {
              "outlinewidth": 0,
              "ticks": ""
             }
            },
            "type": "scattermap"
           }
          ],
          "scattermapbox": [
           {
            "marker": {
             "colorbar": {
              "outlinewidth": 0,
              "ticks": ""
             }
            },
            "type": "scattermapbox"
           }
          ],
          "scatterpolar": [
           {
            "marker": {
             "colorbar": {
              "outlinewidth": 0,
              "ticks": ""
             }
            },
            "type": "scatterpolar"
           }
          ],
          "scatterpolargl": [
           {
            "marker": {
             "colorbar": {
              "outlinewidth": 0,
              "ticks": ""
             }
            },
            "type": "scatterpolargl"
           }
          ],
          "scatterternary": [
           {
            "marker": {
             "colorbar": {
              "outlinewidth": 0,
              "ticks": ""
             }
            },
            "type": "scatterternary"
           }
          ],
          "surface": [
           {
            "colorbar": {
             "outlinewidth": 0,
             "ticks": ""
            },
            "colorscale": [
             [
              0,
              "#0d0887"
             ],
             [
              0.1111111111111111,
              "#46039f"
             ],
             [
              0.2222222222222222,
              "#7201a8"
             ],
             [
              0.3333333333333333,
              "#9c179e"
             ],
             [
              0.4444444444444444,
              "#bd3786"
             ],
             [
              0.5555555555555556,
              "#d8576b"
             ],
             [
              0.6666666666666666,
              "#ed7953"
             ],
             [
              0.7777777777777778,
              "#fb9f3a"
             ],
             [
              0.8888888888888888,
              "#fdca26"
             ],
             [
              1,
              "#f0f921"
             ]
            ],
            "type": "surface"
           }
          ],
          "table": [
           {
            "cells": {
             "fill": {
              "color": "#506784"
             },
             "line": {
              "color": "rgb(17,17,17)"
             }
            },
            "header": {
             "fill": {
              "color": "#2a3f5f"
             },
             "line": {
              "color": "rgb(17,17,17)"
             }
            },
            "type": "table"
           }
          ]
         },
         "layout": {
          "annotationdefaults": {
           "arrowcolor": "#f2f5fa",
           "arrowhead": 0,
           "arrowwidth": 1
          },
          "autotypenumbers": "strict",
          "coloraxis": {
           "colorbar": {
            "outlinewidth": 0,
            "ticks": ""
           }
          },
          "colorscale": {
           "diverging": [
            [
             0,
             "#8e0152"
            ],
            [
             0.1,
             "#c51b7d"
            ],
            [
             0.2,
             "#de77ae"
            ],
            [
             0.3,
             "#f1b6da"
            ],
            [
             0.4,
             "#fde0ef"
            ],
            [
             0.5,
             "#f7f7f7"
            ],
            [
             0.6,
             "#e6f5d0"
            ],
            [
             0.7,
             "#b8e186"
            ],
            [
             0.8,
             "#7fbc41"
            ],
            [
             0.9,
             "#4d9221"
            ],
            [
             1,
             "#276419"
            ]
           ],
           "sequential": [
            [
             0,
             "#0d0887"
            ],
            [
             0.1111111111111111,
             "#46039f"
            ],
            [
             0.2222222222222222,
             "#7201a8"
            ],
            [
             0.3333333333333333,
             "#9c179e"
            ],
            [
             0.4444444444444444,
             "#bd3786"
            ],
            [
             0.5555555555555556,
             "#d8576b"
            ],
            [
             0.6666666666666666,
             "#ed7953"
            ],
            [
             0.7777777777777778,
             "#fb9f3a"
            ],
            [
             0.8888888888888888,
             "#fdca26"
            ],
            [
             1,
             "#f0f921"
            ]
           ],
           "sequentialminus": [
            [
             0,
             "#0d0887"
            ],
            [
             0.1111111111111111,
             "#46039f"
            ],
            [
             0.2222222222222222,
             "#7201a8"
            ],
            [
             0.3333333333333333,
             "#9c179e"
            ],
            [
             0.4444444444444444,
             "#bd3786"
            ],
            [
             0.5555555555555556,
             "#d8576b"
            ],
            [
             0.6666666666666666,
             "#ed7953"
            ],
            [
             0.7777777777777778,
             "#fb9f3a"
            ],
            [
             0.8888888888888888,
             "#fdca26"
            ],
            [
             1,
             "#f0f921"
            ]
           ]
          },
          "colorway": [
           "#636efa",
           "#EF553B",
           "#00cc96",
           "#ab63fa",
           "#FFA15A",
           "#19d3f3",
           "#FF6692",
           "#B6E880",
           "#FF97FF",
           "#FECB52"
          ],
          "font": {
           "color": "#f2f5fa"
          },
          "geo": {
           "bgcolor": "rgb(17,17,17)",
           "lakecolor": "rgb(17,17,17)",
           "landcolor": "rgb(17,17,17)",
           "showlakes": true,
           "showland": true,
           "subunitcolor": "#506784"
          },
          "hoverlabel": {
           "align": "left"
          },
          "hovermode": "closest",
          "mapbox": {
           "style": "dark"
          },
          "paper_bgcolor": "rgb(17,17,17)",
          "plot_bgcolor": "rgb(17,17,17)",
          "polar": {
           "angularaxis": {
            "gridcolor": "#506784",
            "linecolor": "#506784",
            "ticks": ""
           },
           "bgcolor": "rgb(17,17,17)",
           "radialaxis": {
            "gridcolor": "#506784",
            "linecolor": "#506784",
            "ticks": ""
           }
          },
          "scene": {
           "xaxis": {
            "backgroundcolor": "rgb(17,17,17)",
            "gridcolor": "#506784",
            "gridwidth": 2,
            "linecolor": "#506784",
            "showbackground": true,
            "ticks": "",
            "zerolinecolor": "#C8D4E3"
           },
           "yaxis": {
            "backgroundcolor": "rgb(17,17,17)",
            "gridcolor": "#506784",
            "gridwidth": 2,
            "linecolor": "#506784",
            "showbackground": true,
            "ticks": "",
            "zerolinecolor": "#C8D4E3"
           },
           "zaxis": {
            "backgroundcolor": "rgb(17,17,17)",
            "gridcolor": "#506784",
            "gridwidth": 2,
            "linecolor": "#506784",
            "showbackground": true,
            "ticks": "",
            "zerolinecolor": "#C8D4E3"
           }
          },
          "shapedefaults": {
           "line": {
            "color": "#f2f5fa"
           }
          },
          "sliderdefaults": {
           "bgcolor": "#C8D4E3",
           "bordercolor": "rgb(17,17,17)",
           "borderwidth": 1,
           "tickwidth": 0
          },
          "ternary": {
           "aaxis": {
            "gridcolor": "#506784",
            "linecolor": "#506784",
            "ticks": ""
           },
           "baxis": {
            "gridcolor": "#506784",
            "linecolor": "#506784",
            "ticks": ""
           },
           "bgcolor": "rgb(17,17,17)",
           "caxis": {
            "gridcolor": "#506784",
            "linecolor": "#506784",
            "ticks": ""
           }
          },
          "title": {
           "x": 0.05
          },
          "updatemenudefaults": {
           "bgcolor": "#506784",
           "borderwidth": 0
          },
          "xaxis": {
           "automargin": true,
           "gridcolor": "#283442",
           "linecolor": "#506784",
           "ticks": "",
           "title": {
            "standoff": 15
           },
           "zerolinecolor": "#283442",
           "zerolinewidth": 2
          },
          "yaxis": {
           "automargin": true,
           "gridcolor": "#283442",
           "linecolor": "#506784",
           "ticks": "",
           "title": {
            "standoff": 15
           },
           "zerolinecolor": "#283442",
           "zerolinewidth": 2
          }
         }
        },
        "title": {
         "text": "🎓 Education Level Distribution (in %)",
         "x": 0.5
        },
        "xaxis": {
         "anchor": "y",
         "domain": [
          0,
          1
         ],
         "title": {
          "text": "Education Level"
         }
        },
        "yaxis": {
         "anchor": "x",
         "domain": [
          0,
          1
         ],
         "title": {
          "text": "Frequency (%)"
         }
        }
       }
      }
     },
     "metadata": {},
     "output_type": "display_data"
    }
   ],
   "source": [
    "\n",
    "\n",
    "# Step 2: Create the bar chart with increased height\n",
    "fig = px.bar(\n",
    "    x=education.index,\n",
    "    y=education.values,\n",
    "    color=education.index,\n",
    "    text=education.apply(lambda x: f\"{x:.1f}%\"),\n",
    "    title=\"🎓 Education Level Distribution (in %)\",\n",
    "    labels={\"x\": \"Education Level\", \"y\": \"Percentage\"},\n",
    "    color_discrete_sequence=px.colors.qualitative.Set3,\n",
    "    template=\"plotly_dark\",\n",
    "    height=600  # <- Increased height here\n",
    ")\n",
    "\n",
    "# Step 3: Update layout for clarity\n",
    "fig.update_layout(\n",
    "    title_x=0.5,\n",
    "    font=dict(family=\"Arial\", size=14),\n",
    "    xaxis_title=\"Education Level\",\n",
    "    yaxis_title=\"Frequency (%)\",\n",
    "    showlegend=False,\n",
    "    plot_bgcolor=\"rgba(0,0,0,0)\"\n",
    ")\n",
    "\n",
    "# Step 4: Improve trace appearance\n",
    "fig.update_traces(\n",
    "    textposition=\"outside\",\n",
    "    textfont=dict(size=14, color=\"white\"),\n",
    "    hovertemplate=\"Education Level: %{x}<br>Percentage: %{y:.2f}%\"\n",
    ")\n",
    "\n",
    "# Step 5: Show the chart\n",
    "fig.show()\n"
   ]
  },
  {
   "cell_type": "code",
   "execution_count": 16,
   "id": "61c6bfe3",
   "metadata": {},
   "outputs": [
    {
     "data": {
      "text/plain": [
       "Gender\n",
       "Male      $103,867.78\n",
       "Female     $97,011.17\n",
       "Name: Salary, dtype: object"
      ]
     },
     "execution_count": 16,
     "metadata": {},
     "output_type": "execute_result"
    }
   ],
   "source": [
    "salary_by_gender = data.groupby(\"Gender\")[\"Salary\"].mean().sort_values(ascending=False)\n",
    "salary_by_gender.apply(lambda x: f\"${x:,.2f}\")"
   ]
  },
  {
   "cell_type": "code",
   "execution_count": 17,
   "id": "91192f66",
   "metadata": {},
   "outputs": [
    {
     "data": {
      "application/vnd.plotly.v1+json": {
       "config": {
        "plotlyServerURL": "https://plot.ly"
       },
       "data": [
        {
         "hovertemplate": "Gender: %{x}<br>Avg Salary: $%{y:,.0f}",
         "legendgroup": "Male",
         "marker": {
          "color": "#45FFCA",
          "pattern": {
           "shape": ""
          }
         },
         "name": "Male",
         "orientation": "v",
         "showlegend": true,
         "text": [
          "$103,868"
         ],
         "textposition": "outside",
         "type": "bar",
         "x": [
          "Male"
         ],
         "xaxis": "x",
         "y": {
          "bdata": "d7M8ibxb+UA=",
          "dtype": "f8"
         },
         "yaxis": "y"
        },
        {
         "hovertemplate": "Gender: %{x}<br>Avg Salary: $%{y:,.0f}",
         "legendgroup": "Female",
         "marker": {
          "color": "#FF9B9B",
          "pattern": {
           "shape": ""
          }
         },
         "name": "Female",
         "orientation": "v",
         "showlegend": true,
         "text": [
          "$97,011"
         ],
         "textposition": "outside",
         "type": "bar",
         "x": [
          "Female"
         ],
         "xaxis": "x",
         "y": {
          "bdata": "/fVcxTKv90A=",
          "dtype": "f8"
         },
         "yaxis": "y"
        }
       ],
       "layout": {
        "barmode": "relative",
        "height": 500,
        "legend": {
         "title": {
          "text": "color"
         },
         "tracegroupgap": 0
        },
        "template": {
         "data": {
          "bar": [
           {
            "error_x": {
             "color": "#f2f5fa"
            },
            "error_y": {
             "color": "#f2f5fa"
            },
            "marker": {
             "line": {
              "color": "rgb(17,17,17)",
              "width": 0.5
             },
             "pattern": {
              "fillmode": "overlay",
              "size": 10,
              "solidity": 0.2
             }
            },
            "type": "bar"
           }
          ],
          "barpolar": [
           {
            "marker": {
             "line": {
              "color": "rgb(17,17,17)",
              "width": 0.5
             },
             "pattern": {
              "fillmode": "overlay",
              "size": 10,
              "solidity": 0.2
             }
            },
            "type": "barpolar"
           }
          ],
          "carpet": [
           {
            "aaxis": {
             "endlinecolor": "#A2B1C6",
             "gridcolor": "#506784",
             "linecolor": "#506784",
             "minorgridcolor": "#506784",
             "startlinecolor": "#A2B1C6"
            },
            "baxis": {
             "endlinecolor": "#A2B1C6",
             "gridcolor": "#506784",
             "linecolor": "#506784",
             "minorgridcolor": "#506784",
             "startlinecolor": "#A2B1C6"
            },
            "type": "carpet"
           }
          ],
          "choropleth": [
           {
            "colorbar": {
             "outlinewidth": 0,
             "ticks": ""
            },
            "type": "choropleth"
           }
          ],
          "contour": [
           {
            "colorbar": {
             "outlinewidth": 0,
             "ticks": ""
            },
            "colorscale": [
             [
              0,
              "#0d0887"
             ],
             [
              0.1111111111111111,
              "#46039f"
             ],
             [
              0.2222222222222222,
              "#7201a8"
             ],
             [
              0.3333333333333333,
              "#9c179e"
             ],
             [
              0.4444444444444444,
              "#bd3786"
             ],
             [
              0.5555555555555556,
              "#d8576b"
             ],
             [
              0.6666666666666666,
              "#ed7953"
             ],
             [
              0.7777777777777778,
              "#fb9f3a"
             ],
             [
              0.8888888888888888,
              "#fdca26"
             ],
             [
              1,
              "#f0f921"
             ]
            ],
            "type": "contour"
           }
          ],
          "contourcarpet": [
           {
            "colorbar": {
             "outlinewidth": 0,
             "ticks": ""
            },
            "type": "contourcarpet"
           }
          ],
          "heatmap": [
           {
            "colorbar": {
             "outlinewidth": 0,
             "ticks": ""
            },
            "colorscale": [
             [
              0,
              "#0d0887"
             ],
             [
              0.1111111111111111,
              "#46039f"
             ],
             [
              0.2222222222222222,
              "#7201a8"
             ],
             [
              0.3333333333333333,
              "#9c179e"
             ],
             [
              0.4444444444444444,
              "#bd3786"
             ],
             [
              0.5555555555555556,
              "#d8576b"
             ],
             [
              0.6666666666666666,
              "#ed7953"
             ],
             [
              0.7777777777777778,
              "#fb9f3a"
             ],
             [
              0.8888888888888888,
              "#fdca26"
             ],
             [
              1,
              "#f0f921"
             ]
            ],
            "type": "heatmap"
           }
          ],
          "histogram": [
           {
            "marker": {
             "pattern": {
              "fillmode": "overlay",
              "size": 10,
              "solidity": 0.2
             }
            },
            "type": "histogram"
           }
          ],
          "histogram2d": [
           {
            "colorbar": {
             "outlinewidth": 0,
             "ticks": ""
            },
            "colorscale": [
             [
              0,
              "#0d0887"
             ],
             [
              0.1111111111111111,
              "#46039f"
             ],
             [
              0.2222222222222222,
              "#7201a8"
             ],
             [
              0.3333333333333333,
              "#9c179e"
             ],
             [
              0.4444444444444444,
              "#bd3786"
             ],
             [
              0.5555555555555556,
              "#d8576b"
             ],
             [
              0.6666666666666666,
              "#ed7953"
             ],
             [
              0.7777777777777778,
              "#fb9f3a"
             ],
             [
              0.8888888888888888,
              "#fdca26"
             ],
             [
              1,
              "#f0f921"
             ]
            ],
            "type": "histogram2d"
           }
          ],
          "histogram2dcontour": [
           {
            "colorbar": {
             "outlinewidth": 0,
             "ticks": ""
            },
            "colorscale": [
             [
              0,
              "#0d0887"
             ],
             [
              0.1111111111111111,
              "#46039f"
             ],
             [
              0.2222222222222222,
              "#7201a8"
             ],
             [
              0.3333333333333333,
              "#9c179e"
             ],
             [
              0.4444444444444444,
              "#bd3786"
             ],
             [
              0.5555555555555556,
              "#d8576b"
             ],
             [
              0.6666666666666666,
              "#ed7953"
             ],
             [
              0.7777777777777778,
              "#fb9f3a"
             ],
             [
              0.8888888888888888,
              "#fdca26"
             ],
             [
              1,
              "#f0f921"
             ]
            ],
            "type": "histogram2dcontour"
           }
          ],
          "mesh3d": [
           {
            "colorbar": {
             "outlinewidth": 0,
             "ticks": ""
            },
            "type": "mesh3d"
           }
          ],
          "parcoords": [
           {
            "line": {
             "colorbar": {
              "outlinewidth": 0,
              "ticks": ""
             }
            },
            "type": "parcoords"
           }
          ],
          "pie": [
           {
            "automargin": true,
            "type": "pie"
           }
          ],
          "scatter": [
           {
            "marker": {
             "line": {
              "color": "#283442"
             }
            },
            "type": "scatter"
           }
          ],
          "scatter3d": [
           {
            "line": {
             "colorbar": {
              "outlinewidth": 0,
              "ticks": ""
             }
            },
            "marker": {
             "colorbar": {
              "outlinewidth": 0,
              "ticks": ""
             }
            },
            "type": "scatter3d"
           }
          ],
          "scattercarpet": [
           {
            "marker": {
             "colorbar": {
              "outlinewidth": 0,
              "ticks": ""
             }
            },
            "type": "scattercarpet"
           }
          ],
          "scattergeo": [
           {
            "marker": {
             "colorbar": {
              "outlinewidth": 0,
              "ticks": ""
             }
            },
            "type": "scattergeo"
           }
          ],
          "scattergl": [
           {
            "marker": {
             "line": {
              "color": "#283442"
             }
            },
            "type": "scattergl"
           }
          ],
          "scattermap": [
           {
            "marker": {
             "colorbar": {
              "outlinewidth": 0,
              "ticks": ""
             }
            },
            "type": "scattermap"
           }
          ],
          "scattermapbox": [
           {
            "marker": {
             "colorbar": {
              "outlinewidth": 0,
              "ticks": ""
             }
            },
            "type": "scattermapbox"
           }
          ],
          "scatterpolar": [
           {
            "marker": {
             "colorbar": {
              "outlinewidth": 0,
              "ticks": ""
             }
            },
            "type": "scatterpolar"
           }
          ],
          "scatterpolargl": [
           {
            "marker": {
             "colorbar": {
              "outlinewidth": 0,
              "ticks": ""
             }
            },
            "type": "scatterpolargl"
           }
          ],
          "scatterternary": [
           {
            "marker": {
             "colorbar": {
              "outlinewidth": 0,
              "ticks": ""
             }
            },
            "type": "scatterternary"
           }
          ],
          "surface": [
           {
            "colorbar": {
             "outlinewidth": 0,
             "ticks": ""
            },
            "colorscale": [
             [
              0,
              "#0d0887"
             ],
             [
              0.1111111111111111,
              "#46039f"
             ],
             [
              0.2222222222222222,
              "#7201a8"
             ],
             [
              0.3333333333333333,
              "#9c179e"
             ],
             [
              0.4444444444444444,
              "#bd3786"
             ],
             [
              0.5555555555555556,
              "#d8576b"
             ],
             [
              0.6666666666666666,
              "#ed7953"
             ],
             [
              0.7777777777777778,
              "#fb9f3a"
             ],
             [
              0.8888888888888888,
              "#fdca26"
             ],
             [
              1,
              "#f0f921"
             ]
            ],
            "type": "surface"
           }
          ],
          "table": [
           {
            "cells": {
             "fill": {
              "color": "#506784"
             },
             "line": {
              "color": "rgb(17,17,17)"
             }
            },
            "header": {
             "fill": {
              "color": "#2a3f5f"
             },
             "line": {
              "color": "rgb(17,17,17)"
             }
            },
            "type": "table"
           }
          ]
         },
         "layout": {
          "annotationdefaults": {
           "arrowcolor": "#f2f5fa",
           "arrowhead": 0,
           "arrowwidth": 1
          },
          "autotypenumbers": "strict",
          "coloraxis": {
           "colorbar": {
            "outlinewidth": 0,
            "ticks": ""
           }
          },
          "colorscale": {
           "diverging": [
            [
             0,
             "#8e0152"
            ],
            [
             0.1,
             "#c51b7d"
            ],
            [
             0.2,
             "#de77ae"
            ],
            [
             0.3,
             "#f1b6da"
            ],
            [
             0.4,
             "#fde0ef"
            ],
            [
             0.5,
             "#f7f7f7"
            ],
            [
             0.6,
             "#e6f5d0"
            ],
            [
             0.7,
             "#b8e186"
            ],
            [
             0.8,
             "#7fbc41"
            ],
            [
             0.9,
             "#4d9221"
            ],
            [
             1,
             "#276419"
            ]
           ],
           "sequential": [
            [
             0,
             "#0d0887"
            ],
            [
             0.1111111111111111,
             "#46039f"
            ],
            [
             0.2222222222222222,
             "#7201a8"
            ],
            [
             0.3333333333333333,
             "#9c179e"
            ],
            [
             0.4444444444444444,
             "#bd3786"
            ],
            [
             0.5555555555555556,
             "#d8576b"
            ],
            [
             0.6666666666666666,
             "#ed7953"
            ],
            [
             0.7777777777777778,
             "#fb9f3a"
            ],
            [
             0.8888888888888888,
             "#fdca26"
            ],
            [
             1,
             "#f0f921"
            ]
           ],
           "sequentialminus": [
            [
             0,
             "#0d0887"
            ],
            [
             0.1111111111111111,
             "#46039f"
            ],
            [
             0.2222222222222222,
             "#7201a8"
            ],
            [
             0.3333333333333333,
             "#9c179e"
            ],
            [
             0.4444444444444444,
             "#bd3786"
            ],
            [
             0.5555555555555556,
             "#d8576b"
            ],
            [
             0.6666666666666666,
             "#ed7953"
            ],
            [
             0.7777777777777778,
             "#fb9f3a"
            ],
            [
             0.8888888888888888,
             "#fdca26"
            ],
            [
             1,
             "#f0f921"
            ]
           ]
          },
          "colorway": [
           "#636efa",
           "#EF553B",
           "#00cc96",
           "#ab63fa",
           "#FFA15A",
           "#19d3f3",
           "#FF6692",
           "#B6E880",
           "#FF97FF",
           "#FECB52"
          ],
          "font": {
           "color": "#f2f5fa"
          },
          "geo": {
           "bgcolor": "rgb(17,17,17)",
           "lakecolor": "rgb(17,17,17)",
           "landcolor": "rgb(17,17,17)",
           "showlakes": true,
           "showland": true,
           "subunitcolor": "#506784"
          },
          "hoverlabel": {
           "align": "left"
          },
          "hovermode": "closest",
          "mapbox": {
           "style": "dark"
          },
          "paper_bgcolor": "rgb(17,17,17)",
          "plot_bgcolor": "rgb(17,17,17)",
          "polar": {
           "angularaxis": {
            "gridcolor": "#506784",
            "linecolor": "#506784",
            "ticks": ""
           },
           "bgcolor": "rgb(17,17,17)",
           "radialaxis": {
            "gridcolor": "#506784",
            "linecolor": "#506784",
            "ticks": ""
           }
          },
          "scene": {
           "xaxis": {
            "backgroundcolor": "rgb(17,17,17)",
            "gridcolor": "#506784",
            "gridwidth": 2,
            "linecolor": "#506784",
            "showbackground": true,
            "ticks": "",
            "zerolinecolor": "#C8D4E3"
           },
           "yaxis": {
            "backgroundcolor": "rgb(17,17,17)",
            "gridcolor": "#506784",
            "gridwidth": 2,
            "linecolor": "#506784",
            "showbackground": true,
            "ticks": "",
            "zerolinecolor": "#C8D4E3"
           },
           "zaxis": {
            "backgroundcolor": "rgb(17,17,17)",
            "gridcolor": "#506784",
            "gridwidth": 2,
            "linecolor": "#506784",
            "showbackground": true,
            "ticks": "",
            "zerolinecolor": "#C8D4E3"
           }
          },
          "shapedefaults": {
           "line": {
            "color": "#f2f5fa"
           }
          },
          "sliderdefaults": {
           "bgcolor": "#C8D4E3",
           "bordercolor": "rgb(17,17,17)",
           "borderwidth": 1,
           "tickwidth": 0
          },
          "ternary": {
           "aaxis": {
            "gridcolor": "#506784",
            "linecolor": "#506784",
            "ticks": ""
           },
           "baxis": {
            "gridcolor": "#506784",
            "linecolor": "#506784",
            "ticks": ""
           },
           "bgcolor": "rgb(17,17,17)",
           "caxis": {
            "gridcolor": "#506784",
            "linecolor": "#506784",
            "ticks": ""
           }
          },
          "title": {
           "x": 0.05
          },
          "updatemenudefaults": {
           "bgcolor": "#506784",
           "borderwidth": 0
          },
          "xaxis": {
           "automargin": true,
           "gridcolor": "#283442",
           "linecolor": "#506784",
           "ticks": "",
           "title": {
            "standoff": 15
           },
           "zerolinecolor": "#283442",
           "zerolinewidth": 2
          },
          "yaxis": {
           "automargin": true,
           "gridcolor": "#283442",
           "linecolor": "#506784",
           "ticks": "",
           "title": {
            "standoff": 15
           },
           "zerolinecolor": "#283442",
           "zerolinewidth": 2
          }
         }
        },
        "title": {
         "text": "💰 Average Salary by Gender",
         "x": 0.5
        },
        "xaxis": {
         "anchor": "y",
         "domain": [
          0,
          1
         ],
         "title": {
          "text": "Gender"
         }
        },
        "yaxis": {
         "anchor": "x",
         "domain": [
          0,
          1
         ],
         "title": {
          "text": "Average Salary"
         }
        }
       }
      }
     },
     "metadata": {},
     "output_type": "display_data"
    }
   ],
   "source": [
    "\n",
    "\n",
    "# Step 2: Create bar chart\n",
    "fig = px.bar(\n",
    "    x=salary_by_gender.index,\n",
    "    y=salary_by_gender.values,\n",
    "    color=salary_by_gender.index,\n",
    "    title=\"💰 Average Salary by Gender\",\n",
    "    labels={\"x\": \"Gender\", \"y\": \"Average Salary\"},\n",
    "    color_discrete_sequence=[\"#45FFCA\", \"#FF9B9B\"],\n",
    "    template=\"plotly_dark\",\n",
    "    text=salary_by_gender.apply(lambda x: f\"${x:,.0f}\")\n",
    ")\n",
    "\n",
    "# Step 3: Customize layout and hover\n",
    "fig.update_layout(\n",
    "    title_x=0.5,\n",
    "    yaxis_title=\"Average Salary\",\n",
    "    xaxis_title=\"Gender\",\n",
    "    height=500\n",
    ")\n",
    "\n",
    "fig.update_traces(\n",
    "    textposition='outside',\n",
    "    hovertemplate=\"Gender: %{x}<br>Avg Salary: $%{y:,.0f}\"\n",
    ")\n",
    "\n",
    "fig.show()\n"
   ]
  },
  {
   "cell_type": "code",
   "execution_count": 18,
   "id": "00dae4bb",
   "metadata": {},
   "outputs": [
    {
     "data": {
      "text/plain": [
       "Education Level\n",
       "PhD           $157,843.14\n",
       "Master's      $129,795.92\n",
       "Bachelor's     $74,756.03\n",
       "Name: Salary, dtype: object"
      ]
     },
     "execution_count": 18,
     "metadata": {},
     "output_type": "execute_result"
    }
   ],
   "source": [
    "salary_by_education = data.groupby(\"Education Level\")[\"Salary\"].mean().round(2).sort_values(ascending=False)\n",
    "salary_by_education.apply(lambda x: f\"${x:,.2f}\")"
   ]
  },
  {
   "cell_type": "code",
   "execution_count": 19,
   "id": "86d657c8",
   "metadata": {},
   "outputs": [
    {
     "data": {
      "application/vnd.plotly.v1+json": {
       "config": {
        "plotlyServerURL": "https://plot.ly"
       },
       "data": [
        {
         "hovertemplate": "Education: %{x}<br>Avg Salary: $%{y:,.0f}",
         "legendgroup": "PhD",
         "marker": {
          "color": "#45FFCA",
          "pattern": {
           "shape": ""
          }
         },
         "name": "PhD",
         "orientation": "v",
         "showlegend": true,
         "text": [
          "$157,843"
         ],
         "textfont": {
          "color": "#FFFFFF",
          "size": 14
         },
         "textposition": "outside",
         "type": "bar",
         "x": [
          "PhD"
         ],
         "xaxis": "x",
         "y": {
          "bdata": "7FG4HplEA0E=",
          "dtype": "f8"
         },
         "yaxis": "y"
        },
        {
         "hovertemplate": "Education: %{x}<br>Avg Salary: $%{y:,.0f}",
         "legendgroup": "Master's",
         "marker": {
          "color": "#D09CFA",
          "pattern": {
           "shape": ""
          }
         },
         "name": "Master's",
         "orientation": "v",
         "showlegend": true,
         "text": [
          "$129,796"
         ],
         "textfont": {
          "color": "#FFFFFF",
          "size": 14
         },
         "textposition": "outside",
         "type": "bar",
         "x": [
          "Master's"
         ],
         "xaxis": "x",
         "y": {
          "bdata": "hetRuD6w/0A=",
          "dtype": "f8"
         },
         "yaxis": "y"
        },
        {
         "hovertemplate": "Education: %{x}<br>Avg Salary: $%{y:,.0f}",
         "legendgroup": "Bachelor's",
         "marker": {
          "color": "#FF9B9B",
          "pattern": {
           "shape": ""
          }
         },
         "name": "Bachelor's",
         "orientation": "v",
         "showlegend": true,
         "text": [
          "$74,756"
         ],
         "textfont": {
          "color": "#FFFFFF",
          "size": 14
         },
         "textposition": "outside",
         "type": "bar",
         "x": [
          "Bachelor's"
         ],
         "xaxis": "x",
         "y": {
          "bdata": "rkfhekBA8kA=",
          "dtype": "f8"
         },
         "yaxis": "y"
        }
       ],
       "layout": {
        "barmode": "relative",
        "height": 500,
        "legend": {
         "title": {
          "text": "color"
         },
         "tracegroupgap": 0
        },
        "template": {
         "data": {
          "bar": [
           {
            "error_x": {
             "color": "#f2f5fa"
            },
            "error_y": {
             "color": "#f2f5fa"
            },
            "marker": {
             "line": {
              "color": "rgb(17,17,17)",
              "width": 0.5
             },
             "pattern": {
              "fillmode": "overlay",
              "size": 10,
              "solidity": 0.2
             }
            },
            "type": "bar"
           }
          ],
          "barpolar": [
           {
            "marker": {
             "line": {
              "color": "rgb(17,17,17)",
              "width": 0.5
             },
             "pattern": {
              "fillmode": "overlay",
              "size": 10,
              "solidity": 0.2
             }
            },
            "type": "barpolar"
           }
          ],
          "carpet": [
           {
            "aaxis": {
             "endlinecolor": "#A2B1C6",
             "gridcolor": "#506784",
             "linecolor": "#506784",
             "minorgridcolor": "#506784",
             "startlinecolor": "#A2B1C6"
            },
            "baxis": {
             "endlinecolor": "#A2B1C6",
             "gridcolor": "#506784",
             "linecolor": "#506784",
             "minorgridcolor": "#506784",
             "startlinecolor": "#A2B1C6"
            },
            "type": "carpet"
           }
          ],
          "choropleth": [
           {
            "colorbar": {
             "outlinewidth": 0,
             "ticks": ""
            },
            "type": "choropleth"
           }
          ],
          "contour": [
           {
            "colorbar": {
             "outlinewidth": 0,
             "ticks": ""
            },
            "colorscale": [
             [
              0,
              "#0d0887"
             ],
             [
              0.1111111111111111,
              "#46039f"
             ],
             [
              0.2222222222222222,
              "#7201a8"
             ],
             [
              0.3333333333333333,
              "#9c179e"
             ],
             [
              0.4444444444444444,
              "#bd3786"
             ],
             [
              0.5555555555555556,
              "#d8576b"
             ],
             [
              0.6666666666666666,
              "#ed7953"
             ],
             [
              0.7777777777777778,
              "#fb9f3a"
             ],
             [
              0.8888888888888888,
              "#fdca26"
             ],
             [
              1,
              "#f0f921"
             ]
            ],
            "type": "contour"
           }
          ],
          "contourcarpet": [
           {
            "colorbar": {
             "outlinewidth": 0,
             "ticks": ""
            },
            "type": "contourcarpet"
           }
          ],
          "heatmap": [
           {
            "colorbar": {
             "outlinewidth": 0,
             "ticks": ""
            },
            "colorscale": [
             [
              0,
              "#0d0887"
             ],
             [
              0.1111111111111111,
              "#46039f"
             ],
             [
              0.2222222222222222,
              "#7201a8"
             ],
             [
              0.3333333333333333,
              "#9c179e"
             ],
             [
              0.4444444444444444,
              "#bd3786"
             ],
             [
              0.5555555555555556,
              "#d8576b"
             ],
             [
              0.6666666666666666,
              "#ed7953"
             ],
             [
              0.7777777777777778,
              "#fb9f3a"
             ],
             [
              0.8888888888888888,
              "#fdca26"
             ],
             [
              1,
              "#f0f921"
             ]
            ],
            "type": "heatmap"
           }
          ],
          "histogram": [
           {
            "marker": {
             "pattern": {
              "fillmode": "overlay",
              "size": 10,
              "solidity": 0.2
             }
            },
            "type": "histogram"
           }
          ],
          "histogram2d": [
           {
            "colorbar": {
             "outlinewidth": 0,
             "ticks": ""
            },
            "colorscale": [
             [
              0,
              "#0d0887"
             ],
             [
              0.1111111111111111,
              "#46039f"
             ],
             [
              0.2222222222222222,
              "#7201a8"
             ],
             [
              0.3333333333333333,
              "#9c179e"
             ],
             [
              0.4444444444444444,
              "#bd3786"
             ],
             [
              0.5555555555555556,
              "#d8576b"
             ],
             [
              0.6666666666666666,
              "#ed7953"
             ],
             [
              0.7777777777777778,
              "#fb9f3a"
             ],
             [
              0.8888888888888888,
              "#fdca26"
             ],
             [
              1,
              "#f0f921"
             ]
            ],
            "type": "histogram2d"
           }
          ],
          "histogram2dcontour": [
           {
            "colorbar": {
             "outlinewidth": 0,
             "ticks": ""
            },
            "colorscale": [
             [
              0,
              "#0d0887"
             ],
             [
              0.1111111111111111,
              "#46039f"
             ],
             [
              0.2222222222222222,
              "#7201a8"
             ],
             [
              0.3333333333333333,
              "#9c179e"
             ],
             [
              0.4444444444444444,
              "#bd3786"
             ],
             [
              0.5555555555555556,
              "#d8576b"
             ],
             [
              0.6666666666666666,
              "#ed7953"
             ],
             [
              0.7777777777777778,
              "#fb9f3a"
             ],
             [
              0.8888888888888888,
              "#fdca26"
             ],
             [
              1,
              "#f0f921"
             ]
            ],
            "type": "histogram2dcontour"
           }
          ],
          "mesh3d": [
           {
            "colorbar": {
             "outlinewidth": 0,
             "ticks": ""
            },
            "type": "mesh3d"
           }
          ],
          "parcoords": [
           {
            "line": {
             "colorbar": {
              "outlinewidth": 0,
              "ticks": ""
             }
            },
            "type": "parcoords"
           }
          ],
          "pie": [
           {
            "automargin": true,
            "type": "pie"
           }
          ],
          "scatter": [
           {
            "marker": {
             "line": {
              "color": "#283442"
             }
            },
            "type": "scatter"
           }
          ],
          "scatter3d": [
           {
            "line": {
             "colorbar": {
              "outlinewidth": 0,
              "ticks": ""
             }
            },
            "marker": {
             "colorbar": {
              "outlinewidth": 0,
              "ticks": ""
             }
            },
            "type": "scatter3d"
           }
          ],
          "scattercarpet": [
           {
            "marker": {
             "colorbar": {
              "outlinewidth": 0,
              "ticks": ""
             }
            },
            "type": "scattercarpet"
           }
          ],
          "scattergeo": [
           {
            "marker": {
             "colorbar": {
              "outlinewidth": 0,
              "ticks": ""
             }
            },
            "type": "scattergeo"
           }
          ],
          "scattergl": [
           {
            "marker": {
             "line": {
              "color": "#283442"
             }
            },
            "type": "scattergl"
           }
          ],
          "scattermap": [
           {
            "marker": {
             "colorbar": {
              "outlinewidth": 0,
              "ticks": ""
             }
            },
            "type": "scattermap"
           }
          ],
          "scattermapbox": [
           {
            "marker": {
             "colorbar": {
              "outlinewidth": 0,
              "ticks": ""
             }
            },
            "type": "scattermapbox"
           }
          ],
          "scatterpolar": [
           {
            "marker": {
             "colorbar": {
              "outlinewidth": 0,
              "ticks": ""
             }
            },
            "type": "scatterpolar"
           }
          ],
          "scatterpolargl": [
           {
            "marker": {
             "colorbar": {
              "outlinewidth": 0,
              "ticks": ""
             }
            },
            "type": "scatterpolargl"
           }
          ],
          "scatterternary": [
           {
            "marker": {
             "colorbar": {
              "outlinewidth": 0,
              "ticks": ""
             }
            },
            "type": "scatterternary"
           }
          ],
          "surface": [
           {
            "colorbar": {
             "outlinewidth": 0,
             "ticks": ""
            },
            "colorscale": [
             [
              0,
              "#0d0887"
             ],
             [
              0.1111111111111111,
              "#46039f"
             ],
             [
              0.2222222222222222,
              "#7201a8"
             ],
             [
              0.3333333333333333,
              "#9c179e"
             ],
             [
              0.4444444444444444,
              "#bd3786"
             ],
             [
              0.5555555555555556,
              "#d8576b"
             ],
             [
              0.6666666666666666,
              "#ed7953"
             ],
             [
              0.7777777777777778,
              "#fb9f3a"
             ],
             [
              0.8888888888888888,
              "#fdca26"
             ],
             [
              1,
              "#f0f921"
             ]
            ],
            "type": "surface"
           }
          ],
          "table": [
           {
            "cells": {
             "fill": {
              "color": "#506784"
             },
             "line": {
              "color": "rgb(17,17,17)"
             }
            },
            "header": {
             "fill": {
              "color": "#2a3f5f"
             },
             "line": {
              "color": "rgb(17,17,17)"
             }
            },
            "type": "table"
           }
          ]
         },
         "layout": {
          "annotationdefaults": {
           "arrowcolor": "#f2f5fa",
           "arrowhead": 0,
           "arrowwidth": 1
          },
          "autotypenumbers": "strict",
          "coloraxis": {
           "colorbar": {
            "outlinewidth": 0,
            "ticks": ""
           }
          },
          "colorscale": {
           "diverging": [
            [
             0,
             "#8e0152"
            ],
            [
             0.1,
             "#c51b7d"
            ],
            [
             0.2,
             "#de77ae"
            ],
            [
             0.3,
             "#f1b6da"
            ],
            [
             0.4,
             "#fde0ef"
            ],
            [
             0.5,
             "#f7f7f7"
            ],
            [
             0.6,
             "#e6f5d0"
            ],
            [
             0.7,
             "#b8e186"
            ],
            [
             0.8,
             "#7fbc41"
            ],
            [
             0.9,
             "#4d9221"
            ],
            [
             1,
             "#276419"
            ]
           ],
           "sequential": [
            [
             0,
             "#0d0887"
            ],
            [
             0.1111111111111111,
             "#46039f"
            ],
            [
             0.2222222222222222,
             "#7201a8"
            ],
            [
             0.3333333333333333,
             "#9c179e"
            ],
            [
             0.4444444444444444,
             "#bd3786"
            ],
            [
             0.5555555555555556,
             "#d8576b"
            ],
            [
             0.6666666666666666,
             "#ed7953"
            ],
            [
             0.7777777777777778,
             "#fb9f3a"
            ],
            [
             0.8888888888888888,
             "#fdca26"
            ],
            [
             1,
             "#f0f921"
            ]
           ],
           "sequentialminus": [
            [
             0,
             "#0d0887"
            ],
            [
             0.1111111111111111,
             "#46039f"
            ],
            [
             0.2222222222222222,
             "#7201a8"
            ],
            [
             0.3333333333333333,
             "#9c179e"
            ],
            [
             0.4444444444444444,
             "#bd3786"
            ],
            [
             0.5555555555555556,
             "#d8576b"
            ],
            [
             0.6666666666666666,
             "#ed7953"
            ],
            [
             0.7777777777777778,
             "#fb9f3a"
            ],
            [
             0.8888888888888888,
             "#fdca26"
            ],
            [
             1,
             "#f0f921"
            ]
           ]
          },
          "colorway": [
           "#636efa",
           "#EF553B",
           "#00cc96",
           "#ab63fa",
           "#FFA15A",
           "#19d3f3",
           "#FF6692",
           "#B6E880",
           "#FF97FF",
           "#FECB52"
          ],
          "font": {
           "color": "#f2f5fa"
          },
          "geo": {
           "bgcolor": "rgb(17,17,17)",
           "lakecolor": "rgb(17,17,17)",
           "landcolor": "rgb(17,17,17)",
           "showlakes": true,
           "showland": true,
           "subunitcolor": "#506784"
          },
          "hoverlabel": {
           "align": "left"
          },
          "hovermode": "closest",
          "mapbox": {
           "style": "dark"
          },
          "paper_bgcolor": "rgb(17,17,17)",
          "plot_bgcolor": "rgb(17,17,17)",
          "polar": {
           "angularaxis": {
            "gridcolor": "#506784",
            "linecolor": "#506784",
            "ticks": ""
           },
           "bgcolor": "rgb(17,17,17)",
           "radialaxis": {
            "gridcolor": "#506784",
            "linecolor": "#506784",
            "ticks": ""
           }
          },
          "scene": {
           "xaxis": {
            "backgroundcolor": "rgb(17,17,17)",
            "gridcolor": "#506784",
            "gridwidth": 2,
            "linecolor": "#506784",
            "showbackground": true,
            "ticks": "",
            "zerolinecolor": "#C8D4E3"
           },
           "yaxis": {
            "backgroundcolor": "rgb(17,17,17)",
            "gridcolor": "#506784",
            "gridwidth": 2,
            "linecolor": "#506784",
            "showbackground": true,
            "ticks": "",
            "zerolinecolor": "#C8D4E3"
           },
           "zaxis": {
            "backgroundcolor": "rgb(17,17,17)",
            "gridcolor": "#506784",
            "gridwidth": 2,
            "linecolor": "#506784",
            "showbackground": true,
            "ticks": "",
            "zerolinecolor": "#C8D4E3"
           }
          },
          "shapedefaults": {
           "line": {
            "color": "#f2f5fa"
           }
          },
          "sliderdefaults": {
           "bgcolor": "#C8D4E3",
           "bordercolor": "rgb(17,17,17)",
           "borderwidth": 1,
           "tickwidth": 0
          },
          "ternary": {
           "aaxis": {
            "gridcolor": "#506784",
            "linecolor": "#506784",
            "ticks": ""
           },
           "baxis": {
            "gridcolor": "#506784",
            "linecolor": "#506784",
            "ticks": ""
           },
           "bgcolor": "rgb(17,17,17)",
           "caxis": {
            "gridcolor": "#506784",
            "linecolor": "#506784",
            "ticks": ""
           }
          },
          "title": {
           "x": 0.05
          },
          "updatemenudefaults": {
           "bgcolor": "#506784",
           "borderwidth": 0
          },
          "xaxis": {
           "automargin": true,
           "gridcolor": "#283442",
           "linecolor": "#506784",
           "ticks": "",
           "title": {
            "standoff": 15
           },
           "zerolinecolor": "#283442",
           "zerolinewidth": 2
          },
          "yaxis": {
           "automargin": true,
           "gridcolor": "#283442",
           "linecolor": "#506784",
           "ticks": "",
           "title": {
            "standoff": 15
           },
           "zerolinecolor": "#283442",
           "zerolinewidth": 2
          }
         }
        },
        "title": {
         "text": "🎓 Average Salary via Education Level",
         "x": 0.5
        },
        "xaxis": {
         "anchor": "y",
         "domain": [
          0,
          1
         ],
         "title": {
          "text": "Education Level"
         }
        },
        "yaxis": {
         "anchor": "x",
         "domain": [
          0,
          1
         ],
         "title": {
          "text": "Average Salary"
         }
        }
       }
      }
     },
     "metadata": {},
     "output_type": "display_data"
    }
   ],
   "source": [
    "\n",
    "\n",
    "fig = px.bar(\n",
    "    x=salary_by_education.index,\n",
    "    y=salary_by_education.values,\n",
    "    color=salary_by_education.index,\n",
    "    title=\"🎓 Average Salary via Education Level\",\n",
    "    labels={\"x\": \"Education Level\", \"y\": \"Average Salary\"},\n",
    "    color_discrete_sequence=[\"#45FFCA\", \"#D09CFA\", \"#FF9B9B\"],  # Adjust as needed\n",
    "    template=\"plotly_dark\",\n",
    "    text=salary_by_education.apply(lambda x: f\"${x:,.0f}\")\n",
    ")\n",
    "\n",
    "fig.update_layout(\n",
    "    title_x=0.5,\n",
    "    yaxis_title=\"Average Salary\",\n",
    "    xaxis_title=\"Education Level\",\n",
    "    height=500\n",
    ")\n",
    "\n",
    "fig.update_traces(\n",
    "    textposition='outside',\n",
    "    textfont=dict(size=14, color=\"#FFFFFF\"),\n",
    "    hovertemplate=\"Education: %{x}<br>Avg Salary: $%{y:,.0f}\"\n",
    ")\n",
    "\n",
    "fig.show()\n"
   ]
  },
  {
   "cell_type": "code",
   "execution_count": 20,
   "id": "2dac823e",
   "metadata": {},
   "outputs": [],
   "source": [
    "# To Convert Years of Experience into 5 Categories\n",
    "def groupping_exp(exp):\n",
    "    if exp >= 0 and exp <= 5:\n",
    "        return \"0-5 years\"\n",
    "    elif exp > 5 and exp <= 10:\n",
    "        return \"6-10 years\"\n",
    "    elif exp > 10 and exp <= 15:\n",
    "        return \"11-15 years\"\n",
    "    elif exp > 15 and exp <= 20:\n",
    "        return \"16-20 years\"\n",
    "    else:\n",
    "        return \"20+\" "
   ]
  },
  {
   "cell_type": "code",
   "execution_count": 21,
   "id": "4e473d04",
   "metadata": {},
   "outputs": [
    {
     "data": {
      "text/plain": [
       "Years of Experience\n",
       "20+            $175,892.86\n",
       "16-20 years    $159,140.62\n",
       "11-15 years    $118,230.77\n",
       "6-10 years      $92,578.95\n",
       "0-5 years       $48,969.83\n",
       "Name: Salary, dtype: object"
      ]
     },
     "execution_count": 21,
     "metadata": {},
     "output_type": "execute_result"
    }
   ],
   "source": [
    "salary_by_exp = data.groupby(data[\"Years of Experience\"].apply(groupping_exp))[\"Salary\"].mean().sort_values(ascending=False)\n",
    "salary_by_exp.apply(lambda x: f\"${x:,.2f}\")"
   ]
  },
  {
   "cell_type": "code",
   "execution_count": 22,
   "id": "7197d97a",
   "metadata": {},
   "outputs": [
    {
     "data": {
      "application/vnd.plotly.v1+json": {
       "config": {
        "plotlyServerURL": "https://plot.ly"
       },
       "data": [
        {
         "hovertemplate": "Experience: %{x}<br>Avg Salary: %{y:$,.0f}",
         "legendgroup": "20+",
         "marker": {
          "color": "#440154",
          "pattern": {
           "shape": ""
          }
         },
         "name": "20+",
         "orientation": "v",
         "showlegend": true,
         "text": [
          "$175,893"
         ],
         "textfont": {
          "color": "#FFFFFF",
          "size": 14
         },
         "textposition": "outside",
         "type": "bar",
         "x": [
          "20+"
         ],
         "xaxis": "x",
         "y": {
          "bdata": "27Zt26Z4BUE=",
          "dtype": "f8"
         },
         "yaxis": "y"
        },
        {
         "hovertemplate": "Experience: %{x}<br>Avg Salary: %{y:$,.0f}",
         "legendgroup": "16-20 years",
         "marker": {
          "color": "#482878",
          "pattern": {
           "shape": ""
          }
         },
         "name": "16-20 years",
         "orientation": "v",
         "showlegend": true,
         "text": [
          "$159,141"
         ],
         "textfont": {
          "color": "#FFFFFF",
          "size": 14
         },
         "textposition": "outside",
         "type": "bar",
         "x": [
          "16-20 years"
         ],
         "xaxis": "x",
         "y": {
          "bdata": "AAAAACVtA0E=",
          "dtype": "f8"
         },
         "yaxis": "y"
        },
        {
         "hovertemplate": "Experience: %{x}<br>Avg Salary: %{y:$,.0f}",
         "legendgroup": "11-15 years",
         "marker": {
          "color": "#3e4989",
          "pattern": {
           "shape": ""
          }
         },
         "name": "11-15 years",
         "orientation": "v",
         "showlegend": true,
         "text": [
          "$118,231"
         ],
         "textfont": {
          "color": "#FFFFFF",
          "size": 14
         },
         "textposition": "outside",
         "type": "bar",
         "x": [
          "11-15 years"
         ],
         "xaxis": "x",
         "y": {
          "bdata": "T+zETmzd/EA=",
          "dtype": "f8"
         },
         "yaxis": "y"
        },
        {
         "hovertemplate": "Experience: %{x}<br>Avg Salary: %{y:$,.0f}",
         "legendgroup": "6-10 years",
         "marker": {
          "color": "#31688e",
          "pattern": {
           "shape": ""
          }
         },
         "name": "6-10 years",
         "orientation": "v",
         "showlegend": true,
         "text": [
          "$92,579"
         ],
         "textfont": {
          "color": "#FFFFFF",
          "size": 14
         },
         "textposition": "outside",
         "type": "bar",
         "x": [
          "6-10 years"
         ],
         "xaxis": "x",
         "y": {
          "bdata": "G8prKC+a9kA=",
          "dtype": "f8"
         },
         "yaxis": "y"
        },
        {
         "hovertemplate": "Experience: %{x}<br>Avg Salary: %{y:$,.0f}",
         "legendgroup": "0-5 years",
         "marker": {
          "color": "#26828e",
          "pattern": {
           "shape": ""
          }
         },
         "name": "0-5 years",
         "orientation": "v",
         "showlegend": true,
         "text": [
          "$48,970"
         ],
         "textfont": {
          "color": "#FFFFFF",
          "size": 14
         },
         "textposition": "outside",
         "type": "bar",
         "x": [
          "0-5 years"
         ],
         "xaxis": "x",
         "y": {
          "bdata": "SE7ztTrp50A=",
          "dtype": "f8"
         },
         "yaxis": "y"
        }
       ],
       "layout": {
        "barmode": "relative",
        "height": 500,
        "legend": {
         "title": {
          "text": "color"
         },
         "tracegroupgap": 0
        },
        "template": {
         "data": {
          "bar": [
           {
            "error_x": {
             "color": "#f2f5fa"
            },
            "error_y": {
             "color": "#f2f5fa"
            },
            "marker": {
             "line": {
              "color": "rgb(17,17,17)",
              "width": 0.5
             },
             "pattern": {
              "fillmode": "overlay",
              "size": 10,
              "solidity": 0.2
             }
            },
            "type": "bar"
           }
          ],
          "barpolar": [
           {
            "marker": {
             "line": {
              "color": "rgb(17,17,17)",
              "width": 0.5
             },
             "pattern": {
              "fillmode": "overlay",
              "size": 10,
              "solidity": 0.2
             }
            },
            "type": "barpolar"
           }
          ],
          "carpet": [
           {
            "aaxis": {
             "endlinecolor": "#A2B1C6",
             "gridcolor": "#506784",
             "linecolor": "#506784",
             "minorgridcolor": "#506784",
             "startlinecolor": "#A2B1C6"
            },
            "baxis": {
             "endlinecolor": "#A2B1C6",
             "gridcolor": "#506784",
             "linecolor": "#506784",
             "minorgridcolor": "#506784",
             "startlinecolor": "#A2B1C6"
            },
            "type": "carpet"
           }
          ],
          "choropleth": [
           {
            "colorbar": {
             "outlinewidth": 0,
             "ticks": ""
            },
            "type": "choropleth"
           }
          ],
          "contour": [
           {
            "colorbar": {
             "outlinewidth": 0,
             "ticks": ""
            },
            "colorscale": [
             [
              0,
              "#0d0887"
             ],
             [
              0.1111111111111111,
              "#46039f"
             ],
             [
              0.2222222222222222,
              "#7201a8"
             ],
             [
              0.3333333333333333,
              "#9c179e"
             ],
             [
              0.4444444444444444,
              "#bd3786"
             ],
             [
              0.5555555555555556,
              "#d8576b"
             ],
             [
              0.6666666666666666,
              "#ed7953"
             ],
             [
              0.7777777777777778,
              "#fb9f3a"
             ],
             [
              0.8888888888888888,
              "#fdca26"
             ],
             [
              1,
              "#f0f921"
             ]
            ],
            "type": "contour"
           }
          ],
          "contourcarpet": [
           {
            "colorbar": {
             "outlinewidth": 0,
             "ticks": ""
            },
            "type": "contourcarpet"
           }
          ],
          "heatmap": [
           {
            "colorbar": {
             "outlinewidth": 0,
             "ticks": ""
            },
            "colorscale": [
             [
              0,
              "#0d0887"
             ],
             [
              0.1111111111111111,
              "#46039f"
             ],
             [
              0.2222222222222222,
              "#7201a8"
             ],
             [
              0.3333333333333333,
              "#9c179e"
             ],
             [
              0.4444444444444444,
              "#bd3786"
             ],
             [
              0.5555555555555556,
              "#d8576b"
             ],
             [
              0.6666666666666666,
              "#ed7953"
             ],
             [
              0.7777777777777778,
              "#fb9f3a"
             ],
             [
              0.8888888888888888,
              "#fdca26"
             ],
             [
              1,
              "#f0f921"
             ]
            ],
            "type": "heatmap"
           }
          ],
          "histogram": [
           {
            "marker": {
             "pattern": {
              "fillmode": "overlay",
              "size": 10,
              "solidity": 0.2
             }
            },
            "type": "histogram"
           }
          ],
          "histogram2d": [
           {
            "colorbar": {
             "outlinewidth": 0,
             "ticks": ""
            },
            "colorscale": [
             [
              0,
              "#0d0887"
             ],
             [
              0.1111111111111111,
              "#46039f"
             ],
             [
              0.2222222222222222,
              "#7201a8"
             ],
             [
              0.3333333333333333,
              "#9c179e"
             ],
             [
              0.4444444444444444,
              "#bd3786"
             ],
             [
              0.5555555555555556,
              "#d8576b"
             ],
             [
              0.6666666666666666,
              "#ed7953"
             ],
             [
              0.7777777777777778,
              "#fb9f3a"
             ],
             [
              0.8888888888888888,
              "#fdca26"
             ],
             [
              1,
              "#f0f921"
             ]
            ],
            "type": "histogram2d"
           }
          ],
          "histogram2dcontour": [
           {
            "colorbar": {
             "outlinewidth": 0,
             "ticks": ""
            },
            "colorscale": [
             [
              0,
              "#0d0887"
             ],
             [
              0.1111111111111111,
              "#46039f"
             ],
             [
              0.2222222222222222,
              "#7201a8"
             ],
             [
              0.3333333333333333,
              "#9c179e"
             ],
             [
              0.4444444444444444,
              "#bd3786"
             ],
             [
              0.5555555555555556,
              "#d8576b"
             ],
             [
              0.6666666666666666,
              "#ed7953"
             ],
             [
              0.7777777777777778,
              "#fb9f3a"
             ],
             [
              0.8888888888888888,
              "#fdca26"
             ],
             [
              1,
              "#f0f921"
             ]
            ],
            "type": "histogram2dcontour"
           }
          ],
          "mesh3d": [
           {
            "colorbar": {
             "outlinewidth": 0,
             "ticks": ""
            },
            "type": "mesh3d"
           }
          ],
          "parcoords": [
           {
            "line": {
             "colorbar": {
              "outlinewidth": 0,
              "ticks": ""
             }
            },
            "type": "parcoords"
           }
          ],
          "pie": [
           {
            "automargin": true,
            "type": "pie"
           }
          ],
          "scatter": [
           {
            "marker": {
             "line": {
              "color": "#283442"
             }
            },
            "type": "scatter"
           }
          ],
          "scatter3d": [
           {
            "line": {
             "colorbar": {
              "outlinewidth": 0,
              "ticks": ""
             }
            },
            "marker": {
             "colorbar": {
              "outlinewidth": 0,
              "ticks": ""
             }
            },
            "type": "scatter3d"
           }
          ],
          "scattercarpet": [
           {
            "marker": {
             "colorbar": {
              "outlinewidth": 0,
              "ticks": ""
             }
            },
            "type": "scattercarpet"
           }
          ],
          "scattergeo": [
           {
            "marker": {
             "colorbar": {
              "outlinewidth": 0,
              "ticks": ""
             }
            },
            "type": "scattergeo"
           }
          ],
          "scattergl": [
           {
            "marker": {
             "line": {
              "color": "#283442"
             }
            },
            "type": "scattergl"
           }
          ],
          "scattermap": [
           {
            "marker": {
             "colorbar": {
              "outlinewidth": 0,
              "ticks": ""
             }
            },
            "type": "scattermap"
           }
          ],
          "scattermapbox": [
           {
            "marker": {
             "colorbar": {
              "outlinewidth": 0,
              "ticks": ""
             }
            },
            "type": "scattermapbox"
           }
          ],
          "scatterpolar": [
           {
            "marker": {
             "colorbar": {
              "outlinewidth": 0,
              "ticks": ""
             }
            },
            "type": "scatterpolar"
           }
          ],
          "scatterpolargl": [
           {
            "marker": {
             "colorbar": {
              "outlinewidth": 0,
              "ticks": ""
             }
            },
            "type": "scatterpolargl"
           }
          ],
          "scatterternary": [
           {
            "marker": {
             "colorbar": {
              "outlinewidth": 0,
              "ticks": ""
             }
            },
            "type": "scatterternary"
           }
          ],
          "surface": [
           {
            "colorbar": {
             "outlinewidth": 0,
             "ticks": ""
            },
            "colorscale": [
             [
              0,
              "#0d0887"
             ],
             [
              0.1111111111111111,
              "#46039f"
             ],
             [
              0.2222222222222222,
              "#7201a8"
             ],
             [
              0.3333333333333333,
              "#9c179e"
             ],
             [
              0.4444444444444444,
              "#bd3786"
             ],
             [
              0.5555555555555556,
              "#d8576b"
             ],
             [
              0.6666666666666666,
              "#ed7953"
             ],
             [
              0.7777777777777778,
              "#fb9f3a"
             ],
             [
              0.8888888888888888,
              "#fdca26"
             ],
             [
              1,
              "#f0f921"
             ]
            ],
            "type": "surface"
           }
          ],
          "table": [
           {
            "cells": {
             "fill": {
              "color": "#506784"
             },
             "line": {
              "color": "rgb(17,17,17)"
             }
            },
            "header": {
             "fill": {
              "color": "#2a3f5f"
             },
             "line": {
              "color": "rgb(17,17,17)"
             }
            },
            "type": "table"
           }
          ]
         },
         "layout": {
          "annotationdefaults": {
           "arrowcolor": "#f2f5fa",
           "arrowhead": 0,
           "arrowwidth": 1
          },
          "autotypenumbers": "strict",
          "coloraxis": {
           "colorbar": {
            "outlinewidth": 0,
            "ticks": ""
           }
          },
          "colorscale": {
           "diverging": [
            [
             0,
             "#8e0152"
            ],
            [
             0.1,
             "#c51b7d"
            ],
            [
             0.2,
             "#de77ae"
            ],
            [
             0.3,
             "#f1b6da"
            ],
            [
             0.4,
             "#fde0ef"
            ],
            [
             0.5,
             "#f7f7f7"
            ],
            [
             0.6,
             "#e6f5d0"
            ],
            [
             0.7,
             "#b8e186"
            ],
            [
             0.8,
             "#7fbc41"
            ],
            [
             0.9,
             "#4d9221"
            ],
            [
             1,
             "#276419"
            ]
           ],
           "sequential": [
            [
             0,
             "#0d0887"
            ],
            [
             0.1111111111111111,
             "#46039f"
            ],
            [
             0.2222222222222222,
             "#7201a8"
            ],
            [
             0.3333333333333333,
             "#9c179e"
            ],
            [
             0.4444444444444444,
             "#bd3786"
            ],
            [
             0.5555555555555556,
             "#d8576b"
            ],
            [
             0.6666666666666666,
             "#ed7953"
            ],
            [
             0.7777777777777778,
             "#fb9f3a"
            ],
            [
             0.8888888888888888,
             "#fdca26"
            ],
            [
             1,
             "#f0f921"
            ]
           ],
           "sequentialminus": [
            [
             0,
             "#0d0887"
            ],
            [
             0.1111111111111111,
             "#46039f"
            ],
            [
             0.2222222222222222,
             "#7201a8"
            ],
            [
             0.3333333333333333,
             "#9c179e"
            ],
            [
             0.4444444444444444,
             "#bd3786"
            ],
            [
             0.5555555555555556,
             "#d8576b"
            ],
            [
             0.6666666666666666,
             "#ed7953"
            ],
            [
             0.7777777777777778,
             "#fb9f3a"
            ],
            [
             0.8888888888888888,
             "#fdca26"
            ],
            [
             1,
             "#f0f921"
            ]
           ]
          },
          "colorway": [
           "#636efa",
           "#EF553B",
           "#00cc96",
           "#ab63fa",
           "#FFA15A",
           "#19d3f3",
           "#FF6692",
           "#B6E880",
           "#FF97FF",
           "#FECB52"
          ],
          "font": {
           "color": "#f2f5fa"
          },
          "geo": {
           "bgcolor": "rgb(17,17,17)",
           "lakecolor": "rgb(17,17,17)",
           "landcolor": "rgb(17,17,17)",
           "showlakes": true,
           "showland": true,
           "subunitcolor": "#506784"
          },
          "hoverlabel": {
           "align": "left"
          },
          "hovermode": "closest",
          "mapbox": {
           "style": "dark"
          },
          "paper_bgcolor": "rgb(17,17,17)",
          "plot_bgcolor": "rgb(17,17,17)",
          "polar": {
           "angularaxis": {
            "gridcolor": "#506784",
            "linecolor": "#506784",
            "ticks": ""
           },
           "bgcolor": "rgb(17,17,17)",
           "radialaxis": {
            "gridcolor": "#506784",
            "linecolor": "#506784",
            "ticks": ""
           }
          },
          "scene": {
           "xaxis": {
            "backgroundcolor": "rgb(17,17,17)",
            "gridcolor": "#506784",
            "gridwidth": 2,
            "linecolor": "#506784",
            "showbackground": true,
            "ticks": "",
            "zerolinecolor": "#C8D4E3"
           },
           "yaxis": {
            "backgroundcolor": "rgb(17,17,17)",
            "gridcolor": "#506784",
            "gridwidth": 2,
            "linecolor": "#506784",
            "showbackground": true,
            "ticks": "",
            "zerolinecolor": "#C8D4E3"
           },
           "zaxis": {
            "backgroundcolor": "rgb(17,17,17)",
            "gridcolor": "#506784",
            "gridwidth": 2,
            "linecolor": "#506784",
            "showbackground": true,
            "ticks": "",
            "zerolinecolor": "#C8D4E3"
           }
          },
          "shapedefaults": {
           "line": {
            "color": "#f2f5fa"
           }
          },
          "sliderdefaults": {
           "bgcolor": "#C8D4E3",
           "bordercolor": "rgb(17,17,17)",
           "borderwidth": 1,
           "tickwidth": 0
          },
          "ternary": {
           "aaxis": {
            "gridcolor": "#506784",
            "linecolor": "#506784",
            "ticks": ""
           },
           "baxis": {
            "gridcolor": "#506784",
            "linecolor": "#506784",
            "ticks": ""
           },
           "bgcolor": "rgb(17,17,17)",
           "caxis": {
            "gridcolor": "#506784",
            "linecolor": "#506784",
            "ticks": ""
           }
          },
          "title": {
           "x": 0.05
          },
          "updatemenudefaults": {
           "bgcolor": "#506784",
           "borderwidth": 0
          },
          "xaxis": {
           "automargin": true,
           "gridcolor": "#283442",
           "linecolor": "#506784",
           "ticks": "",
           "title": {
            "standoff": 15
           },
           "zerolinecolor": "#283442",
           "zerolinewidth": 2
          },
          "yaxis": {
           "automargin": true,
           "gridcolor": "#283442",
           "linecolor": "#506784",
           "ticks": "",
           "title": {
            "standoff": 15
           },
           "zerolinecolor": "#283442",
           "zerolinewidth": 2
          }
         }
        },
        "title": {
         "text": "💼 Average Salary by Experience Range",
         "x": 0.5
        },
        "xaxis": {
         "anchor": "y",
         "domain": [
          0,
          1
         ],
         "title": {
          "text": "Years of Experience (Grouped)"
         }
        },
        "yaxis": {
         "anchor": "x",
         "domain": [
          0,
          1
         ],
         "title": {
          "text": "Average Salary"
         }
        }
       }
      }
     },
     "metadata": {},
     "output_type": "display_data"
    }
   ],
   "source": [
    "\n",
    "fig = px.bar(\n",
    "    x=salary_by_exp.index,\n",
    "    y=salary_by_exp.values,\n",
    "    color=salary_by_exp.index,\n",
    "    title=\"💼 Average Salary by Experience Range\",\n",
    "    labels={\"x\": \"Experience Range\", \"y\": \"Average Salary\"},\n",
    "    color_discrete_sequence=px.colors.sequential.Viridis,\n",
    "    template=\"plotly_dark\",\n",
    "    text=salary_by_exp.apply(lambda x: f\"${x:,.0f}\")\n",
    ")\n",
    "\n",
    "# Customize layout\n",
    "fig.update_layout(\n",
    "    title_x=0.5,\n",
    "    xaxis_title=\"Years of Experience (Grouped)\",\n",
    "    yaxis_title=\"Average Salary\",\n",
    "    height=500\n",
    ")\n",
    "\n",
    "# Customize trace appearance\n",
    "fig.update_traces(\n",
    "    textposition=\"outside\",\n",
    "    textfont=dict(size=14, color=\"#FFFFFF\"),\n",
    "    hovertemplate=\"Experience: %{x}<br>Avg Salary: %{y:$,.0f}\"\n",
    ")\n",
    "\n",
    "# Show plot\n",
    "fig.show()\n"
   ]
  },
  {
   "cell_type": "code",
   "execution_count": 23,
   "id": "32cf7004",
   "metadata": {},
   "outputs": [
    {
     "data": {
      "application/vnd.plotly.v1+json": {
       "config": {
        "plotlyServerURL": "https://plot.ly"
       },
       "data": [
        {
         "diagonal": {
          "visible": true
         },
         "dimensions": [
          {
           "axis": {
            "matches": true
           },
           "label": "Age",
           "values": {
            "bdata": "AAAAAAAAQEAAAAAAAAA8QAAAAAAAgEZAAAAAAAAAQkAAAAAAAABKQAAAAAAAAD1AAAAAAAAARUAAAAAAAAA/QAAAAAAAADpAAAAAAAAAQ0AAAAAAAAA9QAAAAAAAAEhAAAAAAACAQUAAAAAAAABEQAAAAAAAADtAAAAAAAAARkAAAAAAAIBAQAAAAAAAgENAAAAAAAAAOUAAAAAAAIBJQAAAAAAAAEFAAAAAAACAR0AAAAAAAAA+QAAAAAAAAEJAAAAAAACAREAAAAAAAAA8QAAAAAAAgEJAAAAAAAAAOEAAAAAAAIBFQAAAAAAAgEBAAAAAAAAASUAAAAAAAAA/QAAAAAAAAD1AAAAAAACAQ0AAAAAAAABHQAAAAAAAADtAAAAAAACAQUAAAAAAAABFQAAAAAAAADpAAAAAAACASEAAAAAAAABBQAAAAAAAAEhAAAAAAAAAPkAAAAAAAABCQAAAAAAAgERAAAAAAAAAPEAAAAAAAABAQAAAAAAAgEZAAAAAAAAAQ0AAAAAAAAA5QAAAAAAAgElAAAAAAACAQEAAAAAAAABEQAAAAAAAgEdAAAAAAAAAPUAAAAAAAABCQAAAAAAAADtAAAAAAACARUAAAAAAAAA+QAAAAAAAgEFAAAAAAACASUAAAAAAAAA9QAAAAAAAAERAAAAAAACAR0AAAAAAAAA6QAAAAAAAAENAAAAAAAAAR0AAAAAAAAA/QAAAAAAAAEFAAAAAAACASEAAAAAAAIBAQAAAAAAAgENAAAAAAACARkAAAAAAAAA8QAAAAAAAAEVAAAAAAACAQkAAAAAAAABJQAAAAAAAAEBAAAAAAAAASEAAAAAAAAA+QAAAAAAAAEJAAAAAAACAREAAAAAAAAA5QAAAAAAAAEpAAAAAAAAAPUAAAAAAAABBQAAAAAAAADtAAAAAAAAAREAAAAAAAABHQAAAAAAAAD9AAAAAAAAAQkAAAAAAAAA9QAAAAAAAgEVAAAAAAAAASkAAAAAAAIBAQAAAAAAAgENAAAAAAACAR0AAAAAAAAA6QAAAAAAAAENAAAAAAACARkAAAAAAAAA/QAAAAAAAgEFAAAAAAACASEAAAAAAAIBAQAAAAAAAgENAAAAAAAAARkAAAAAAAAA+QAAAAAAAAEJAAAAAAACAREAAAAAAAAA8QAAAAAAAAEVAAAAAAACAQkAAAAAAAABJQAAAAAAAAEBAAAAAAAAAN0AAAAAAAAA/QAAAAAAAAERAAAAAAAAASEAAAAAAAAA9QAAAAAAAgEFAAAAAAAAARUAAAAAAAIBKQAAAAAAAgEBAAAAAAAAAQ0AAAAAAAABGQAAAAAAAADpAAAAAAACAQkAAAAAAAIBGQAAAAAAAAEBAAAAAAAAAQUAAAAAAAABJQAAAAAAAAD1AAAAAAAAAREAAAAAAAIBHQAAAAAAAADtAAAAAAACAQ0AAAAAAAABHQAAAAAAAAD5AAAAAAAAAQkAAAAAAAIBFQAAAAAAAADxAAAAAAACAREAAAAAAAIBAQAAAAAAAgEdAAAAAAAAAOUAAAAAAAABBQAAAAAAAAEVAAAAAAAAAP0AAAAAAAABDQAAAAAAAgEZAAAAAAAAAPUAAAAAAAABCQAAAAAAAgEVAAAAAAAAAOkAAAAAAAIBCQAAAAAAAAEZAAAAAAAAAQEAAAAAAAIBAQAAAAAAAgElAAAAAAAAAPEAAAAAAAIBDQAAAAAAAAEhAAAAAAAAAPkAAAAAAAIBBQAAAAAAAgERAAAAAAAAAO0AAAAAAAABEQAAAAAAAAEdAAAAAAAAAP0AAAAAAAABBQAAAAAAAAElAAAAAAAAAPUAAAAAAAAD4fwAAAAAAgEVAAAAAAAAAOkAAAAAAAIBBQAAAAAAAAEVAAAAAAAAAP0AAAAAAAABDQAAAAAAAAEdAAAAAAAAAPUAAAAAAAIBCQAAAAAAAAEZAAAAAAAAAO0AAAAAAAABCQAAAAAAAgEVAAAAAAACAQEAAAAAAAABBQAAAAAAAAElAAAAAAAAAPEAAAAAAAIBDQAAAAAAAgEdAAAAAAAAAPkAAAAAAAABBQAAAAAAAAERAAAAAAAAAPEAAAAAAAIBEQAAAAAAAgEZAAAAAAAAAQEAAAAAAAIBBQAAAAAAAgEhAAAAAAAAAPkAAAAAAAABGQAAAAAAAADtAAAAAAAAAQkAAAAAAAIBEQAAAAAAAAD9AAAAAAACAQ0AAAAAAAIBHQAAAAAAAAD5AAAAAAAAAQ0AAAAAAAIBGQAAAAAAAADxAAAAAAACAQUAAAAAAAABGQAAAAAAAAEFAAAAAAACAQUAAAAAAAABJQAAAAAAAAD1AAAAAAAAAREAAAAAAAABIQAAAAAAAAD9AAAAAAACAQEAAAAAAAABFQAAAAAAAADxAAAAAAAAAREAAAAAAAABHQAAAAAAAgEBAAAAAAACAQkAAAAAAAIBJQAAAAAAAAD5AAAAAAACARUAAAAAAAAA7QAAAAAAAgEFAAAAAAAAARUAAAAAAAABAQAAAAAAAgEJAAAAAAACARkAAAAAAAIBAQAAAAAAAgENAAAAAAAAARkAAAAAAAAA9QAAAAAAAAENAAAAAAAAAR0AAAAAAAABBQAAAAAAAAEJAAAAAAACASEAAAAAAAAA/QAAAAAAAgERAAAAAAACAR0AAAAAAAAA+QAAAAAAAAENAAAAAAACARkAAAAAAAAA8QAAAAAAAgEFAAAAAAAAARkAAAAAAAABBQAAAAAAAgEFAAAAAAAAASUAAAAAAAAA9QAAAAAAAAPh/AAAAAACAQkAAAAAAAABHQAAAAAAAAD9AAAAAAAAARUAAAAAAAAA9QAAAAAAAAEJAAAAAAAAARkAAAAAAAIBAQAAAAAAAgENAAAAAAACARkAAAAAAAABAQAAAAAAAgEJAAAAAAACAR0AAAAAAAAA+QAAAAAAAAENAAAAAAAAAR0AAAAAAAABBQAAAAAAAAEJAAAAAAACASEAAAAAAAAA/QAAAAAAAgERAAAAAAACAR0AAAAAAAAA9QAAAAAAAgEFAAAAAAAAARkAAAAAAAIBAQAAAAAAAgEFAAAAAAAAARkAAAAAAAABAQAAAAAAAAENAAAAAAACASEAAAAAAAAA9QAAAAAAAgEFAAAAAAACARkAAAAAAAIBAQAAAAAAAAERAAAAAAAAARkAAAAAAAAA+QAAAAAAAgEJAAAAAAAAASEAAAAAAAAA/QAAAAAAAAENAAAAAAACARkAAAAAAAIBAQAAAAAAAAEJAAAAAAACASEAAAAAAAAA/QAAAAAAAAEVAAAAAAACAR0AAAAAAAAA9QAAAAAAAgEFAAAAAAAAARkAAAAAAAIBAQAAAAAAAgEFAAAAAAAAARkAAAAAAAABBQAAAAAAAAEJAAAAAAAAAPkAAAAAAAIBCQAAAAAAAgEZAAAAAAAAAQEAAAAAAAIBDQAAAAAAAgEdAAAAAAAAAPUAAAAAAAABCQAAAAAAAgEVAAAAAAAAAQEAAAAAAAABDQAAAAAAAAEhAAAAAAAAAP0AAAAAAAABEQAAAAAAAgEZAAAAAAACAQEAAAAAAAABCQAAAAAAAgEdAAAAAAAAAPUAAAAAAAABBQAAAAAAAAEZAAAAAAACAQEAAAAAAAIBBQAAAAAAAgEVAAAAAAAAAP0AAAAAAAIBEQAAAAAAAAEZAAAAAAACAQEAAAAAAAIBBQAAAAAAAgEZAAAAAAAAAPEAAAAAAAABCQAAAAAAAAEZAAAAAAAAAP0AAAAAAAABDQAAAAAAAAEhAAAAAAAAAP0AAAAAAAABEQAAAAAAAgEZAAAAAAACAQEAAAAAAAABCQAAAAAAAgEdAAAAAAAAAPUAAAAAAAABBQAAAAAAAAEZAAAAAAACAQEAAAAAAAIBBQAAAAAAAgEVAAAAAAAAAP0AAAAAAAIBEQAAAAAAAAEZAAAAAAACAQEAAAAAAAIBBQAAAAAAAgEVAAAAAAAAAPUAAAAAAAABBQAAAAAAAAEZA",
            "dtype": "f8"
           }
          },
          {
           "axis": {
            "matches": true
           },
           "label": "Years of Experience",
           "values": {
            "bdata": "AAAAAAAAFEAAAAAAAAAIQAAAAAAAAC5AAAAAAAAAHEAAAAAAAAA0QAAAAAAAAABAAAAAAAAAKEAAAAAAAAAQQAAAAAAAAPA/AAAAAAAAJEAAAAAAAAAIQAAAAAAAADJAAAAAAAAAGEAAAAAAAAAsQAAAAAAAAABAAAAAAAAAMEAAAAAAAAAcQAAAAAAAAChAAAAAAAAAAAAAAAAAAAA2QAAAAAAAABRAAAAAAAAAM0AAAAAAAAAAQAAAAAAAACJAAAAAAAAAKkAAAAAAAAAIQAAAAAAAACZAAAAAAAAA8D8AAAAAAAAuQAAAAAAAABhAAAAAAAAAOUAAAAAAAAAQQAAAAAAAAAhAAAAAAAAAJEAAAAAAAAA0QAAAAAAAAABAAAAAAAAAHEAAAAAAAAAsQAAAAAAAAPA/AAAAAAAANUAAAAAAAAAUQAAAAAAAADJAAAAAAAAACEAAAAAAAAAgQAAAAAAAACpAAAAAAAAAAEAAAAAAAAAUQAAAAAAAADBAAAAAAAAAJkAAAAAAAAAAAAAAAAAAADZAAAAAAAAAHEAAAAAAAAAoQAAAAAAAADNAAAAAAAAACEAAAAAAAAAiQAAAAAAAAABAAAAAAAAAMUAAAAAAAAAQQAAAAAAAABxAAAAAAAAAN0AAAAAAAAAIQAAAAAAAAChAAAAAAAAANUAAAAAAAADwPwAAAAAAACRAAAAAAAAAM0AAAAAAAAAUQAAAAAAAACBAAAAAAAAAMkAAAAAAAAAYQAAAAAAAACZAAAAAAAAAMEAAAAAAAAAAQAAAAAAAACxAAAAAAAAAJEAAAAAAAAA2QAAAAAAAABhAAAAAAAAANEAAAAAAAAAIQAAAAAAAACBAAAAAAAAAKkAAAAAAAAAAAAAAAAAAADhAAAAAAAAAAEAAAAAAAAAkQAAAAAAAAABAAAAAAAAALkAAAAAAAAA1QAAAAAAAABhAAAAAAAAAJkAAAAAAAAAIQAAAAAAAADJAAAAAAAAAOUAAAAAAAAAcQAAAAAAAAChAAAAAAAAANkAAAAAAAADwPwAAAAAAACRAAAAAAAAANEAAAAAAAAAUQAAAAAAAACBAAAAAAAAAM0AAAAAAAAAUQAAAAAAAACpAAAAAAAAAMEAAAAAAAAAIQAAAAAAAABxAAAAAAAAALEAAAAAAAAAAQAAAAAAAAC5AAAAAAAAAIkAAAAAAAAA2QAAAAAAAABhAAAAAAAAA4D8AAAAAAAAYQAAAAAAAAC5AAAAAAAAANEAAAAAAAAAIQAAAAAAAACRAAAAAAAAAMUAAAAAAAAA5QAAAAAAAABRAAAAAAAAAJkAAAAAAAAAwQAAAAAAAAABAAAAAAAAAIkAAAAAAAAAyQAAAAAAAABBAAAAAAAAAIEAAAAAAAAA1QAAAAAAAAAhAAAAAAAAAKEAAAAAAAAA2QAAAAAAAAPA/AAAAAAAAJEAAAAAAAAAzQAAAAAAAABBAAAAAAAAAHEAAAAAAAAAsQAAAAAAAAABAAAAAAAAAKkAAAAAAAAAUQAAAAAAAADRAAAAAAAAA+D8AAAAAAAAgQAAAAAAAADBAAAAAAAAAEEAAAAAAAAAkQAAAAAAAADNAAAAAAAAACEAAAAAAAAAmQAAAAAAAADJAAAAAAAAAAEAAAAAAAAAiQAAAAAAAACxAAAAAAAAAFEAAAAAAAAAcQAAAAAAAADdAAAAAAAAAAEAAAAAAAAAoQAAAAAAAADVAAAAAAAAACEAAAAAAAAAcQAAAAAAAACpAAAAAAAAA+D8AAAAAAAAsQAAAAAAAADJAAAAAAAAAEEAAAAAAAAAiQAAAAAAAADRAAAAAAAAAAEAAAAAAAAD4fwAAAAAAADBAAAAAAAAA+D8AAAAAAAAcQAAAAAAAADJAAAAAAAAAEEAAAAAAAAAkQAAAAAAAADRAAAAAAAAAAEAAAAAAAAAiQAAAAAAAAC5AAAAAAAAAAEAAAAAAAAAgQAAAAAAAACxAAAAAAAAAGEAAAAAAAAAiQAAAAAAAADZAAAAAAAAA+D8AAAAAAAAoQAAAAAAAADNAAAAAAAAACEAAAAAAAAAcQAAAAAAAACpAAAAAAAAAAEAAAAAAAAAmQAAAAAAAADFAAAAAAAAAFEAAAAAAAAAiQAAAAAAAADVAAAAAAAAACEAAAAAAAAAwQAAAAAAAAPg/AAAAAAAAHEAAAAAAAAAxQAAAAAAAABBAAAAAAAAAJEAAAAAAAAA0QAAAAAAAAABAAAAAAAAAIkAAAAAAAAAuQAAAAAAAAABAAAAAAAAAIEAAAAAAAAAsQAAAAAAAABhAAAAAAAAAIkAAAAAAAAA2QAAAAAAAAPg/AAAAAAAAKEAAAAAAAAAzQAAAAAAAAAhAAAAAAAAAHEAAAAAAAAAqQAAAAAAAAABAAAAAAAAAJkAAAAAAAAAyQAAAAAAAABRAAAAAAAAAIkAAAAAAAAA1QAAAAAAAAAhAAAAAAAAALkAAAAAAAAD4PwAAAAAAACBAAAAAAAAAKkAAAAAAAAAIQAAAAAAAACJAAAAAAAAAMEAAAAAAAAAUQAAAAAAAACRAAAAAAAAAMkAAAAAAAAD4PwAAAAAAACRAAAAAAAAAM0AAAAAAAAAYQAAAAAAAACBAAAAAAAAANUAAAAAAAAAIQAAAAAAAACZAAAAAAAAANEAAAAAAAAAAQAAAAAAAACJAAAAAAAAALkAAAAAAAAAAQAAAAAAAACBAAAAAAAAALEAAAAAAAAAYQAAAAAAAACJAAAAAAAAANkAAAAAAAAD4PwAAAAAAAPh/AAAAAAAAJEAAAAAAAAAyQAAAAAAAAAhAAAAAAAAAKEAAAAAAAAD4PwAAAAAAACBAAAAAAAAALkAAAAAAAAAQQAAAAAAAACJAAAAAAAAAMEAAAAAAAAAQQAAAAAAAACBAAAAAAAAANEAAAAAAAAAAQAAAAAAAACJAAAAAAAAAMUAAAAAAAAAUQAAAAAAAACBAAAAAAAAANUAAAAAAAAAIQAAAAAAAACZAAAAAAAAAM0AAAAAAAAD4PwAAAAAAACJAAAAAAAAALkAAAAAAAAAQQAAAAAAAACBAAAAAAAAAKkAAAAAAAAAQQAAAAAAAACRAAAAAAAAANUAAAAAAAAAAQAAAAAAAABxAAAAAAAAALEAAAAAAAAAQQAAAAAAAAChAAAAAAAAAMEAAAAAAAAAAQAAAAAAAACJAAAAAAAAANEAAAAAAAAAIQAAAAAAAACJAAAAAAAAAMEAAAAAAAAAUQAAAAAAAACBAAAAAAAAANUAAAAAAAAAIQAAAAAAAAChAAAAAAAAAM0AAAAAAAAD4PwAAAAAAACJAAAAAAAAALkAAAAAAAAAQQAAAAAAAACBAAAAAAAAAKkAAAAAAAAAYQAAAAAAAACBAAAAAAAAAAEAAAAAAAAAkQAAAAAAAADBAAAAAAAAAEEAAAAAAAAAoQAAAAAAAADRAAAAAAAAAAEAAAAAAAAAiQAAAAAAAAC5AAAAAAAAACEAAAAAAAAAkQAAAAAAAADVAAAAAAAAACEAAAAAAAAAoQAAAAAAAADBAAAAAAAAAEEAAAAAAAAAgQAAAAAAAADNAAAAAAAAAAEAAAAAAAAAcQAAAAAAAAC5AAAAAAAAAFEAAAAAAAAAgQAAAAAAAADJAAAAAAAAACEAAAAAAAAAsQAAAAAAAADBAAAAAAAAAEEAAAAAAAAAgQAAAAAAAADNAAAAAAAAA8D8AAAAAAAAgQAAAAAAAADBAAAAAAAAACEAAAAAAAAAkQAAAAAAAADVAAAAAAAAACEAAAAAAAAAoQAAAAAAAADBAAAAAAAAAEEAAAAAAAAAgQAAAAAAAADNAAAAAAAAAAEAAAAAAAAAcQAAAAAAAAC5AAAAAAAAAFEAAAAAAAAAgQAAAAAAAADJAAAAAAAAACEAAAAAAAAAsQAAAAAAAADBAAAAAAAAAEEAAAAAAAAAgQAAAAAAAADNAAAAAAAAAAEAAAAAAAAAcQAAAAAAAAC5A",
            "dtype": "f8"
           }
          },
          {
           "axis": {
            "matches": true
           },
           "label": "Salary",
           "values": {
            "bdata": "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",
            "dtype": "f8"
           }
          }
         ],
         "hovertemplate": "%{xaxis.title.text}=%{x}<br>%{yaxis.title.text}=%{y}<br>Salary=%{marker.color}<extra></extra>",
         "legendgroup": "",
         "marker": {
          "color": {
           "bdata": "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",
           "dtype": "f8"
          },
          "coloraxis": "coloraxis",
          "opacity": 0.6,
          "symbol": "circle"
         },
         "name": "",
         "showlegend": false,
         "type": "splom"
        }
       ],
       "layout": {
        "coloraxis": {
         "colorbar": {
          "title": {
           "text": "Salary"
          }
         },
         "colorscale": [
          [
           0,
           "#0d0887"
          ],
          [
           0.1111111111111111,
           "#46039f"
          ],
          [
           0.2222222222222222,
           "#7201a8"
          ],
          [
           0.3333333333333333,
           "#9c179e"
          ],
          [
           0.4444444444444444,
           "#bd3786"
          ],
          [
           0.5555555555555556,
           "#d8576b"
          ],
          [
           0.6666666666666666,
           "#ed7953"
          ],
          [
           0.7777777777777778,
           "#fb9f3a"
          ],
          [
           0.8888888888888888,
           "#fdca26"
          ],
          [
           1,
           "#f0f921"
          ]
         ]
        },
        "dragmode": "select",
        "height": 800,
        "legend": {
         "tracegroupgap": 0
        },
        "template": {
         "data": {
          "bar": [
           {
            "error_x": {
             "color": "#f2f5fa"
            },
            "error_y": {
             "color": "#f2f5fa"
            },
            "marker": {
             "line": {
              "color": "rgb(17,17,17)",
              "width": 0.5
             },
             "pattern": {
              "fillmode": "overlay",
              "size": 10,
              "solidity": 0.2
             }
            },
            "type": "bar"
           }
          ],
          "barpolar": [
           {
            "marker": {
             "line": {
              "color": "rgb(17,17,17)",
              "width": 0.5
             },
             "pattern": {
              "fillmode": "overlay",
              "size": 10,
              "solidity": 0.2
             }
            },
            "type": "barpolar"
           }
          ],
          "carpet": [
           {
            "aaxis": {
             "endlinecolor": "#A2B1C6",
             "gridcolor": "#506784",
             "linecolor": "#506784",
             "minorgridcolor": "#506784",
             "startlinecolor": "#A2B1C6"
            },
            "baxis": {
             "endlinecolor": "#A2B1C6",
             "gridcolor": "#506784",
             "linecolor": "#506784",
             "minorgridcolor": "#506784",
             "startlinecolor": "#A2B1C6"
            },
            "type": "carpet"
           }
          ],
          "choropleth": [
           {
            "colorbar": {
             "outlinewidth": 0,
             "ticks": ""
            },
            "type": "choropleth"
           }
          ],
          "contour": [
           {
            "colorbar": {
             "outlinewidth": 0,
             "ticks": ""
            },
            "colorscale": [
             [
              0,
              "#0d0887"
             ],
             [
              0.1111111111111111,
              "#46039f"
             ],
             [
              0.2222222222222222,
              "#7201a8"
             ],
             [
              0.3333333333333333,
              "#9c179e"
             ],
             [
              0.4444444444444444,
              "#bd3786"
             ],
             [
              0.5555555555555556,
              "#d8576b"
             ],
             [
              0.6666666666666666,
              "#ed7953"
             ],
             [
              0.7777777777777778,
              "#fb9f3a"
             ],
             [
              0.8888888888888888,
              "#fdca26"
             ],
             [
              1,
              "#f0f921"
             ]
            ],
            "type": "contour"
           }
          ],
          "contourcarpet": [
           {
            "colorbar": {
             "outlinewidth": 0,
             "ticks": ""
            },
            "type": "contourcarpet"
           }
          ],
          "heatmap": [
           {
            "colorbar": {
             "outlinewidth": 0,
             "ticks": ""
            },
            "colorscale": [
             [
              0,
              "#0d0887"
             ],
             [
              0.1111111111111111,
              "#46039f"
             ],
             [
              0.2222222222222222,
              "#7201a8"
             ],
             [
              0.3333333333333333,
              "#9c179e"
             ],
             [
              0.4444444444444444,
              "#bd3786"
             ],
             [
              0.5555555555555556,
              "#d8576b"
             ],
             [
              0.6666666666666666,
              "#ed7953"
             ],
             [
              0.7777777777777778,
              "#fb9f3a"
             ],
             [
              0.8888888888888888,
              "#fdca26"
             ],
             [
              1,
              "#f0f921"
             ]
            ],
            "type": "heatmap"
           }
          ],
          "histogram": [
           {
            "marker": {
             "pattern": {
              "fillmode": "overlay",
              "size": 10,
              "solidity": 0.2
             }
            },
            "type": "histogram"
           }
          ],
          "histogram2d": [
           {
            "colorbar": {
             "outlinewidth": 0,
             "ticks": ""
            },
            "colorscale": [
             [
              0,
              "#0d0887"
             ],
             [
              0.1111111111111111,
              "#46039f"
             ],
             [
              0.2222222222222222,
              "#7201a8"
             ],
             [
              0.3333333333333333,
              "#9c179e"
             ],
             [
              0.4444444444444444,
              "#bd3786"
             ],
             [
              0.5555555555555556,
              "#d8576b"
             ],
             [
              0.6666666666666666,
              "#ed7953"
             ],
             [
              0.7777777777777778,
              "#fb9f3a"
             ],
             [
              0.8888888888888888,
              "#fdca26"
             ],
             [
              1,
              "#f0f921"
             ]
            ],
            "type": "histogram2d"
           }
          ],
          "histogram2dcontour": [
           {
            "colorbar": {
             "outlinewidth": 0,
             "ticks": ""
            },
            "colorscale": [
             [
              0,
              "#0d0887"
             ],
             [
              0.1111111111111111,
              "#46039f"
             ],
             [
              0.2222222222222222,
              "#7201a8"
             ],
             [
              0.3333333333333333,
              "#9c179e"
             ],
             [
              0.4444444444444444,
              "#bd3786"
             ],
             [
              0.5555555555555556,
              "#d8576b"
             ],
             [
              0.6666666666666666,
              "#ed7953"
             ],
             [
              0.7777777777777778,
              "#fb9f3a"
             ],
             [
              0.8888888888888888,
              "#fdca26"
             ],
             [
              1,
              "#f0f921"
             ]
            ],
            "type": "histogram2dcontour"
           }
          ],
          "mesh3d": [
           {
            "colorbar": {
             "outlinewidth": 0,
             "ticks": ""
            },
            "type": "mesh3d"
           }
          ],
          "parcoords": [
           {
            "line": {
             "colorbar": {
              "outlinewidth": 0,
              "ticks": ""
             }
            },
            "type": "parcoords"
           }
          ],
          "pie": [
           {
            "automargin": true,
            "type": "pie"
           }
          ],
          "scatter": [
           {
            "marker": {
             "line": {
              "color": "#283442"
             }
            },
            "type": "scatter"
           }
          ],
          "scatter3d": [
           {
            "line": {
             "colorbar": {
              "outlinewidth": 0,
              "ticks": ""
             }
            },
            "marker": {
             "colorbar": {
              "outlinewidth": 0,
              "ticks": ""
             }
            },
            "type": "scatter3d"
           }
          ],
          "scattercarpet": [
           {
            "marker": {
             "colorbar": {
              "outlinewidth": 0,
              "ticks": ""
             }
            },
            "type": "scattercarpet"
           }
          ],
          "scattergeo": [
           {
            "marker": {
             "colorbar": {
              "outlinewidth": 0,
              "ticks": ""
             }
            },
            "type": "scattergeo"
           }
          ],
          "scattergl": [
           {
            "marker": {
             "line": {
              "color": "#283442"
             }
            },
            "type": "scattergl"
           }
          ],
          "scattermap": [
           {
            "marker": {
             "colorbar": {
              "outlinewidth": 0,
              "ticks": ""
             }
            },
            "type": "scattermap"
           }
          ],
          "scattermapbox": [
           {
            "marker": {
             "colorbar": {
              "outlinewidth": 0,
              "ticks": ""
             }
            },
            "type": "scattermapbox"
           }
          ],
          "scatterpolar": [
           {
            "marker": {
             "colorbar": {
              "outlinewidth": 0,
              "ticks": ""
             }
            },
            "type": "scatterpolar"
           }
          ],
          "scatterpolargl": [
           {
            "marker": {
             "colorbar": {
              "outlinewidth": 0,
              "ticks": ""
             }
            },
            "type": "scatterpolargl"
           }
          ],
          "scatterternary": [
           {
            "marker": {
             "colorbar": {
              "outlinewidth": 0,
              "ticks": ""
             }
            },
            "type": "scatterternary"
           }
          ],
          "surface": [
           {
            "colorbar": {
             "outlinewidth": 0,
             "ticks": ""
            },
            "colorscale": [
             [
              0,
              "#0d0887"
             ],
             [
              0.1111111111111111,
              "#46039f"
             ],
             [
              0.2222222222222222,
              "#7201a8"
             ],
             [
              0.3333333333333333,
              "#9c179e"
             ],
             [
              0.4444444444444444,
              "#bd3786"
             ],
             [
              0.5555555555555556,
              "#d8576b"
             ],
             [
              0.6666666666666666,
              "#ed7953"
             ],
             [
              0.7777777777777778,
              "#fb9f3a"
             ],
             [
              0.8888888888888888,
              "#fdca26"
             ],
             [
              1,
              "#f0f921"
             ]
            ],
            "type": "surface"
           }
          ],
          "table": [
           {
            "cells": {
             "fill": {
              "color": "#506784"
             },
             "line": {
              "color": "rgb(17,17,17)"
             }
            },
            "header": {
             "fill": {
              "color": "#2a3f5f"
             },
             "line": {
              "color": "rgb(17,17,17)"
             }
            },
            "type": "table"
           }
          ]
         },
         "layout": {
          "annotationdefaults": {
           "arrowcolor": "#f2f5fa",
           "arrowhead": 0,
           "arrowwidth": 1
          },
          "autotypenumbers": "strict",
          "coloraxis": {
           "colorbar": {
            "outlinewidth": 0,
            "ticks": ""
           }
          },
          "colorscale": {
           "diverging": [
            [
             0,
             "#8e0152"
            ],
            [
             0.1,
             "#c51b7d"
            ],
            [
             0.2,
             "#de77ae"
            ],
            [
             0.3,
             "#f1b6da"
            ],
            [
             0.4,
             "#fde0ef"
            ],
            [
             0.5,
             "#f7f7f7"
            ],
            [
             0.6,
             "#e6f5d0"
            ],
            [
             0.7,
             "#b8e186"
            ],
            [
             0.8,
             "#7fbc41"
            ],
            [
             0.9,
             "#4d9221"
            ],
            [
             1,
             "#276419"
            ]
           ],
           "sequential": [
            [
             0,
             "#0d0887"
            ],
            [
             0.1111111111111111,
             "#46039f"
            ],
            [
             0.2222222222222222,
             "#7201a8"
            ],
            [
             0.3333333333333333,
             "#9c179e"
            ],
            [
             0.4444444444444444,
             "#bd3786"
            ],
            [
             0.5555555555555556,
             "#d8576b"
            ],
            [
             0.6666666666666666,
             "#ed7953"
            ],
            [
             0.7777777777777778,
             "#fb9f3a"
            ],
            [
             0.8888888888888888,
             "#fdca26"
            ],
            [
             1,
             "#f0f921"
            ]
           ],
           "sequentialminus": [
            [
             0,
             "#0d0887"
            ],
            [
             0.1111111111111111,
             "#46039f"
            ],
            [
             0.2222222222222222,
             "#7201a8"
            ],
            [
             0.3333333333333333,
             "#9c179e"
            ],
            [
             0.4444444444444444,
             "#bd3786"
            ],
            [
             0.5555555555555556,
             "#d8576b"
            ],
            [
             0.6666666666666666,
             "#ed7953"
            ],
            [
             0.7777777777777778,
             "#fb9f3a"
            ],
            [
             0.8888888888888888,
             "#fdca26"
            ],
            [
             1,
             "#f0f921"
            ]
           ]
          },
          "colorway": [
           "#636efa",
           "#EF553B",
           "#00cc96",
           "#ab63fa",
           "#FFA15A",
           "#19d3f3",
           "#FF6692",
           "#B6E880",
           "#FF97FF",
           "#FECB52"
          ],
          "font": {
           "color": "#f2f5fa"
          },
          "geo": {
           "bgcolor": "rgb(17,17,17)",
           "lakecolor": "rgb(17,17,17)",
           "landcolor": "rgb(17,17,17)",
           "showlakes": true,
           "showland": true,
           "subunitcolor": "#506784"
          },
          "hoverlabel": {
           "align": "left"
          },
          "hovermode": "closest",
          "mapbox": {
           "style": "dark"
          },
          "paper_bgcolor": "rgb(17,17,17)",
          "plot_bgcolor": "rgb(17,17,17)",
          "polar": {
           "angularaxis": {
            "gridcolor": "#506784",
            "linecolor": "#506784",
            "ticks": ""
           },
           "bgcolor": "rgb(17,17,17)",
           "radialaxis": {
            "gridcolor": "#506784",
            "linecolor": "#506784",
            "ticks": ""
           }
          },
          "scene": {
           "xaxis": {
            "backgroundcolor": "rgb(17,17,17)",
            "gridcolor": "#506784",
            "gridwidth": 2,
            "linecolor": "#506784",
            "showbackground": true,
            "ticks": "",
            "zerolinecolor": "#C8D4E3"
           },
           "yaxis": {
            "backgroundcolor": "rgb(17,17,17)",
            "gridcolor": "#506784",
            "gridwidth": 2,
            "linecolor": "#506784",
            "showbackground": true,
            "ticks": "",
            "zerolinecolor": "#C8D4E3"
           },
           "zaxis": {
            "backgroundcolor": "rgb(17,17,17)",
            "gridcolor": "#506784",
            "gridwidth": 2,
            "linecolor": "#506784",
            "showbackground": true,
            "ticks": "",
            "zerolinecolor": "#C8D4E3"
           }
          },
          "shapedefaults": {
           "line": {
            "color": "#f2f5fa"
           }
          },
          "sliderdefaults": {
           "bgcolor": "#C8D4E3",
           "bordercolor": "rgb(17,17,17)",
           "borderwidth": 1,
           "tickwidth": 0
          },
          "ternary": {
           "aaxis": {
            "gridcolor": "#506784",
            "linecolor": "#506784",
            "ticks": ""
           },
           "baxis": {
            "gridcolor": "#506784",
            "linecolor": "#506784",
            "ticks": ""
           },
           "bgcolor": "rgb(17,17,17)",
           "caxis": {
            "gridcolor": "#506784",
            "linecolor": "#506784",
            "ticks": ""
           }
          },
          "title": {
           "x": 0.05
          },
          "updatemenudefaults": {
           "bgcolor": "#506784",
           "borderwidth": 0
          },
          "xaxis": {
           "automargin": true,
           "gridcolor": "#283442",
           "linecolor": "#506784",
           "ticks": "",
           "title": {
            "standoff": 15
           },
           "zerolinecolor": "#283442",
           "zerolinewidth": 2
          },
          "yaxis": {
           "automargin": true,
           "gridcolor": "#283442",
           "linecolor": "#506784",
           "ticks": "",
           "title": {
            "standoff": 15
           },
           "zerolinecolor": "#283442",
           "zerolinewidth": 2
          }
         }
        },
        "title": {
         "font": {
          "family": "Tahoma",
          "size": 26
         },
         "text": "📊 Relationships Between Numerical Features",
         "x": 0.5,
         "xanchor": "center"
        }
       }
      }
     },
     "metadata": {},
     "output_type": "display_data"
    }
   ],
   "source": [
    "\n",
    "\n",
    "# Generate scatter matrix for numeric columns\n",
    "fig = px.scatter_matrix(\n",
    "    data,\n",
    "    dimensions=data.select_dtypes(include=\"number\").columns,\n",
    "    color=\"Salary\",  # Color based on salary (optional)\n",
    "    opacity=0.6,\n",
    "    height=800,\n",
    "    title=\"📊 Relationships Between Numerical Features\",\n",
    "    template=\"plotly_dark\"\n",
    ")\n",
    "\n",
    "# Enhance layout\n",
    "fig.update_layout(\n",
    "    title={\n",
    "        \"text\": \"📊 Relationships Between Numerical Features\",\n",
    "        \"x\": 0.5,\n",
    "        \"xanchor\": \"center\",\n",
    "        \"font\": {\n",
    "            \"size\": 26,\n",
    "            \"family\": \"Tahoma\"\n",
    "        }\n",
    "    },\n",
    "    dragmode='select'\n",
    ")\n",
    "\n",
    "fig.update_traces(diagonal_visible=True)\n",
    "\n",
    "# Show the plot\n",
    "fig.show()\n"
   ]
  },
  {
   "cell_type": "code",
   "execution_count": 24,
   "id": "186f690c",
   "metadata": {},
   "outputs": [
    {
     "name": "stdout",
     "output_type": "stream",
     "text": [
      "Age                    2\n",
      "Gender                 2\n",
      "Education Level        2\n",
      "Job Title              2\n",
      "Years of Experience    2\n",
      "Salary                 2\n",
      "dtype: int64\n",
      "Age                    0.533333\n",
      "Gender                 0.533333\n",
      "Education Level        0.533333\n",
      "Job Title              0.533333\n",
      "Years of Experience    0.533333\n",
      "Salary                 0.533333\n",
      "dtype: float64\n"
     ]
    },
    {
     "data": {
      "image/png": "[encoded data removed]",
      "text/plain": [
       "<Figure size 640x480 with 1 Axes>"
      ]
     },
     "metadata": {},
     "output_type": "display_data"
    }
   ],
   "source": [
    "import pandas as pd\n",
    "import numpy as np\n",
    "# Check total NaN values per column\n",
    "print(data.isna().sum())\n",
    "\n",
    "# Check percentage of NaN values\n",
    "print(data.isna().mean() * 100)\n",
    "\n",
    "# Visualize missing values (requires matplotlib)\n",
    "import matplotlib.pyplot as plt\n",
    "import seaborn as sns\n",
    "sns.heatmap(data.isna(), cbar=False)\n",
    "plt.show()"
   ]
  },
  {
   "cell_type": "code",
   "execution_count": null,
   "id": "8d24622f",
   "metadata": {},
   "outputs": [
    {
     "name": "stdout",
     "output_type": "stream",
     "text": [
      "✅ Training set shape: (261, 178)\n",
      "✅ Test set shape: (112, 178)\n"
     ]
    },
    {
     "name": "stderr",
     "output_type": "stream",
     "text": [
      "C:\\Users\\mvign\\AppData\\Local\\Temp\\ipykernel_22476\\3399671381.py:13: SettingWithCopyWarning:\n",
      "\n",
      "\n",
      "A value is trying to be set on a copy of a slice from a DataFrame.\n",
      "Try using .loc[row_indexer,col_indexer] = value instead\n",
      "\n",
      "See the caveats in the documentation: https://pandas.pydata.org/pandas-docs/stable/user_guide/indexing.html#returning-a-view-versus-a-copy\n",
      "\n"
     ]
    }
   ],
   "source": [
    "import pandas as pd\n",
    "from sklearn.model_selection import train_test_split\n",
    "from sklearn.ensemble import RandomForestRegressor\n",
    "from sklearn.preprocessing import LabelEncoder\n",
    "from sklearn.metrics import mean_absolute_error, mean_squared_error, r2_score\n",
    "\n",
    "\n",
    "# 1. Remove NaN values\n",
    "clean_df = data.dropna()\n",
    "\n",
    "# 2. Encode Categorical Features\n",
    "# Label Encode binary column\n",
    "clean_df['Gender'] = LabelEncoder().fit_transform(clean_df['Gender'])  # Male=1, Female=0\n",
    "\n",
    "# One-hot encode multi-class columns\n",
    "clean_df = pd.get_dummies(clean_df, columns=['Education Level', 'Job Title'], drop_first=True)\n",
    "\n",
    "# 3. Split Features and Target\n",
    "X = clean_df.drop('Salary', axis=1)\n",
    "y = clean_df['Salary']\n",
    "\n",
    "# 4. Train-test split\n",
    "X_train, X_test, y_train, y_test = train_test_split(\n",
    "    X, y,\n",
    "    test_size=0.3,\n",
    "    random_state=42\n",
    ")\n",
    "\n",
    "print(f\"✅ Training set shape: {X_train.shape}\")\n",
    "print(f\"✅ Test set shape: {X_test.shape}\")\n",
    "\n",
    "\n"
   ]
  },
  {
   "cell_type": "code",
   "execution_count": 26,
   "id": "b0960e82",
   "metadata": {},
   "outputs": [
    {
     "name": "stdout",
     "output_type": "stream",
     "text": [
      "Logistic Regression Accuracy: 0.2232\n",
      "              precision    recall  f1-score   support\n",
      "\n",
      "       350.0       0.00      0.00      0.00         1\n",
      "     30000.0       0.00      0.00      0.00         1\n",
      "     35000.0       0.00      0.00      0.00         2\n",
      "     40000.0       0.32      0.78      0.45         9\n",
      "     45000.0       0.00      0.00      0.00         5\n",
      "     50000.0       0.20      0.12      0.15         8\n",
      "     55000.0       0.00      0.00      0.00         3\n",
      "     60000.0       0.14      0.33      0.20         3\n",
      "     65000.0       0.00      0.00      0.00         3\n",
      "     70000.0       1.00      0.50      0.67         2\n",
      "     75000.0       0.00      0.00      0.00         2\n",
      "     80000.0       0.00      0.00      0.00         3\n",
      "     85000.0       0.50      1.00      0.67         1\n",
      "     90000.0       0.50      0.17      0.25         6\n",
      "     95000.0       0.13      0.40      0.20         5\n",
      "    100000.0       0.17      0.14      0.15         7\n",
      "    105000.0       0.00      0.00      0.00         1\n",
      "    110000.0       0.33      0.11      0.17         9\n",
      "    115000.0       0.00      0.00      0.00         2\n",
      "    120000.0       0.00      0.00      0.00         5\n",
      "    125000.0       0.00      0.00      0.00         1\n",
      "    130000.0       0.50      0.33      0.40         3\n",
      "    140000.0       1.00      0.12      0.22         8\n",
      "    150000.0       0.27      0.75      0.40         4\n",
      "    155000.0       0.00      0.00      0.00         0\n",
      "    160000.0       0.14      0.20      0.17         5\n",
      "    170000.0       0.29      0.50      0.36         4\n",
      "    180000.0       0.33      0.14      0.20         7\n",
      "    190000.0       0.00      0.00      0.00         1\n",
      "    250000.0       0.00      0.00      0.00         1\n",
      "\n",
      "    accuracy                           0.22       112\n",
      "   macro avg       0.19      0.19      0.16       112\n",
      "weighted avg       0.27      0.22      0.19       112\n",
      "\n"
     ]
    },
    {
     "name": "stderr",
     "output_type": "stream",
     "text": [
      "c:\\Users\\mvign\\Lib\\site-packages\\sklearn\\metrics\\_classification.py:1706: UndefinedMetricWarning:\n",
      "\n",
      "Precision is ill-defined and being set to 0.0 in labels with no predicted samples. Use `zero_division` parameter to control this behavior.\n",
      "\n",
      "c:\\Users\\mvign\\Lib\\site-packages\\sklearn\\metrics\\_classification.py:1706: UndefinedMetricWarning:\n",
      "\n",
      "Recall is ill-defined and being set to 0.0 in labels with no true samples. Use `zero_division` parameter to control this behavior.\n",
      "\n",
      "c:\\Users\\mvign\\Lib\\site-packages\\sklearn\\metrics\\_classification.py:1706: UndefinedMetricWarning:\n",
      "\n",
      "Precision is ill-defined and being set to 0.0 in labels with no predicted samples. Use `zero_division` parameter to control this behavior.\n",
      "\n",
      "c:\\Users\\mvign\\Lib\\site-packages\\sklearn\\metrics\\_classification.py:1706: UndefinedMetricWarning:\n",
      "\n",
      "Recall is ill-defined and being set to 0.0 in labels with no true samples. Use `zero_division` parameter to control this behavior.\n",
      "\n",
      "c:\\Users\\mvign\\Lib\\site-packages\\sklearn\\metrics\\_classification.py:1706: UndefinedMetricWarning:\n",
      "\n",
      "Precision is ill-defined and being set to 0.0 in labels with no predicted samples. Use `zero_division` parameter to control this behavior.\n",
      "\n",
      "c:\\Users\\mvign\\Lib\\site-packages\\sklearn\\metrics\\_classification.py:1706: UndefinedMetricWarning:\n",
      "\n",
      "Recall is ill-defined and being set to 0.0 in labels with no true samples. Use `zero_division` parameter to control this behavior.\n",
      "\n"
     ]
    }
   ],
   "source": [
    "from sklearn.linear_model import LogisticRegression\n",
    "from sklearn.pipeline import Pipeline\n",
    "from sklearn.preprocessing import StandardScaler,LabelEncoder\n",
    "from sklearn.metrics import accuracy_score, classification_report\n",
    "\n",
    "\n",
    "\n",
    "log_model = Pipeline([\n",
    "    ('scaler', StandardScaler()),\n",
    "    ('model', LogisticRegression(max_iter=1000))\n",
    "])\n",
    "\n",
    "log_model.fit(X_train, y_train)\n",
    "y_pred_log = log_model.predict(X_test)\n",
    "acc_log = accuracy_score(y_test, y_pred_log)\n",
    "print(f\"Logistic Regression Accuracy: {acc_log:.4f}\")\n",
    "print(classification_report(y_test, y_pred_log))\n",
    "\n"
   ]
  },
  {
   "cell_type": "code",
   "execution_count": 27,
   "id": "549cdb87",
   "metadata": {},
   "outputs": [
    {
     "name": "stdout",
     "output_type": "stream",
     "text": [
      "Random Forest Accuracy: 0.3482\n",
      "              precision    recall  f1-score   support\n",
      "\n",
      "       350.0       0.00      0.00      0.00         1\n",
      "     30000.0       0.00      0.00      0.00         1\n",
      "     35000.0       0.00      0.00      0.00         2\n",
      "     40000.0       0.56      1.00      0.72         9\n",
      "     45000.0       0.67      0.40      0.50         5\n",
      "     50000.0       0.40      0.50      0.44         8\n",
      "     55000.0       0.00      0.00      0.00         3\n",
      "     60000.0       0.40      0.67      0.50         3\n",
      "     65000.0       0.00      0.00      0.00         3\n",
      "     70000.0       1.00      0.50      0.67         2\n",
      "     75000.0       0.00      0.00      0.00         2\n",
      "     80000.0       0.00      0.00      0.00         3\n",
      "     85000.0       1.00      1.00      1.00         1\n",
      "     90000.0       0.14      0.17      0.15         6\n",
      "     95000.0       0.33      0.80      0.47         5\n",
      "    100000.0       0.50      0.14      0.22         7\n",
      "    105000.0       0.00      0.00      0.00         1\n",
      "    110000.0       0.20      0.11      0.14         9\n",
      "    115000.0       0.00      0.00      0.00         2\n",
      "    120000.0       0.10      0.20      0.13         5\n",
      "    125000.0       0.00      0.00      0.00         1\n",
      "    130000.0       0.17      0.33      0.22         3\n",
      "    140000.0       1.00      0.12      0.22         8\n",
      "    150000.0       0.57      1.00      0.73         4\n",
      "    155000.0       0.00      0.00      0.00         0\n",
      "    160000.0       0.25      0.40      0.31         5\n",
      "    170000.0       0.40      0.50      0.44         4\n",
      "    180000.0       0.50      0.29      0.36         7\n",
      "    190000.0       0.00      0.00      0.00         1\n",
      "    250000.0       0.00      0.00      0.00         1\n",
      "\n",
      "    accuracy                           0.35       112\n",
      "   macro avg       0.27      0.27      0.24       112\n",
      "weighted avg       0.37      0.35      0.31       112\n",
      "\n"
     ]
    },
    {
     "name": "stderr",
     "output_type": "stream",
     "text": [
      "c:\\Users\\mvign\\Lib\\site-packages\\sklearn\\metrics\\_classification.py:1706: UndefinedMetricWarning:\n",
      "\n",
      "Precision is ill-defined and being set to 0.0 in labels with no predicted samples. Use `zero_division` parameter to control this behavior.\n",
      "\n",
      "c:\\Users\\mvign\\Lib\\site-packages\\sklearn\\metrics\\_classification.py:1706: UndefinedMetricWarning:\n",
      "\n",
      "Recall is ill-defined and being set to 0.0 in labels with no true samples. Use `zero_division` parameter to control this behavior.\n",
      "\n",
      "c:\\Users\\mvign\\Lib\\site-packages\\sklearn\\metrics\\_classification.py:1706: UndefinedMetricWarning:\n",
      "\n",
      "Precision is ill-defined and being set to 0.0 in labels with no predicted samples. Use `zero_division` parameter to control this behavior.\n",
      "\n",
      "c:\\Users\\mvign\\Lib\\site-packages\\sklearn\\metrics\\_classification.py:1706: UndefinedMetricWarning:\n",
      "\n",
      "Recall is ill-defined and being set to 0.0 in labels with no true samples. Use `zero_division` parameter to control this behavior.\n",
      "\n",
      "c:\\Users\\mvign\\Lib\\site-packages\\sklearn\\metrics\\_classification.py:1706: UndefinedMetricWarning:\n",
      "\n",
      "Precision is ill-defined and being set to 0.0 in labels with no predicted samples. Use `zero_division` parameter to control this behavior.\n",
      "\n",
      "c:\\Users\\mvign\\Lib\\site-packages\\sklearn\\metrics\\_classification.py:1706: UndefinedMetricWarning:\n",
      "\n",
      "Recall is ill-defined and being set to 0.0 in labels with no true samples. Use `zero_division` parameter to control this behavior.\n",
      "\n"
     ]
    }
   ],
   "source": [
    "from sklearn.ensemble import RandomForestClassifier\n",
    "\n",
    "rf_model = Pipeline([\n",
    "    ('scaler', StandardScaler()),\n",
    "    ('model', RandomForestClassifier())\n",
    "])\n",
    "\n",
    "rf_model.fit(X_train, y_train)\n",
    "y_pred_rf = rf_model.predict(X_test)\n",
    "acc_rf = accuracy_score(y_test, y_pred_rf)\n",
    "print(f\"Random Forest Accuracy: {acc_rf:.4f}\")\n",
    "print(classification_report(y_test, y_pred_rf))\n"
   ]
  },
  {
   "cell_type": "code",
   "execution_count": 28,
   "id": "819c5318",
   "metadata": {},
   "outputs": [
    {
     "name": "stdout",
     "output_type": "stream",
     "text": [
      "KNN Accuracy: 0.1518\n",
      "              precision    recall  f1-score   support\n",
      "\n",
      "       350.0       0.00      0.00      0.00         1\n",
      "     30000.0       0.00      0.00      0.00         1\n",
      "     35000.0       0.10      1.00      0.18         2\n",
      "     40000.0       0.06      0.11      0.08         9\n",
      "     45000.0       0.00      0.00      0.00         5\n",
      "     50000.0       0.38      0.38      0.38         8\n",
      "     55000.0       0.00      0.00      0.00         3\n",
      "     60000.0       0.33      0.33      0.33         3\n",
      "     65000.0       0.00      0.00      0.00         3\n",
      "     70000.0       0.00      0.00      0.00         2\n",
      "     75000.0       0.00      0.00      0.00         2\n",
      "     80000.0       0.00      0.00      0.00         3\n",
      "     85000.0       0.33      1.00      0.50         1\n",
      "     90000.0       0.00      0.00      0.00         6\n",
      "     95000.0       0.00      0.00      0.00         5\n",
      "    100000.0       0.00      0.00      0.00         7\n",
      "    105000.0       0.00      0.00      0.00         1\n",
      "    110000.0       0.00      0.00      0.00         9\n",
      "    115000.0       0.00      0.00      0.00         2\n",
      "    120000.0       0.00      0.00      0.00         5\n",
      "    125000.0       0.00      0.00      0.00         1\n",
      "    130000.0       0.50      0.33      0.40         3\n",
      "    140000.0       0.00      0.00      0.00         8\n",
      "    150000.0       0.20      0.25      0.22         4\n",
      "    160000.0       0.33      0.20      0.25         5\n",
      "    170000.0       0.12      0.75      0.21         4\n",
      "    180000.0       0.14      0.43      0.21         7\n",
      "    190000.0       0.00      0.00      0.00         1\n",
      "    250000.0       0.00      0.00      0.00         1\n",
      "\n",
      "    accuracy                           0.15       112\n",
      "   macro avg       0.09      0.16      0.10       112\n",
      "weighted avg       0.09      0.15      0.10       112\n",
      "\n"
     ]
    },
    {
     "name": "stderr",
     "output_type": "stream",
     "text": [
      "c:\\Users\\mvign\\Lib\\site-packages\\sklearn\\metrics\\_classification.py:1706: UndefinedMetricWarning:\n",
      "\n",
      "Precision is ill-defined and being set to 0.0 in labels with no predicted samples. Use `zero_division` parameter to control this behavior.\n",
      "\n",
      "c:\\Users\\mvign\\Lib\\site-packages\\sklearn\\metrics\\_classification.py:1706: UndefinedMetricWarning:\n",
      "\n",
      "Precision is ill-defined and being set to 0.0 in labels with no predicted samples. Use `zero_division` parameter to control this behavior.\n",
      "\n",
      "c:\\Users\\mvign\\Lib\\site-packages\\sklearn\\metrics\\_classification.py:1706: UndefinedMetricWarning:\n",
      "\n",
      "Precision is ill-defined and being set to 0.0 in labels with no predicted samples. Use `zero_division` parameter to control this behavior.\n",
      "\n"
     ]
    }
   ],
   "source": [
    "from sklearn.neighbors import KNeighborsClassifier\n",
    "\n",
    "knn_model = Pipeline([\n",
    "    ('scaler', StandardScaler()),\n",
    "    ('model', KNeighborsClassifier())\n",
    "])\n",
    "\n",
    "knn_model.fit(X_train, y_train)\n",
    "y_pred_knn = knn_model.predict(X_test)\n",
    "acc_knn = accuracy_score(y_test, y_pred_knn)\n",
    "print(f\"KNN Accuracy: {acc_knn:.4f}\")\n",
    "print(classification_report(y_test, y_pred_knn))\n"
   ]
  },
  {
   "cell_type": "code",
   "execution_count": 29,
   "id": "a516f952",
   "metadata": {},
   "outputs": [
    {
     "name": "stdout",
     "output_type": "stream",
     "text": [
      "SVM Accuracy: 0.2143\n",
      "              precision    recall  f1-score   support\n",
      "\n",
      "       350.0       0.00      0.00      0.00         1\n",
      "     30000.0       0.00      0.00      0.00         1\n",
      "     35000.0       0.00      0.00      0.00         2\n",
      "     40000.0       0.35      0.67      0.46         9\n",
      "     45000.0       0.00      0.00      0.00         5\n",
      "     50000.0       0.60      0.38      0.46         8\n",
      "     55000.0       0.00      0.00      0.00         3\n",
      "     60000.0       0.25      0.33      0.29         3\n",
      "     65000.0       0.00      0.00      0.00         3\n",
      "     70000.0       0.00      0.00      0.00         2\n",
      "     75000.0       0.00      0.00      0.00         2\n",
      "     80000.0       0.00      0.00      0.00         3\n",
      "     85000.0       0.33      1.00      0.50         1\n",
      "     90000.0       0.50      0.17      0.25         6\n",
      "     95000.0       0.05      0.40      0.09         5\n",
      "    100000.0       0.25      0.14      0.18         7\n",
      "    105000.0       0.00      0.00      0.00         1\n",
      "    110000.0       0.33      0.11      0.17         9\n",
      "    115000.0       0.00      0.00      0.00         2\n",
      "    120000.0       0.00      0.00      0.00         5\n",
      "    125000.0       0.00      0.00      0.00         1\n",
      "    130000.0       0.33      0.33      0.33         3\n",
      "    140000.0       0.00      0.00      0.00         8\n",
      "    150000.0       0.20      0.75      0.32         4\n",
      "    160000.0       0.33      0.20      0.25         5\n",
      "    170000.0       0.33      0.50      0.40         4\n",
      "    180000.0       0.50      0.14      0.22         7\n",
      "    190000.0       0.00      0.00      0.00         1\n",
      "    250000.0       0.00      0.00      0.00         1\n",
      "\n",
      "    accuracy                           0.21       112\n",
      "   macro avg       0.15      0.18      0.14       112\n",
      "weighted avg       0.23      0.21      0.18       112\n",
      "\n"
     ]
    },
    {
     "name": "stderr",
     "output_type": "stream",
     "text": [
      "c:\\Users\\mvign\\Lib\\site-packages\\sklearn\\metrics\\_classification.py:1706: UndefinedMetricWarning:\n",
      "\n",
      "Precision is ill-defined and being set to 0.0 in labels with no predicted samples. Use `zero_division` parameter to control this behavior.\n",
      "\n",
      "c:\\Users\\mvign\\Lib\\site-packages\\sklearn\\metrics\\_classification.py:1706: UndefinedMetricWarning:\n",
      "\n",
      "Precision is ill-defined and being set to 0.0 in labels with no predicted samples. Use `zero_division` parameter to control this behavior.\n",
      "\n",
      "c:\\Users\\mvign\\Lib\\site-packages\\sklearn\\metrics\\_classification.py:1706: UndefinedMetricWarning:\n",
      "\n",
      "Precision is ill-defined and being set to 0.0 in labels with no predicted samples. Use `zero_division` parameter to control this behavior.\n",
      "\n"
     ]
    }
   ],
   "source": [
    "from sklearn.svm import SVC\n",
    "\n",
    "svm_model = Pipeline([\n",
    "    ('scaler', StandardScaler()),\n",
    "    ('model', SVC())\n",
    "])\n",
    "\n",
    "svm_model.fit(X_train, y_train)\n",
    "y_pred_svm = svm_model.predict(X_test)\n",
    "acc_svm = accuracy_score(y_test, y_pred_svm)\n",
    "print(f\"SVM Accuracy: {acc_svm:.4f}\")\n",
    "print(classification_report(y_test, y_pred_svm))\n"
   ]
  },
  {
   "cell_type": "code",
   "execution_count": 30,
   "id": "25531502",
   "metadata": {},
   "outputs": [
    {
     "name": "stdout",
     "output_type": "stream",
     "text": [
      "Gradient Boosting Accuracy: 0.3214\n",
      "              precision    recall  f1-score   support\n",
      "\n",
      "       350.0       0.00      0.00      0.00         1\n",
      "     30000.0       0.00      0.00      0.00         1\n",
      "     35000.0       0.00      0.00      0.00         2\n",
      "     40000.0       0.53      1.00      0.69         9\n",
      "     45000.0       0.50      0.20      0.29         5\n",
      "     50000.0       0.42      0.62      0.50         8\n",
      "     55000.0       0.00      0.00      0.00         3\n",
      "     60000.0       0.50      0.33      0.40         3\n",
      "     65000.0       0.00      0.00      0.00         3\n",
      "     70000.0       0.50      0.50      0.50         2\n",
      "     75000.0       0.00      0.00      0.00         2\n",
      "     80000.0       0.00      0.00      0.00         3\n",
      "     85000.0       1.00      1.00      1.00         1\n",
      "     90000.0       0.33      0.17      0.22         6\n",
      "     95000.0       0.19      0.60      0.29         5\n",
      "    100000.0       0.17      0.14      0.15         7\n",
      "    105000.0       0.00      0.00      0.00         1\n",
      "    110000.0       0.33      0.11      0.17         9\n",
      "    115000.0       0.00      0.00      0.00         2\n",
      "    120000.0       0.09      0.20      0.12         5\n",
      "    125000.0       0.00      0.00      0.00         1\n",
      "    130000.0       0.25      0.33      0.29         3\n",
      "    140000.0       0.00      0.00      0.00         8\n",
      "    150000.0       0.36      1.00      0.53         4\n",
      "    160000.0       0.25      0.40      0.31         5\n",
      "    170000.0       0.40      0.50      0.44         4\n",
      "    180000.0       0.40      0.29      0.33         7\n",
      "    190000.0       0.00      0.00      0.00         1\n",
      "    250000.0       0.00      0.00      0.00         1\n",
      "\n",
      "    accuracy                           0.32       112\n",
      "   macro avg       0.21      0.26      0.22       112\n",
      "weighted avg       0.26      0.32      0.26       112\n",
      "\n"
     ]
    },
    {
     "name": "stderr",
     "output_type": "stream",
     "text": [
      "c:\\Users\\mvign\\Lib\\site-packages\\sklearn\\metrics\\_classification.py:1706: UndefinedMetricWarning:\n",
      "\n",
      "Precision is ill-defined and being set to 0.0 in labels with no predicted samples. Use `zero_division` parameter to control this behavior.\n",
      "\n",
      "c:\\Users\\mvign\\Lib\\site-packages\\sklearn\\metrics\\_classification.py:1706: UndefinedMetricWarning:\n",
      "\n",
      "Precision is ill-defined and being set to 0.0 in labels with no predicted samples. Use `zero_division` parameter to control this behavior.\n",
      "\n",
      "c:\\Users\\mvign\\Lib\\site-packages\\sklearn\\metrics\\_classification.py:1706: UndefinedMetricWarning:\n",
      "\n",
      "Precision is ill-defined and being set to 0.0 in labels with no predicted samples. Use `zero_division` parameter to control this behavior.\n",
      "\n"
     ]
    }
   ],
   "source": [
    "from sklearn.ensemble import GradientBoostingClassifier\n",
    "\n",
    "gb_model = Pipeline([\n",
    "    ('scaler', StandardScaler()),\n",
    "    ('model', GradientBoostingClassifier())\n",
    "])\n",
    "\n",
    "gb_model.fit(X_train, y_train)\n",
    "y_pred_gb = gb_model.predict(X_test)\n",
    "acc_gb = accuracy_score(y_test, y_pred_gb)\n",
    "print(f\"Gradient Boosting Accuracy: {acc_gb:.4f}\")\n",
    "print(classification_report(y_test, y_pred_gb))\n"
   ]
  },
  {
   "cell_type": "code",
   "execution_count": 31,
   "id": "fca315a7",
   "metadata": {},
   "outputs": [
    {
     "name": "stderr",
     "output_type": "stream",
     "text": [
      "c:\\Users\\mvign\\Lib\\site-packages\\sklearn\\linear_model\\_logistic.py:470: ConvergenceWarning:\n",
      "\n",
      "lbfgs failed to converge after 100 iteration(s) (status=1):\n",
      "STOP: TOTAL NO. OF ITERATIONS REACHED LIMIT\n",
      "\n",
      "Increase the number of iterations to improve the convergence (max_iter=100).\n",
      "You might also want to scale the data as shown in:\n",
      "    https://scikit-learn.org/stable/modules/preprocessing.html\n",
      "Please also refer to the documentation for alternative solver options:\n",
      "    https://scikit-learn.org/stable/modules/linear_model.html#logistic-regression\n",
      "\n"
     ]
    },
    {
     "name": "stdout",
     "output_type": "stream",
     "text": [
      "\n",
      "✅ Best Model: RandomForest with accuracy: 0.36\n"
     ]
    }
   ],
   "source": [
    "# ✅ Make sure you define models dictionary first:\n",
    "models = {\n",
    "    \"LogisticRegression\": LogisticRegression(),\n",
    "    \"RandomForest\": RandomForestClassifier(),\n",
    "    \"KNN\": KNeighborsClassifier(),\n",
    "    \"SVM\": SVC(),\n",
    "    \"GradientBoosting\": GradientBoostingClassifier()\n",
    "}\n",
    "\n",
    "# Train Each Model & Collect Accuracy\n",
    "results = {}\n",
    "best_model = None\n",
    "best_score = 0\n",
    "\n",
    "for name, model in models.items():  # ✅ corrected from model.items()\n",
    "    model.fit(X_train, y_train)\n",
    "    y_pred = model.predict(X_test)\n",
    "    acc = accuracy_score(y_test, y_pred)\n",
    "    results[name] = acc\n",
    "\n",
    "    if acc > best_score:\n",
    "        best_score = acc\n",
    "        best_model = name\n",
    "\n",
    "# 🏆 Best Model Output\n",
    "print(f\"\\n✅ Best Model: {best_model} with accuracy: {best_score:.2f}\")\n"
   ]
  },
  {
   "cell_type": "code",
   "execution_count": 32,
   "id": "56c5d25f",
   "metadata": {},
   "outputs": [
    {
     "data": {
      "application/vnd.plotly.v1+json": {
       "config": {
        "plotlyServerURL": "https://plot.ly"
       },
       "data": [
        {
         "marker": {
          "color": [
           "skyblue",
           "lightgreen",
           "skyblue",
           "skyblue",
           "skyblue"
          ]
         },
         "text": [
          "0.29",
          "0.36",
          "0.30",
          "0.18",
          "0.33"
         ],
         "textposition": "auto",
         "type": "bar",
         "x": [
          "LogisticRegression",
          "RandomForest",
          "KNN",
          "SVM",
          "GradientBoosting"
         ],
         "y": [
          0.2857142857142857,
          0.35714285714285715,
          0.30357142857142855,
          0.17857142857142858,
          0.33035714285714285
         ]
        }
       ],
       "layout": {
        "annotations": [
         {
          "arrowhead": 1,
          "ax": 0,
          "ay": -50,
          "bgcolor": "lightyellow",
          "bordercolor": "green",
          "borderwidth": 2,
          "showarrow": true,
          "text": "🏆 Best: RandomForest (0.36)",
          "x": "RandomForest",
          "y": 0.35714285714285715
         }
        ],
        "font": {
         "size": 14
        },
        "showlegend": false,
        "template": {
         "data": {
          "bar": [
           {
            "error_x": {
             "color": "#2a3f5f"
            },
            "error_y": {
             "color": "#2a3f5f"
            },
            "marker": {
             "line": {
              "color": "white",
              "width": 0.5
             },
             "pattern": {
              "fillmode": "overlay",
              "size": 10,
              "solidity": 0.2
             }
            },
            "type": "bar"
           }
          ],
          "barpolar": [
           {
            "marker": {
             "line": {
              "color": "white",
              "width": 0.5
             },
             "pattern": {
              "fillmode": "overlay",
              "size": 10,
              "solidity": 0.2
             }
            },
            "type": "barpolar"
           }
          ],
          "carpet": [
           {
            "aaxis": {
             "endlinecolor": "#2a3f5f",
             "gridcolor": "#C8D4E3",
             "linecolor": "#C8D4E3",
             "minorgridcolor": "#C8D4E3",
             "startlinecolor": "#2a3f5f"
            },
            "baxis": {
             "endlinecolor": "#2a3f5f",
             "gridcolor": "#C8D4E3",
             "linecolor": "#C8D4E3",
             "minorgridcolor": "#C8D4E3",
             "startlinecolor": "#2a3f5f"
            },
            "type": "carpet"
           }
          ],
          "choropleth": [
           {
            "colorbar": {
             "outlinewidth": 0,
             "ticks": ""
            },
            "type": "choropleth"
           }
          ],
          "contour": [
           {
            "colorbar": {
             "outlinewidth": 0,
             "ticks": ""
            },
            "colorscale": [
             [
              0,
              "#0d0887"
             ],
             [
              0.1111111111111111,
              "#46039f"
             ],
             [
              0.2222222222222222,
              "#7201a8"
             ],
             [
              0.3333333333333333,
              "#9c179e"
             ],
             [
              0.4444444444444444,
              "#bd3786"
             ],
             [
              0.5555555555555556,
              "#d8576b"
             ],
             [
              0.6666666666666666,
              "#ed7953"
             ],
             [
              0.7777777777777778,
              "#fb9f3a"
             ],
             [
              0.8888888888888888,
              "#fdca26"
             ],
             [
              1,
              "#f0f921"
             ]
            ],
            "type": "contour"
           }
          ],
          "contourcarpet": [
           {
            "colorbar": {
             "outlinewidth": 0,
             "ticks": ""
            },
            "type": "contourcarpet"
           }
          ],
          "heatmap": [
           {
            "colorbar": {
             "outlinewidth": 0,
             "ticks": ""
            },
            "colorscale": [
             [
              0,
              "#0d0887"
             ],
             [
              0.1111111111111111,
              "#46039f"
             ],
             [
              0.2222222222222222,
              "#7201a8"
             ],
             [
              0.3333333333333333,
              "#9c179e"
             ],
             [
              0.4444444444444444,
              "#bd3786"
             ],
             [
              0.5555555555555556,
              "#d8576b"
             ],
             [
              0.6666666666666666,
              "#ed7953"
             ],
             [
              0.7777777777777778,
              "#fb9f3a"
             ],
             [
              0.8888888888888888,
              "#fdca26"
             ],
             [
              1,
              "#f0f921"
             ]
            ],
            "type": "heatmap"
           }
          ],
          "histogram": [
           {
            "marker": {
             "pattern": {
              "fillmode": "overlay",
              "size": 10,
              "solidity": 0.2
             }
            },
            "type": "histogram"
           }
          ],
          "histogram2d": [
           {
            "colorbar": {
             "outlinewidth": 0,
             "ticks": ""
            },
            "colorscale": [
             [
              0,
              "#0d0887"
             ],
             [
              0.1111111111111111,
              "#46039f"
             ],
             [
              0.2222222222222222,
              "#7201a8"
             ],
             [
              0.3333333333333333,
              "#9c179e"
             ],
             [
              0.4444444444444444,
              "#bd3786"
             ],
             [
              0.5555555555555556,
              "#d8576b"
             ],
             [
              0.6666666666666666,
              "#ed7953"
             ],
             [
              0.7777777777777778,
              "#fb9f3a"
             ],
             [
              0.8888888888888888,
              "#fdca26"
             ],
             [
              1,
              "#f0f921"
             ]
            ],
            "type": "histogram2d"
           }
          ],
          "histogram2dcontour": [
           {
            "colorbar": {
             "outlinewidth": 0,
             "ticks": ""
            },
            "colorscale": [
             [
              0,
              "#0d0887"
             ],
             [
              0.1111111111111111,
              "#46039f"
             ],
             [
              0.2222222222222222,
              "#7201a8"
             ],
             [
              0.3333333333333333,
              "#9c179e"
             ],
             [
              0.4444444444444444,
              "#bd3786"
             ],
             [
              0.5555555555555556,
              "#d8576b"
             ],
             [
              0.6666666666666666,
              "#ed7953"
             ],
             [
              0.7777777777777778,
              "#fb9f3a"
             ],
             [
              0.8888888888888888,
              "#fdca26"
             ],
             [
              1,
              "#f0f921"
             ]
            ],
            "type": "histogram2dcontour"
           }
          ],
          "mesh3d": [
           {
            "colorbar": {
             "outlinewidth": 0,
             "ticks": ""
            },
            "type": "mesh3d"
           }
          ],
          "parcoords": [
           {
            "line": {
             "colorbar": {
              "outlinewidth": 0,
              "ticks": ""
             }
            },
            "type": "parcoords"
           }
          ],
          "pie": [
           {
            "automargin": true,
            "type": "pie"
           }
          ],
          "scatter": [
           {
            "fillpattern": {
             "fillmode": "overlay",
             "size": 10,
             "solidity": 0.2
            },
            "type": "scatter"
           }
          ],
          "scatter3d": [
           {
            "line": {
             "colorbar": {
              "outlinewidth": 0,
              "ticks": ""
             }
            },
            "marker": {
             "colorbar": {
              "outlinewidth": 0,
              "ticks": ""
             }
            },
            "type": "scatter3d"
           }
          ],
          "scattercarpet": [
           {
            "marker": {
             "colorbar": {
              "outlinewidth": 0,
              "ticks": ""
             }
            },
            "type": "scattercarpet"
           }
          ],
          "scattergeo": [
           {
            "marker": {
             "colorbar": {
              "outlinewidth": 0,
              "ticks": ""
             }
            },
            "type": "scattergeo"
           }
          ],
          "scattergl": [
           {
            "marker": {
             "colorbar": {
              "outlinewidth": 0,
              "ticks": ""
             }
            },
            "type": "scattergl"
           }
          ],
          "scattermap": [
           {
            "marker": {
             "colorbar": {
              "outlinewidth": 0,
              "ticks": ""
             }
            },
            "type": "scattermap"
           }
          ],
          "scattermapbox": [
           {
            "marker": {
             "colorbar": {
              "outlinewidth": 0,
              "ticks": ""
             }
            },
            "type": "scattermapbox"
           }
          ],
          "scatterpolar": [
           {
            "marker": {
             "colorbar": {
              "outlinewidth": 0,
              "ticks": ""
             }
            },
            "type": "scatterpolar"
           }
          ],
          "scatterpolargl": [
           {
            "marker": {
             "colorbar": {
              "outlinewidth": 0,
              "ticks": ""
             }
            },
            "type": "scatterpolargl"
           }
          ],
          "scatterternary": [
           {
            "marker": {
             "colorbar": {
              "outlinewidth": 0,
              "ticks": ""
             }
            },
            "type": "scatterternary"
           }
          ],
          "surface": [
           {
            "colorbar": {
             "outlinewidth": 0,
             "ticks": ""
            },
            "colorscale": [
             [
              0,
              "#0d0887"
             ],
             [
              0.1111111111111111,
              "#46039f"
             ],
             [
              0.2222222222222222,
              "#7201a8"
             ],
             [
              0.3333333333333333,
              "#9c179e"
             ],
             [
              0.4444444444444444,
              "#bd3786"
             ],
             [
              0.5555555555555556,
              "#d8576b"
             ],
             [
              0.6666666666666666,
              "#ed7953"
             ],
             [
              0.7777777777777778,
              "#fb9f3a"
             ],
             [
              0.8888888888888888,
              "#fdca26"
             ],
             [
              1,
              "#f0f921"
             ]
            ],
            "type": "surface"
           }
          ],
          "table": [
           {
            "cells": {
             "fill": {
              "color": "#EBF0F8"
             },
             "line": {
              "color": "white"
             }
            },
            "header": {
             "fill": {
              "color": "#C8D4E3"
             },
             "line": {
              "color": "white"
             }
            },
            "type": "table"
           }
          ]
         },
         "layout": {
          "annotationdefaults": {
           "arrowcolor": "#2a3f5f",
           "arrowhead": 0,
           "arrowwidth": 1
          },
          "autotypenumbers": "strict",
          "coloraxis": {
           "colorbar": {
            "outlinewidth": 0,
            "ticks": ""
           }
          },
          "colorscale": {
           "diverging": [
            [
             0,
             "#8e0152"
            ],
            [
             0.1,
             "#c51b7d"
            ],
            [
             0.2,
             "#de77ae"
            ],
            [
             0.3,
             "#f1b6da"
            ],
            [
             0.4,
             "#fde0ef"
            ],
            [
             0.5,
             "#f7f7f7"
            ],
            [
             0.6,
             "#e6f5d0"
            ],
            [
             0.7,
             "#b8e186"
            ],
            [
             0.8,
             "#7fbc41"
            ],
            [
             0.9,
             "#4d9221"
            ],
            [
             1,
             "#276419"
            ]
           ],
           "sequential": [
            [
             0,
             "#0d0887"
            ],
            [
             0.1111111111111111,
             "#46039f"
            ],
            [
             0.2222222222222222,
             "#7201a8"
            ],
            [
             0.3333333333333333,
             "#9c179e"
            ],
            [
             0.4444444444444444,
             "#bd3786"
            ],
            [
             0.5555555555555556,
             "#d8576b"
            ],
            [
             0.6666666666666666,
             "#ed7953"
            ],
            [
             0.7777777777777778,
             "#fb9f3a"
            ],
            [
             0.8888888888888888,
             "#fdca26"
            ],
            [
             1,
             "#f0f921"
            ]
           ],
           "sequentialminus": [
            [
             0,
             "#0d0887"
            ],
            [
             0.1111111111111111,
             "#46039f"
            ],
            [
             0.2222222222222222,
             "#7201a8"
            ],
            [
             0.3333333333333333,
             "#9c179e"
            ],
            [
             0.4444444444444444,
             "#bd3786"
            ],
            [
             0.5555555555555556,
             "#d8576b"
            ],
            [
             0.6666666666666666,
             "#ed7953"
            ],
            [
             0.7777777777777778,
             "#fb9f3a"
            ],
            [
             0.8888888888888888,
             "#fdca26"
            ],
            [
             1,
             "#f0f921"
            ]
           ]
          },
          "colorway": [
           "#636efa",
           "#EF553B",
           "#00cc96",
           "#ab63fa",
           "#FFA15A",
           "#19d3f3",
           "#FF6692",
           "#B6E880",
           "#FF97FF",
           "#FECB52"
          ],
          "font": {
           "color": "#2a3f5f"
          },
          "geo": {
           "bgcolor": "white",
           "lakecolor": "white",
           "landcolor": "white",
           "showlakes": true,
           "showland": true,
           "subunitcolor": "#C8D4E3"
          },
          "hoverlabel": {
           "align": "left"
          },
          "hovermode": "closest",
          "mapbox": {
           "style": "light"
          },
          "paper_bgcolor": "white",
          "plot_bgcolor": "white",
          "polar": {
           "angularaxis": {
            "gridcolor": "#EBF0F8",
            "linecolor": "#EBF0F8",
            "ticks": ""
           },
           "bgcolor": "white",
           "radialaxis": {
            "gridcolor": "#EBF0F8",
            "linecolor": "#EBF0F8",
            "ticks": ""
           }
          },
          "scene": {
           "xaxis": {
            "backgroundcolor": "white",
            "gridcolor": "#DFE8F3",
            "gridwidth": 2,
            "linecolor": "#EBF0F8",
            "showbackground": true,
            "ticks": "",
            "zerolinecolor": "#EBF0F8"
           },
           "yaxis": {
            "backgroundcolor": "white",
            "gridcolor": "#DFE8F3",
            "gridwidth": 2,
            "linecolor": "#EBF0F8",
            "showbackground": true,
            "ticks": "",
            "zerolinecolor": "#EBF0F8"
           },
           "zaxis": {
            "backgroundcolor": "white",
            "gridcolor": "#DFE8F3",
            "gridwidth": 2,
            "linecolor": "#EBF0F8",
            "showbackground": true,
            "ticks": "",
            "zerolinecolor": "#EBF0F8"
           }
          },
          "shapedefaults": {
           "line": {
            "color": "#2a3f5f"
           }
          },
          "ternary": {
           "aaxis": {
            "gridcolor": "#DFE8F3",
            "linecolor": "#A2B1C6",
            "ticks": ""
           },
           "baxis": {
            "gridcolor": "#DFE8F3",
            "linecolor": "#A2B1C6",
            "ticks": ""
           },
           "bgcolor": "white",
           "caxis": {
            "gridcolor": "#DFE8F3",
            "linecolor": "#A2B1C6",
            "ticks": ""
           }
          },
          "title": {
           "x": 0.05
          },
          "xaxis": {
           "automargin": true,
           "gridcolor": "#EBF0F8",
           "linecolor": "#EBF0F8",
           "ticks": "",
           "title": {
            "standoff": 15
           },
           "zerolinecolor": "#EBF0F8",
           "zerolinewidth": 2
          },
          "yaxis": {
           "automargin": true,
           "gridcolor": "#EBF0F8",
           "linecolor": "#EBF0F8",
           "ticks": "",
           "title": {
            "standoff": 15
           },
           "zerolinecolor": "#EBF0F8",
           "zerolinewidth": 2
          }
         }
        },
        "title": {
         "text": "🔍 Accuracy Comparison of All ML Models"
        },
        "xaxis": {
         "title": {
          "text": "Model"
         }
        },
        "yaxis": {
         "range": [
          0,
          1
         ],
         "title": {
          "text": "Accuracy"
         }
        }
       }
      }
     },
     "metadata": {},
     "output_type": "display_data"
    }
   ],
   "source": [
    "import plotly.graph_objects as go\n",
    "\n",
    "# Find best model\n",
    "best_model = max(results, key=results.get)\n",
    "best_score = results[best_model]\n",
    "\n",
    "# Color bars\n",
    "colors = ['lightgreen' if model == best_model else 'skyblue' for model in results]\n",
    "\n",
    "# Create bar chart\n",
    "fig = go.Figure()\n",
    "fig.add_trace(go.Bar(\n",
    "    x=list(results.keys()),\n",
    "    y=list(results.values()),\n",
    "    marker_color=colors,\n",
    "    text=[f\"{v:.2f}\" for v in results.values()],\n",
    "    textposition='auto'\n",
    "))\n",
    "\n",
    "# Add annotation\n",
    "fig.add_annotation(\n",
    "    x=best_model,\n",
    "    y=best_score,\n",
    "    text=f\"🏆 Best: {best_model} ({best_score:.2f})\",\n",
    "    showarrow=True,\n",
    "    arrowhead=1,\n",
    "    ax=0,\n",
    "    ay=-50,\n",
    "    bgcolor=\"lightyellow\",\n",
    "    bordercolor=\"green\",\n",
    "    borderwidth=2\n",
    ")\n",
    "\n",
    "# Layout settings\n",
    "fig.update_layout(\n",
    "    title=\"🔍 Accuracy Comparison of All ML Models\",\n",
    "    xaxis_title=\"Model\",\n",
    "    yaxis_title=\"Accuracy\",\n",
    "    template=\"plotly_white\",\n",
    "    yaxis=dict(range=[0, 1]),\n",
    "    font=dict(size=14),\n",
    "    showlegend=False\n",
    ")\n",
    "\n",
    "fig.show()\n"
   ]
  },
  {
   "cell_type": "code",
   "execution_count": 33,
   "id": "fb03d8a4",
   "metadata": {},
   "outputs": [
    {
     "data": {
      "text/html": [
       "<style>#sk-container-id-1 {\n",
       "  /* Definition of color scheme common for light and dark mode */\n",
       "  --sklearn-color-text: #000;\n",
       "  --sklearn-color-text-muted: #666;\n",
       "  --sklearn-color-line: gray;\n",
       "  /* Definition of color scheme for unfitted estimators */\n",
       "  --sklearn-color-unfitted-level-0: #fff5e6;\n",
       "  --sklearn-color-unfitted-level-1: #f6e4d2;\n",
       "  --sklearn-color-unfitted-level-2: #ffe0b3;\n",
       "  --sklearn-color-unfitted-level-3: chocolate;\n",
       "  /* Definition of color scheme for fitted estimators */\n",
       "  --sklearn-color-fitted-level-0: #f0f8ff;\n",
       "  --sklearn-color-fitted-level-1: #d4ebff;\n",
       "  --sklearn-color-fitted-level-2: #b3dbfd;\n",
       "  --sklearn-color-fitted-level-3: cornflowerblue;\n",
       "\n",
       "  /* Specific color for light theme */\n",
       "  --sklearn-color-text-on-default-background: var(--sg-text-color, var(--theme-code-foreground, var(--jp-content-font-color1, black)));\n",
       "  --sklearn-color-background: var(--sg-background-color, var(--theme-background, var(--jp-layout-color0, white)));\n",
       "  --sklearn-color-border-box: var(--sg-text-color, var(--theme-code-foreground, var(--jp-content-font-color1, black)));\n",
       "  --sklearn-color-icon: #696969;\n",
       "\n",
       "  @media (prefers-color-scheme: dark) {\n",
       "    /* Redefinition of color scheme for dark theme */\n",
       "    --sklearn-color-text-on-default-background: var(--sg-text-color, var(--theme-code-foreground, var(--jp-content-font-color1, white)));\n",
       "    --sklearn-color-background: var(--sg-background-color, var(--theme-background, var(--jp-layout-color0, #111)));\n",
       "    --sklearn-color-border-box: var(--sg-text-color, var(--theme-code-foreground, var(--jp-content-font-color1, white)));\n",
       "    --sklearn-color-icon: #878787;\n",
       "  }\n",
       "}\n",
       "\n",
       "#sk-container-id-1 {\n",
       "  color: var(--sklearn-color-text);\n",
       "}\n",
       "\n",
       "#sk-container-id-1 pre {\n",
       "  padding: 0;\n",
       "}\n",
       "\n",
       "#sk-container-id-1 input.sk-hidden--visually {\n",
       "  border: 0;\n",
       "  clip: rect(1px 1px 1px 1px);\n",
       "  clip: rect(1px, 1px, 1px, 1px);\n",
       "  height: 1px;\n",
       "  margin: -1px;\n",
       "  overflow: hidden;\n",
       "  padding: 0;\n",
       "  position: absolute;\n",
       "  width: 1px;\n",
       "}\n",
       "\n",
       "#sk-container-id-1 div.sk-dashed-wrapped {\n",
       "  border: 1px dashed var(--sklearn-color-line);\n",
       "  margin: 0 0.4em 0.5em 0.4em;\n",
       "  box-sizing: border-box;\n",
       "  padding-bottom: 0.4em;\n",
       "  background-color: var(--sklearn-color-background);\n",
       "}\n",
       "\n",
       "#sk-container-id-1 div.sk-container {\n",
       "  /* jupyter's `normalize.less` sets `[hidden] { display: none; }`\n",
       "     but bootstrap.min.css set `[hidden] { display: none !important; }`\n",
       "     so we also need the `!important` here to be able to override the\n",
       "     default hidden behavior on the sphinx rendered scikit-learn.org.\n",
       "     See: https://github.com/scikit-learn/scikit-learn/issues/21755 */\n",
       "  display: inline-block !important;\n",
       "  position: relative;\n",
       "}\n",
       "\n",
       "#sk-container-id-1 div.sk-text-repr-fallback {\n",
       "  display: none;\n",
       "}\n",
       "\n",
       "div.sk-parallel-item,\n",
       "div.sk-serial,\n",
       "div.sk-item {\n",
       "  /* draw centered vertical line to link estimators */\n",
       "  background-image: linear-gradient(var(--sklearn-color-text-on-default-background), var(--sklearn-color-text-on-default-background));\n",
       "  background-size: 2px 100%;\n",
       "  background-repeat: no-repeat;\n",
       "  background-position: center center;\n",
       "}\n",
       "\n",
       "/* Parallel-specific style estimator block */\n",
       "\n",
       "#sk-container-id-1 div.sk-parallel-item::after {\n",
       "  content: \"\";\n",
       "  width: 100%;\n",
       "  border-bottom: 2px solid var(--sklearn-color-text-on-default-background);\n",
       "  flex-grow: 1;\n",
       "}\n",
       "\n",
       "#sk-container-id-1 div.sk-parallel {\n",
       "  display: flex;\n",
       "  align-items: stretch;\n",
       "  justify-content: center;\n",
       "  background-color: var(--sklearn-color-background);\n",
       "  position: relative;\n",
       "}\n",
       "\n",
       "#sk-container-id-1 div.sk-parallel-item {\n",
       "  display: flex;\n",
       "  flex-direction: column;\n",
       "}\n",
       "\n",
       "#sk-container-id-1 div.sk-parallel-item:first-child::after {\n",
       "  align-self: flex-end;\n",
       "  width: 50%;\n",
       "}\n",
       "\n",
       "#sk-container-id-1 div.sk-parallel-item:last-child::after {\n",
       "  align-self: flex-start;\n",
       "  width: 50%;\n",
       "}\n",
       "\n",
       "#sk-container-id-1 div.sk-parallel-item:only-child::after {\n",
       "  width: 0;\n",
       "}\n",
       "\n",
       "/* Serial-specific style estimator block */\n",
       "\n",
       "#sk-container-id-1 div.sk-serial {\n",
       "  display: flex;\n",
       "  flex-direction: column;\n",
       "  align-items: center;\n",
       "  background-color: var(--sklearn-color-background);\n",
       "  padding-right: 1em;\n",
       "  padding-left: 1em;\n",
       "}\n",
       "\n",
       "\n",
       "/* Toggleable style: style used for estimator/Pipeline/ColumnTransformer box that is\n",
       "clickable and can be expanded/collapsed.\n",
       "- Pipeline and ColumnTransformer use this feature and define the default style\n",
       "- Estimators will overwrite some part of the style using the `sk-estimator` class\n",
       "*/\n",
       "\n",
       "/* Pipeline and ColumnTransformer style (default) */\n",
       "\n",
       "#sk-container-id-1 div.sk-toggleable {\n",
       "  /* Default theme specific background. It is overwritten whether we have a\n",
       "  specific estimator or a Pipeline/ColumnTransformer */\n",
       "  background-color: var(--sklearn-color-background);\n",
       "}\n",
       "\n",
       "/* Toggleable label */\n",
       "#sk-container-id-1 label.sk-toggleable__label {\n",
       "  cursor: pointer;\n",
       "  display: flex;\n",
       "  width: 100%;\n",
       "  margin-bottom: 0;\n",
       "  padding: 0.5em;\n",
       "  box-sizing: border-box;\n",
       "  text-align: center;\n",
       "  align-items: start;\n",
       "  justify-content: space-between;\n",
       "  gap: 0.5em;\n",
       "}\n",
       "\n",
       "#sk-container-id-1 label.sk-toggleable__label .caption {\n",
       "  font-size: 0.6rem;\n",
       "  font-weight: lighter;\n",
       "  color: var(--sklearn-color-text-muted);\n",
       "}\n",
       "\n",
       "#sk-container-id-1 label.sk-toggleable__label-arrow:before {\n",
       "  /* Arrow on the left of the label */\n",
       "  content: \"▸\";\n",
       "  float: left;\n",
       "  margin-right: 0.25em;\n",
       "  color: var(--sklearn-color-icon);\n",
       "}\n",
       "\n",
       "#sk-container-id-1 label.sk-toggleable__label-arrow:hover:before {\n",
       "  color: var(--sklearn-color-text);\n",
       "}\n",
       "\n",
       "/* Toggleable content - dropdown */\n",
       "\n",
       "#sk-container-id-1 div.sk-toggleable__content {\n",
       "  display: none;\n",
       "  text-align: left;\n",
       "  /* unfitted */\n",
       "  background-color: var(--sklearn-color-unfitted-level-0);\n",
       "}\n",
       "\n",
       "#sk-container-id-1 div.sk-toggleable__content.fitted {\n",
       "  /* fitted */\n",
       "  background-color: var(--sklearn-color-fitted-level-0);\n",
       "}\n",
       "\n",
       "#sk-container-id-1 div.sk-toggleable__content pre {\n",
       "  margin: 0.2em;\n",
       "  border-radius: 0.25em;\n",
       "  color: var(--sklearn-color-text);\n",
       "  /* unfitted */\n",
       "  background-color: var(--sklearn-color-unfitted-level-0);\n",
       "}\n",
       "\n",
       "#sk-container-id-1 div.sk-toggleable__content.fitted pre {\n",
       "  /* unfitted */\n",
       "  background-color: var(--sklearn-color-fitted-level-0);\n",
       "}\n",
       "\n",
       "#sk-container-id-1 input.sk-toggleable__control:checked~div.sk-toggleable__content {\n",
       "  /* Expand drop-down */\n",
       "  display: block;\n",
       "  width: 100%;\n",
       "  overflow: visible;\n",
       "}\n",
       "\n",
       "#sk-container-id-1 input.sk-toggleable__control:checked~label.sk-toggleable__label-arrow:before {\n",
       "  content: \"▾\";\n",
       "}\n",
       "\n",
       "/* Pipeline/ColumnTransformer-specific style */\n",
       "\n",
       "#sk-container-id-1 div.sk-label input.sk-toggleable__control:checked~label.sk-toggleable__label {\n",
       "  color: var(--sklearn-color-text);\n",
       "  background-color: var(--sklearn-color-unfitted-level-2);\n",
       "}\n",
       "\n",
       "#sk-container-id-1 div.sk-label.fitted input.sk-toggleable__control:checked~label.sk-toggleable__label {\n",
       "  background-color: var(--sklearn-color-fitted-level-2);\n",
       "}\n",
       "\n",
       "/* Estimator-specific style */\n",
       "\n",
       "/* Colorize estimator box */\n",
       "#sk-container-id-1 div.sk-estimator input.sk-toggleable__control:checked~label.sk-toggleable__label {\n",
       "  /* unfitted */\n",
       "  background-color: var(--sklearn-color-unfitted-level-2);\n",
       "}\n",
       "\n",
       "#sk-container-id-1 div.sk-estimator.fitted input.sk-toggleable__control:checked~label.sk-toggleable__label {\n",
       "  /* fitted */\n",
       "  background-color: var(--sklearn-color-fitted-level-2);\n",
       "}\n",
       "\n",
       "#sk-container-id-1 div.sk-label label.sk-toggleable__label,\n",
       "#sk-container-id-1 div.sk-label label {\n",
       "  /* The background is the default theme color */\n",
       "  color: var(--sklearn-color-text-on-default-background);\n",
       "}\n",
       "\n",
       "/* On hover, darken the color of the background */\n",
       "#sk-container-id-1 div.sk-label:hover label.sk-toggleable__label {\n",
       "  color: var(--sklearn-color-text);\n",
       "  background-color: var(--sklearn-color-unfitted-level-2);\n",
       "}\n",
       "\n",
       "/* Label box, darken color on hover, fitted */\n",
       "#sk-container-id-1 div.sk-label.fitted:hover label.sk-toggleable__label.fitted {\n",
       "  color: var(--sklearn-color-text);\n",
       "  background-color: var(--sklearn-color-fitted-level-2);\n",
       "}\n",
       "\n",
       "/* Estimator label */\n",
       "\n",
       "#sk-container-id-1 div.sk-label label {\n",
       "  font-family: monospace;\n",
       "  font-weight: bold;\n",
       "  display: inline-block;\n",
       "  line-height: 1.2em;\n",
       "}\n",
       "\n",
       "#sk-container-id-1 div.sk-label-container {\n",
       "  text-align: center;\n",
       "}\n",
       "\n",
       "/* Estimator-specific */\n",
       "#sk-container-id-1 div.sk-estimator {\n",
       "  font-family: monospace;\n",
       "  border: 1px dotted var(--sklearn-color-border-box);\n",
       "  border-radius: 0.25em;\n",
       "  box-sizing: border-box;\n",
       "  margin-bottom: 0.5em;\n",
       "  /* unfitted */\n",
       "  background-color: var(--sklearn-color-unfitted-level-0);\n",
       "}\n",
       "\n",
       "#sk-container-id-1 div.sk-estimator.fitted {\n",
       "  /* fitted */\n",
       "  background-color: var(--sklearn-color-fitted-level-0);\n",
       "}\n",
       "\n",
       "/* on hover */\n",
       "#sk-container-id-1 div.sk-estimator:hover {\n",
       "  /* unfitted */\n",
       "  background-color: var(--sklearn-color-unfitted-level-2);\n",
       "}\n",
       "\n",
       "#sk-container-id-1 div.sk-estimator.fitted:hover {\n",
       "  /* fitted */\n",
       "  background-color: var(--sklearn-color-fitted-level-2);\n",
       "}\n",
       "\n",
       "/* Specification for estimator info (e.g. \"i\" and \"?\") */\n",
       "\n",
       "/* Common style for \"i\" and \"?\" */\n",
       "\n",
       ".sk-estimator-doc-link,\n",
       "a:link.sk-estimator-doc-link,\n",
       "a:visited.sk-estimator-doc-link {\n",
       "  float: right;\n",
       "  font-size: smaller;\n",
       "  line-height: 1em;\n",
       "  font-family: monospace;\n",
       "  background-color: var(--sklearn-color-background);\n",
       "  border-radius: 1em;\n",
       "  height: 1em;\n",
       "  width: 1em;\n",
       "  text-decoration: none !important;\n",
       "  margin-left: 0.5em;\n",
       "  text-align: center;\n",
       "  /* unfitted */\n",
       "  border: var(--sklearn-color-unfitted-level-1) 1pt solid;\n",
       "  color: var(--sklearn-color-unfitted-level-1);\n",
       "}\n",
       "\n",
       ".sk-estimator-doc-link.fitted,\n",
       "a:link.sk-estimator-doc-link.fitted,\n",
       "a:visited.sk-estimator-doc-link.fitted {\n",
       "  /* fitted */\n",
       "  border: var(--sklearn-color-fitted-level-1) 1pt solid;\n",
       "  color: var(--sklearn-color-fitted-level-1);\n",
       "}\n",
       "\n",
       "/* On hover */\n",
       "div.sk-estimator:hover .sk-estimator-doc-link:hover,\n",
       ".sk-estimator-doc-link:hover,\n",
       "div.sk-label-container:hover .sk-estimator-doc-link:hover,\n",
       ".sk-estimator-doc-link:hover {\n",
       "  /* unfitted */\n",
       "  background-color: var(--sklearn-color-unfitted-level-3);\n",
       "  color: var(--sklearn-color-background);\n",
       "  text-decoration: none;\n",
       "}\n",
       "\n",
       "div.sk-estimator.fitted:hover .sk-estimator-doc-link.fitted:hover,\n",
       ".sk-estimator-doc-link.fitted:hover,\n",
       "div.sk-label-container:hover .sk-estimator-doc-link.fitted:hover,\n",
       ".sk-estimator-doc-link.fitted:hover {\n",
       "  /* fitted */\n",
       "  background-color: var(--sklearn-color-fitted-level-3);\n",
       "  color: var(--sklearn-color-background);\n",
       "  text-decoration: none;\n",
       "}\n",
       "\n",
       "/* Span, style for the box shown on hovering the info icon */\n",
       ".sk-estimator-doc-link span {\n",
       "  display: none;\n",
       "  z-index: 9999;\n",
       "  position: relative;\n",
       "  font-weight: normal;\n",
       "  right: .2ex;\n",
       "  padding: .5ex;\n",
       "  margin: .5ex;\n",
       "  width: min-content;\n",
       "  min-width: 20ex;\n",
       "  max-width: 50ex;\n",
       "  color: var(--sklearn-color-text);\n",
       "  box-shadow: 2pt 2pt 4pt #999;\n",
       "  /* unfitted */\n",
       "  background: var(--sklearn-color-unfitted-level-0);\n",
       "  border: .5pt solid var(--sklearn-color-unfitted-level-3);\n",
       "}\n",
       "\n",
       ".sk-estimator-doc-link.fitted span {\n",
       "  /* fitted */\n",
       "  background: var(--sklearn-color-fitted-level-0);\n",
       "  border: var(--sklearn-color-fitted-level-3);\n",
       "}\n",
       "\n",
       ".sk-estimator-doc-link:hover span {\n",
       "  display: block;\n",
       "}\n",
       "\n",
       "/* \"?\"-specific style due to the `<a>` HTML tag */\n",
       "\n",
       "#sk-container-id-1 a.estimator_doc_link {\n",
       "  float: right;\n",
       "  font-size: 1rem;\n",
       "  line-height: 1em;\n",
       "  font-family: monospace;\n",
       "  background-color: var(--sklearn-color-background);\n",
       "  border-radius: 1rem;\n",
       "  height: 1rem;\n",
       "  width: 1rem;\n",
       "  text-decoration: none;\n",
       "  /* unfitted */\n",
       "  color: var(--sklearn-color-unfitted-level-1);\n",
       "  border: var(--sklearn-color-unfitted-level-1) 1pt solid;\n",
       "}\n",
       "\n",
       "#sk-container-id-1 a.estimator_doc_link.fitted {\n",
       "  /* fitted */\n",
       "  border: var(--sklearn-color-fitted-level-1) 1pt solid;\n",
       "  color: var(--sklearn-color-fitted-level-1);\n",
       "}\n",
       "\n",
       "/* On hover */\n",
       "#sk-container-id-1 a.estimator_doc_link:hover {\n",
       "  /* unfitted */\n",
       "  background-color: var(--sklearn-color-unfitted-level-3);\n",
       "  color: var(--sklearn-color-background);\n",
       "  text-decoration: none;\n",
       "}\n",
       "\n",
       "#sk-container-id-1 a.estimator_doc_link.fitted:hover {\n",
       "  /* fitted */\n",
       "  background-color: var(--sklearn-color-fitted-level-3);\n",
       "}\n",
       "\n",
       ".estimator-table summary {\n",
       "    padding: .5rem;\n",
       "    font-family: monospace;\n",
       "    cursor: pointer;\n",
       "}\n",
       "\n",
       ".estimator-table details[open] {\n",
       "    padding-left: 0.1rem;\n",
       "    padding-right: 0.1rem;\n",
       "    padding-bottom: 0.3rem;\n",
       "}\n",
       "\n",
       ".estimator-table .parameters-table {\n",
       "    margin-left: auto !important;\n",
       "    margin-right: auto !important;\n",
       "}\n",
       "\n",
       ".estimator-table .parameters-table tr:nth-child(odd) {\n",
       "    background-color: #fff;\n",
       "}\n",
       "\n",
       ".estimator-table .parameters-table tr:nth-child(even) {\n",
       "    background-color: #f6f6f6;\n",
       "}\n",
       "\n",
       ".estimator-table .parameters-table tr:hover {\n",
       "    background-color: #e0e0e0;\n",
       "}\n",
       "\n",
       ".estimator-table table td {\n",
       "    border: 1px solid rgba(106, 105, 104, 0.232);\n",
       "}\n",
       "\n",
       ".user-set td {\n",
       "    color:rgb(255, 94, 0);\n",
       "    text-align: left;\n",
       "}\n",
       "\n",
       ".user-set td.value pre {\n",
       "    color:rgb(255, 94, 0) !important;\n",
       "    background-color: transparent !important;\n",
       "}\n",
       "\n",
       ".default td {\n",
       "    color: black;\n",
       "    text-align: left;\n",
       "}\n",
       "\n",
       ".user-set td i,\n",
       ".default td i {\n",
       "    color: black;\n",
       "}\n",
       "\n",
       ".copy-paste-icon {\n",
       "    background-image: url(data:image/svg+xml;base64,PHN2ZyB4bWxucz0iaHR0cDovL3d3dy53My5vcmcvMjAwMC9zdmciIHZpZXdCb3g9IjAgMCA0NDggNTEyIj48IS0tIUZvbnQgQXdlc29tZSBGcmVlIDYuNy4yIGJ5IEBmb250YXdlc29tZSAtIGh0dHBzOi8vZm9udGF3ZXNvbWUuY29tIExpY2Vuc2UgLSBodHRwczovL2ZvbnRhd2Vzb21lLmNvbS9saWNlbnNlL2ZyZWUgQ29weXJpZ2h0IDIwMjUgRm9udGljb25zLCBJbmMuLS0+PHBhdGggZD0iTTIwOCAwTDMzMi4xIDBjMTIuNyAwIDI0LjkgNS4xIDMzLjkgMTQuMWw2Ny45IDY3LjljOSA5IDE0LjEgMjEuMiAxNC4xIDMzLjlMNDQ4IDMzNmMwIDI2LjUtMjEuNSA0OC00OCA0OGwtMTkyIDBjLTI2LjUgMC00OC0yMS41LTQ4LTQ4bDAtMjg4YzAtMjYuNSAyMS41LTQ4IDQ4LTQ4ek00OCAxMjhsODAgMCAwIDY0LTY0IDAgMCAyNTYgMTkyIDAgMC0zMiA2NCAwIDAgNDhjMCAyNi41LTIxLjUgNDgtNDggNDhMNDggNTEyYy0yNi41IDAtNDgtMjEuNS00OC00OEwwIDE3NmMwLTI2LjUgMjEuNS00OCA0OC00OHoiLz48L3N2Zz4=);\n",
       "    background-repeat: no-repeat;\n",
       "    background-size: 14px 14px;\n",
       "    background-position: 0;\n",
       "    display: inline-block;\n",
       "    width: 14px;\n",
       "    height: 14px;\n",
       "    cursor: pointer;\n",
       "}\n",
       "</style><body><div id=\"sk-container-id-1\" class=\"sk-top-container\"><div class=\"sk-text-repr-fallback\"><pre>RandomForestRegressor(n_estimators=500, random_state=11)</pre><b>In a Jupyter environment, please rerun this cell to show the HTML representation or trust the notebook. <br />On GitHub, the HTML representation is unable to render, please try loading this page with nbviewer.org.</b></div><div class=\"sk-container\" hidden><div class=\"sk-item\"><div class=\"sk-estimator fitted sk-toggleable\"><input class=\"sk-toggleable__control sk-hidden--visually\" id=\"sk-estimator-id-1\" type=\"checkbox\" checked><label for=\"sk-estimator-id-1\" class=\"sk-toggleable__label fitted sk-toggleable__label-arrow\"><div><div>RandomForestRegressor</div></div><div><a class=\"sk-estimator-doc-link fitted\" rel=\"noreferrer\" target=\"_blank\" href=\"https://scikit-learn.org/1.7/modules/generated/sklearn.ensemble.RandomForestRegressor.html\">?<span>Documentation for RandomForestRegressor</span></a><span class=\"sk-estimator-doc-link fitted\">i<span>Fitted</span></span></div></label><div class=\"sk-toggleable__content fitted\" data-param-prefix=\"\">\n",
       "        <div class=\"estimator-table\">\n",
       "            <details>\n",
       "                <summary>Parameters</summary>\n",
       "                <table class=\"parameters-table\">\n",
       "                  <tbody>\n",
       "                    \n",
       "        <tr class=\"user-set\">\n",
       "            <td><i class=\"copy-paste-icon\"\n",
       "                 onclick=\"copyToClipboard('n_estimators',\n",
       "                          this.parentElement.nextElementSibling)\"\n",
       "            ></i></td>\n",
       "            <td class=\"param\">n_estimators&nbsp;</td>\n",
       "            <td class=\"value\">500</td>\n",
       "        </tr>\n",
       "    \n",
       "\n",
       "        <tr class=\"default\">\n",
       "            <td><i class=\"copy-paste-icon\"\n",
       "                 onclick=\"copyToClipboard('criterion',\n",
       "                          this.parentElement.nextElementSibling)\"\n",
       "            ></i></td>\n",
       "            <td class=\"param\">criterion&nbsp;</td>\n",
       "            <td class=\"value\">&#x27;squared_error&#x27;</td>\n",
       "        </tr>\n",
       "    \n",
       "\n",
       "        <tr class=\"default\">\n",
       "            <td><i class=\"copy-paste-icon\"\n",
       "                 onclick=\"copyToClipboard('max_depth',\n",
       "                          this.parentElement.nextElementSibling)\"\n",
       "            ></i></td>\n",
       "            <td class=\"param\">max_depth&nbsp;</td>\n",
       "            <td class=\"value\">None</td>\n",
       "        </tr>\n",
       "    \n",
       "\n",
       "        <tr class=\"default\">\n",
       "            <td><i class=\"copy-paste-icon\"\n",
       "                 onclick=\"copyToClipboard('min_samples_split',\n",
       "                          this.parentElement.nextElementSibling)\"\n",
       "            ></i></td>\n",
       "            <td class=\"param\">min_samples_split&nbsp;</td>\n",
       "            <td class=\"value\">2</td>\n",
       "        </tr>\n",
       "    \n",
       "\n",
       "        <tr class=\"default\">\n",
       "            <td><i class=\"copy-paste-icon\"\n",
       "                 onclick=\"copyToClipboard('min_samples_leaf',\n",
       "                          this.parentElement.nextElementSibling)\"\n",
       "            ></i></td>\n",
       "            <td class=\"param\">min_samples_leaf&nbsp;</td>\n",
       "            <td class=\"value\">1</td>\n",
       "        </tr>\n",
       "    \n",
       "\n",
       "        <tr class=\"default\">\n",
       "            <td><i class=\"copy-paste-icon\"\n",
       "                 onclick=\"copyToClipboard('min_weight_fraction_leaf',\n",
       "                          this.parentElement.nextElementSibling)\"\n",
       "            ></i></td>\n",
       "            <td class=\"param\">min_weight_fraction_leaf&nbsp;</td>\n",
       "            <td class=\"value\">0.0</td>\n",
       "        </tr>\n",
       "    \n",
       "\n",
       "        <tr class=\"default\">\n",
       "            <td><i class=\"copy-paste-icon\"\n",
       "                 onclick=\"copyToClipboard('max_features',\n",
       "                          this.parentElement.nextElementSibling)\"\n",
       "            ></i></td>\n",
       "            <td class=\"param\">max_features&nbsp;</td>\n",
       "            <td class=\"value\">1.0</td>\n",
       "        </tr>\n",
       "    \n",
       "\n",
       "        <tr class=\"default\">\n",
       "            <td><i class=\"copy-paste-icon\"\n",
       "                 onclick=\"copyToClipboard('max_leaf_nodes',\n",
       "                          this.parentElement.nextElementSibling)\"\n",
       "            ></i></td>\n",
       "            <td class=\"param\">max_leaf_nodes&nbsp;</td>\n",
       "            <td class=\"value\">None</td>\n",
       "        </tr>\n",
       "    \n",
       "\n",
       "        <tr class=\"default\">\n",
       "            <td><i class=\"copy-paste-icon\"\n",
       "                 onclick=\"copyToClipboard('min_impurity_decrease',\n",
       "                          this.parentElement.nextElementSibling)\"\n",
       "            ></i></td>\n",
       "            <td class=\"param\">min_impurity_decrease&nbsp;</td>\n",
       "            <td class=\"value\">0.0</td>\n",
       "        </tr>\n",
       "    \n",
       "\n",
       "        <tr class=\"default\">\n",
       "            <td><i class=\"copy-paste-icon\"\n",
       "                 onclick=\"copyToClipboard('bootstrap',\n",
       "                          this.parentElement.nextElementSibling)\"\n",
       "            ></i></td>\n",
       "            <td class=\"param\">bootstrap&nbsp;</td>\n",
       "            <td class=\"value\">True</td>\n",
       "        </tr>\n",
       "    \n",
       "\n",
       "        <tr class=\"default\">\n",
       "            <td><i class=\"copy-paste-icon\"\n",
       "                 onclick=\"copyToClipboard('oob_score',\n",
       "                          this.parentElement.nextElementSibling)\"\n",
       "            ></i></td>\n",
       "            <td class=\"param\">oob_score&nbsp;</td>\n",
       "            <td class=\"value\">False</td>\n",
       "        </tr>\n",
       "    \n",
       "\n",
       "        <tr class=\"default\">\n",
       "            <td><i class=\"copy-paste-icon\"\n",
       "                 onclick=\"copyToClipboard('n_jobs',\n",
       "                          this.parentElement.nextElementSibling)\"\n",
       "            ></i></td>\n",
       "            <td class=\"param\">n_jobs&nbsp;</td>\n",
       "            <td class=\"value\">None</td>\n",
       "        </tr>\n",
       "    \n",
       "\n",
       "        <tr class=\"user-set\">\n",
       "            <td><i class=\"copy-paste-icon\"\n",
       "                 onclick=\"copyToClipboard('random_state',\n",
       "                          this.parentElement.nextElementSibling)\"\n",
       "            ></i></td>\n",
       "            <td class=\"param\">random_state&nbsp;</td>\n",
       "            <td class=\"value\">11</td>\n",
       "        </tr>\n",
       "    \n",
       "\n",
       "        <tr class=\"default\">\n",
       "            <td><i class=\"copy-paste-icon\"\n",
       "                 onclick=\"copyToClipboard('verbose',\n",
       "                          this.parentElement.nextElementSibling)\"\n",
       "            ></i></td>\n",
       "            <td class=\"param\">verbose&nbsp;</td>\n",
       "            <td class=\"value\">0</td>\n",
       "        </tr>\n",
       "    \n",
       "\n",
       "        <tr class=\"default\">\n",
       "            <td><i class=\"copy-paste-icon\"\n",
       "                 onclick=\"copyToClipboard('warm_start',\n",
       "                          this.parentElement.nextElementSibling)\"\n",
       "            ></i></td>\n",
       "            <td class=\"param\">warm_start&nbsp;</td>\n",
       "            <td class=\"value\">False</td>\n",
       "        </tr>\n",
       "    \n",
       "\n",
       "        <tr class=\"default\">\n",
       "            <td><i class=\"copy-paste-icon\"\n",
       "                 onclick=\"copyToClipboard('ccp_alpha',\n",
       "                          this.parentElement.nextElementSibling)\"\n",
       "            ></i></td>\n",
       "            <td class=\"param\">ccp_alpha&nbsp;</td>\n",
       "            <td class=\"value\">0.0</td>\n",
       "        </tr>\n",
       "    \n",
       "\n",
       "        <tr class=\"default\">\n",
       "            <td><i class=\"copy-paste-icon\"\n",
       "                 onclick=\"copyToClipboard('max_samples',\n",
       "                          this.parentElement.nextElementSibling)\"\n",
       "            ></i></td>\n",
       "            <td class=\"param\">max_samples&nbsp;</td>\n",
       "            <td class=\"value\">None</td>\n",
       "        </tr>\n",
       "    \n",
       "\n",
       "        <tr class=\"default\">\n",
       "            <td><i class=\"copy-paste-icon\"\n",
       "                 onclick=\"copyToClipboard('monotonic_cst',\n",
       "                          this.parentElement.nextElementSibling)\"\n",
       "            ></i></td>\n",
       "            <td class=\"param\">monotonic_cst&nbsp;</td>\n",
       "            <td class=\"value\">None</td>\n",
       "        </tr>\n",
       "    \n",
       "                  </tbody>\n",
       "                </table>\n",
       "            </details>\n",
       "        </div>\n",
       "    </div></div></div></div></div><script>function copyToClipboard(text, element) {\n",
       "    // Get the parameter prefix from the closest toggleable content\n",
       "    const toggleableContent = element.closest('.sk-toggleable__content');\n",
       "    const paramPrefix = toggleableContent ? toggleableContent.dataset.paramPrefix : '';\n",
       "    const fullParamName = paramPrefix ? `${paramPrefix}${text}` : text;\n",
       "\n",
       "    const originalStyle = element.style;\n",
       "    const computedStyle = window.getComputedStyle(element);\n",
       "    const originalWidth = computedStyle.width;\n",
       "    const originalHTML = element.innerHTML.replace('Copied!', '');\n",
       "\n",
       "    navigator.clipboard.writeText(fullParamName)\n",
       "        .then(() => {\n",
       "            element.style.width = originalWidth;\n",
       "            element.style.color = 'green';\n",
       "            element.innerHTML = \"Copied!\";\n",
       "\n",
       "            setTimeout(() => {\n",
       "                element.innerHTML = originalHTML;\n",
       "                element.style = originalStyle;\n",
       "            }, 2000);\n",
       "        })\n",
       "        .catch(err => {\n",
       "            console.error('Failed to copy:', err);\n",
       "            element.style.color = 'red';\n",
       "            element.innerHTML = \"Failed!\";\n",
       "            setTimeout(() => {\n",
       "                element.innerHTML = originalHTML;\n",
       "                element.style = originalStyle;\n",
       "            }, 2000);\n",
       "        });\n",
       "    return false;\n",
       "}\n",
       "\n",
       "document.querySelectorAll('.fa-regular.fa-copy').forEach(function(element) {\n",
       "    const toggleableContent = element.closest('.sk-toggleable__content');\n",
       "    const paramPrefix = toggleableContent ? toggleableContent.dataset.paramPrefix : '';\n",
       "    const paramName = element.parentElement.nextElementSibling.textContent.trim();\n",
       "    const fullParamName = paramPrefix ? `${paramPrefix}${paramName}` : paramName;\n",
       "\n",
       "    element.setAttribute('title', fullParamName);\n",
       "});\n",
       "</script></body>"
      ],
      "text/plain": [
       "RandomForestRegressor(n_estimators=500, random_state=11)"
      ]
     },
     "execution_count": 33,
     "metadata": {},
     "output_type": "execute_result"
    }
   ],
   "source": [
    "rf = RandomForestRegressor(n_estimators=500, random_state=11)\n",
    "\n",
    "rf.fit(X_train, y_train)"
   ]
  },
  {
   "cell_type": "code",
   "execution_count": 34,
   "id": "2e7e2814",
   "metadata": {},
   "outputs": [],
   "source": [
    "predicted_salary = np.round(rf.predict(X_test))"
   ]
  },
  {
   "cell_type": "code",
   "execution_count": 35,
   "id": "77c4c321",
   "metadata": {},
   "outputs": [
    {
     "data": {
      "text/html": [
       "<div>\n",
       "<style scoped>\n",
       "    .dataframe tbody tr th:only-of-type {\n",
       "        vertical-align: middle;\n",
       "    }\n",
       "\n",
       "    .dataframe tbody tr th {\n",
       "        vertical-align: top;\n",
       "    }\n",
       "\n",
       "    .dataframe thead th {\n",
       "        text-align: right;\n",
       "    }\n",
       "</style>\n",
       "<table border=\"1\" class=\"dataframe\">\n",
       "  <thead>\n",
       "    <tr style=\"text-align: right;\">\n",
       "      <th></th>\n",
       "      <th>Actual_Salary</th>\n",
       "      <th>Predicted_Salary</th>\n",
       "      <th>error</th>\n",
       "    </tr>\n",
       "  </thead>\n",
       "  <tbody>\n",
       "    <tr>\n",
       "      <th>329</th>\n",
       "      <td>180000.0</td>\n",
       "      <td>176450.0</td>\n",
       "      <td>-3550.0</td>\n",
       "    </tr>\n",
       "    <tr>\n",
       "      <th>33</th>\n",
       "      <td>65000.0</td>\n",
       "      <td>107910.0</td>\n",
       "      <td>42910.0</td>\n",
       "    </tr>\n",
       "    <tr>\n",
       "      <th>15</th>\n",
       "      <td>125000.0</td>\n",
       "      <td>136160.0</td>\n",
       "      <td>11160.0</td>\n",
       "    </tr>\n",
       "    <tr>\n",
       "      <th>316</th>\n",
       "      <td>80000.0</td>\n",
       "      <td>95530.0</td>\n",
       "      <td>15530.0</td>\n",
       "    </tr>\n",
       "    <tr>\n",
       "      <th>57</th>\n",
       "      <td>140000.0</td>\n",
       "      <td>150620.0</td>\n",
       "      <td>10620.0</td>\n",
       "    </tr>\n",
       "  </tbody>\n",
       "</table>\n",
       "</div>"
      ],
      "text/plain": [
       "     Actual_Salary  Predicted_Salary    error\n",
       "329       180000.0          176450.0  -3550.0\n",
       "33         65000.0          107910.0  42910.0\n",
       "15        125000.0          136160.0  11160.0\n",
       "316        80000.0           95530.0  15530.0\n",
       "57        140000.0          150620.0  10620.0"
      ]
     },
     "execution_count": 35,
     "metadata": {},
     "output_type": "execute_result"
    }
   ],
   "source": [
    "d = {\n",
    "    \"Actual_Salary\" : y_test,\n",
    "    \"Predicted_Salary\" : predicted_salary,\n",
    "    \"error\": predicted_salary - y_test\n",
    "}\n",
    "predected_df = pd.DataFrame(d)\n",
    "predected_df.head()"
   ]
  },
  {
   "cell_type": "code",
   "execution_count": 36,
   "id": "5ef5bf0b",
   "metadata": {},
   "outputs": [
    {
     "name": "stdout",
     "output_type": "stream",
     "text": [
      "Model Score: 89.25%\n"
     ]
    }
   ],
   "source": [
    "score = r2_score(y_test, predicted_salary)*100\n",
    "print(f\"Model Score: {np.round(score, 2)}%\")"
   ]
  },
  {
   "cell_type": "code",
   "execution_count": 40,
   "id": "d5eb824c",
   "metadata": {},
   "outputs": [
    {
     "data": {
      "application/vnd.plotly.v1+json": {
       "config": {
        "linkText": "Export to plot.ly",
        "plotlyServerURL": "https://plot.ly",
        "showLink": false
       },
       "data": [
        {
         "hovertemplate": "Actual_Salary=%{x}<br>Predicted_Salary=%{y}<br>error=%{marker.color}<extra></extra>",
         "legendgroup": "",
         "marker": {
          "color": {
           "bdata": "AAAAAAC8q8AAAAAAwPPkQAAAAAAAzMVAAAAAAABVzkAAAAAAAL7EQAAAAAAATKjAAAAAAADku0AAAAAAAF3GwAAAAAAAACRAAAAAAADutkAAAAAAAHPEwAAAAAAAaL9AAAAAAACatUAAAAAAAAKyQAAAAAAAc9RAAAAAAAAAJEAAAAAAADHfwAAAAAAAWsTAAAAAAAC4kMAAAAAAAHiUwAAAAAAAzKBAAAAAAADAnMAAAAAAgBThwAAAAAAAtszAAAAAAAB2scAAAAAAALCDQAAAAAAA5KHAAAAAAAAAJEAAAAAAAMLPwAAAAACAKdrAAAAAAACgmUAAAAAAAHLVQAAAAAAA58jAAAAAAADAYsAAAAAAAH6zwAAAAAAAQJ9AAAAAAAC4ysAAAAAAAIPDwAAAAAAAQsNAAAAAAAC4mkAAAAAAAAA0QAAAAAAAgGtAAAAAAABl88AAAAAAAIK+QAAAAAAAACRAAAAAAACd0kAAAAAAAKbIwAAAAACAStfAAAAAAAA9zcAAAAAAAAAAAAAAAACAutrAAAAAAABQjkAAAAAAANitwAAAAAAAMKHAAAAAAAAApMAAAAAAgEXXwAAAAACAvdJAAAAAAAA+10AAAAAAALyrwAAAAAAA4sPAAAAAAADgsEAAAAAAAKB0wAAAAAAA0KHAAAAAAACL0MAAAAAAABayQAAAAAAAACRAAAAAAAA4o0AAAAAAAH6zwAAAAAAAADRAAAAAAAAStkAAAAAAAFHDQAAAAAAA7M1AAAAAAAAAPsAAAAAAAKKywAAAAAAAbcrAAAAAAADMv8AAAAAAAIHPQAAAAAAAAAAAAAAAAACAscAAAAAAAOCAQAAAAACAStJAAAAAAACgdMAAAAAAgKDbwAAAAAAAIHfAAAAAAADN5EAAAAAAgEXXwAAAAAAAkJpAAAAAAAAqt8AAAAAAAE6xQAAAAACAPNFAAAAAAAB+s8AAAAAAAI6yQAAAAAAAUtfAAAAAAADBy8AAAAAAAKnVwAAAAAAActDAAAAAAACuwEAAAAAAAA66wAAAAAAAQGVAAAAAAIAK1sAAAAAAACy1wAAAAAAAUK5AAAAAAABAasAAAAAAgHPhQAAAAAAAACRAAAAAAAAQs8AAAAAAABzLQAAAAAAAAD5AAAAAAABcp0AAAAAAAAAAAAAAAAAA5r7AAAAAAACszMA=",
           "dtype": "f8"
          },
          "coloraxis": "coloraxis",
          "opacity": 0.8,
          "symbol": "circle"
         },
         "mode": "markers",
         "name": "",
         "orientation": "v",
         "showlegend": false,
         "type": "scatter",
         "x": {
          "bdata": "AAAAAAD5BUEAAAAAAL3vQAAAAACAhP5AAAAAAACI80AAAAAAABcBQQAAAAAAiANBAAAAAACIA0EAAAAAAEz9QAAAAAAAauhAAAAAAIAx90AAAAAAABcBQQAAAAAAiANBAAAAAAAX4UAAAAAAgDH3QAAAAAAA2/pAAAAAAABq6EAAAAAAAPn1QAAAAAAAauhAAAAAAAD59UAAAAAAgDH3QAAAAAAA2/pAAAAAAICi+UAAAAAAgDEHQQAAAAAAF/FAAAAAAABq+EAAAAAAAGroQAAAAAAAiANBAAAAAACI40AAAAAAAEz9QAAAAACAwARBAAAAAAD55UAAAAAAAGr4QAAAAAAATO1AAAAAAIBPAkEAAAAAANv6QAAAAAAAF+FAAAAAAAD5BUEAAAAAAGroQAAAAAAAFwFBAAAAAABq6EAAAAAAAIjjQAAAAAAAavhAAAAAAICEDkEAAAAAgMAEQQAAAAAAiONAAAAAAAAXAUEAAAAAAEz9QAAAAAAAve9AAAAAAADb6kAAAAAAAIjjQAAAAAAA+QVBAAAAAAD59UAAAAAAAL3/QAAAAAAAavhAAAAAAADb+kAAAAAAAL3/QAAAAACAwARBAAAAAABM7UAAAAAAAPkFQQAAAAAAavhAAAAAAABq+EAAAAAAgE8CQQAAAAAA+QVBAAAAAIBP8kAAAAAAAPnlQAAAAAAAiONAAAAAAAD55UAAAAAAANv6QAAAAAAAiONAAAAAAABM3UAAAAAAgE/yQAAAAAAA+fVAAAAAAABM7UAAAAAAABcBQQAAAAAA2/pAAAAAAIAx90AAAAAAgDH3QAAAAAAAiONAAAAAAAAX8UAAAAAAAPn1QAAAAAAATP1AAAAAAIBPAkEAAAAAAIjzQAAAAAAA+fVAAAAAAAC970AAAAAAAL3/QAAAAAAAavhAAAAAAACIA0EAAAAAAIjzQAAAAAAA2/pAAAAAAADb+kAAAAAAgMAEQQAAAACAE/xAAAAAAAD5BUEAAAAAABcBQQAAAAAATP1AAAAAAADb+kAAAAAAgBP8QAAAAAAAauhAAAAAAAAXAUEAAAAAAPnlQAAAAAAA2+pAAAAAAABq6EAAAAAAAOB1QAAAAAAAiONAAAAAAADb6kAAAAAAAPnlQAAAAACAwPRAAAAAAIBPAkEAAAAAAIjjQAAAAAAA+QVBAAAAAAAXAUE=",
          "dtype": "f8"
         },
         "xaxis": "x",
         "y": {
          "bdata": "AAAAABCKBUEAAAAAYFj6QAAAAAAAnwBBAAAAAKBS90AAAAAA4GICQQAAAADQJgNBAAAAACBnBEEAAAAAYID6QAAAAABAa+hAAAAAAGCg+EAAAAAAoJ//QAAAAABAgwRBAAAAAEDK40AAAAAAoFH4QAAAAADA9/9AAAAAAEBr6EAAAAAAgFnsQAAAAACAU+NAAAAAACC29UAAAAAAoN/2QAAAAABgYftAAAAAAIAv+UAAAAAAYOwCQQAAAACAAOtAAAAAAKBS90AAAAAAwLjoQAAAAABwQANBAAAAAECJ40AAAAAAwFP5QAAAAABQewFBAAAAAADG5kAAAAAAgMb9QAAAAABAEudAAAAAANBKAkEAAAAAIKP5QAAAAAAAEeJAAAAAAIBNBEEAAAAAQInjQAAAAAAgSwJBAAAAAMA/6UAAAAAAgIrjQAAAAADAd/hAAAAAAADSBEEAAAAAkLQFQQAAAABAieNAAAAAAKBqA0EAAAAAQDf6QAAAAADAF+RAAAAAAMCL40AAAAAAAIjjQAAAAACwoQJBAAAAAKA19kAAAAAAQM7+QAAAAACA4PdAAAAAAAA7+kAAAAAAoOv5QAAAAAAwGAdBAAAAAIB19EAAAAAAEIoFQQAAAADA7fVAAAAAAAB4+UAAAAAAMEUCQQAAAADAsQVBAAAAAIBZ7EAAAAAAwDvoQAAAAABAieNAAAAAAIAs50AAAAAAIKP5QAAAAACAiuNAAAAAAEBo4UAAAAAAoLn0QAAAAACAtvlAAAAAAEBI7UAAAAAA8IEAQQAAAABgjfdAAAAAAMA09UAAAAAAoCH7QAAAAAAAiONAAAAAAAD+70AAAAAAwBr2QAAAAABQ7wBBAAAAADBFAkEAAAAAwD/pQAAAAADg4fVAAAAAAABF+kAAAAAAoOv5QAAAAABA1PhAAAAAALDOAkEAAAAA4Jz0QAAAAAAgKv9AAAAAACCj+UAAAAAA8FQFQQAAAAAAP/ZAAAAAAPA8BEEAAAAAwMP8QAAAAACAL/lAAAAAAMDw/EAAAAAAoHL6QAAAAABAf+hAAAAAAGCr/EAAAAAAgFPjQAAAAAAAwOxAAAAAAMBP6EAAAAAAQJ/hQAAAAABAieNAAAAAAAB56EAAAAAAAMDsQAAAAABgwvRAAAAAAPCsAkEAAAAAAIjjQAAAAADQAQVBAAAAAICY/kA=",
          "dtype": "f8"
         },
         "yaxis": "y"
        },
        {
         "hovertemplate": "<b>OLS trendline</b><br>Predicted_Salary = 0.885001 * Actual_Salary + 9617.45<br>R<sup>2</sup>=0.894366<br><br>Actual_Salary=%{x}<br>Predicted_Salary=%{y} <b>(trend)</b><extra></extra>",
         "legendgroup": "",
         "marker": {
          "symbol": "circle"
         },
         "mode": "lines",
         "name": "",
         "showlegend": false,
         "type": "scatter",
         "x": {
          "bdata": "AAAAAADgdUAAAAAAAEzdQAAAAAAAF+FAAAAAAAAX4UAAAAAAAIjjQAAAAAAAiONAAAAAAACI40AAAAAAAIjjQAAAAAAAiONAAAAAAACI40AAAAAAAIjjQAAAAAAAiONAAAAAAACI40AAAAAAAPnlQAAAAAAA+eVAAAAAAAD55UAAAAAAAPnlQAAAAAAA+eVAAAAAAABq6EAAAAAAAGroQAAAAAAAauhAAAAAAABq6EAAAAAAAGroQAAAAAAAauhAAAAAAABq6EAAAAAAAGroQAAAAAAA2+pAAAAAAADb6kAAAAAAANvqQAAAAAAATO1AAAAAAABM7UAAAAAAAEztQAAAAAAAve9AAAAAAAC970AAAAAAAL3vQAAAAAAAF/FAAAAAAAAX8UAAAAAAgE/yQAAAAACAT/JAAAAAAACI80AAAAAAAIjzQAAAAAAAiPNAAAAAAIDA9EAAAAAAAPn1QAAAAAAA+fVAAAAAAAD59UAAAAAAAPn1QAAAAAAA+fVAAAAAAAD59UAAAAAAgDH3QAAAAACAMfdAAAAAAIAx90AAAAAAgDH3QAAAAACAMfdAAAAAAABq+EAAAAAAAGr4QAAAAAAAavhAAAAAAABq+EAAAAAAAGr4QAAAAAAAavhAAAAAAABq+EAAAAAAgKL5QAAAAAAA2/pAAAAAAADb+kAAAAAAANv6QAAAAAAA2/pAAAAAAADb+kAAAAAAANv6QAAAAAAA2/pAAAAAAADb+kAAAAAAANv6QAAAAACAE/xAAAAAAIAT/EAAAAAAAEz9QAAAAAAATP1AAAAAAABM/UAAAAAAAEz9QAAAAAAATP1AAAAAAICE/kAAAAAAAL3/QAAAAAAAvf9AAAAAAAC9/0AAAAAAABcBQQAAAAAAFwFBAAAAAAAXAUEAAAAAABcBQQAAAAAAFwFBAAAAAAAXAUEAAAAAABcBQQAAAAAAFwFBAAAAAIBPAkEAAAAAgE8CQQAAAACATwJBAAAAAIBPAkEAAAAAAIgDQQAAAAAAiANBAAAAAACIA0EAAAAAAIgDQQAAAAAAiANBAAAAAIDABEEAAAAAgMAEQQAAAACAwARBAAAAAIDABEEAAAAAAPkFQQAAAAAA+QVBAAAAAAD5BUEAAAAAAPkFQQAAAAAA+QVBAAAAAAD5BUEAAAAAAPkFQQAAAACAMQdBAAAAAICEDkE=",
          "dtype": "f8"
         },
         "xaxis": "x",
         "y": {
          "bdata": "dFjCy5ljw0DycF5Z76jhQOAjOoAP0uNA4CM6gA/S40DP1hWnL/vlQM/WFacv++VAz9YVpy/75UDP1hWnL/vlQM/WFacv++VAz9YVpy/75UDP1hWnL/vlQM/WFacv++VAz9YVpy/75UC+ifHNTyToQL6J8c1PJOhAvonxzU8k6EC+ifHNTyToQL6J8c1PJOhArTzN9G9N6kCtPM30b03qQK08zfRvTepArTzN9G9N6kCtPM30b03qQK08zfRvTepArTzN9G9N6kCtPM30b03qQJvvqBuQduxAm++oG5B27ECb76gbkHbsQIqihEKwn+5AiqKEQrCf7kCKooRCsJ/uQLwqsDRoZPBAvCqwNGhk8EC8KrA0aGTwQDQEHkj4ePFANAQeSPh48UCs3YtbiI3yQKzdi1uIjfJAIrf5bhii80Ait/luGKLzQCK3+W4YovNAmpBngqi29EASatWVOMv1QBJq1ZU4y/VAEmrVlTjL9UASatWVOMv1QBJq1ZU4y/VAEmrVlTjL9UCIQ0OpyN/2QIhDQ6nI3/ZAiENDqcjf9kCIQ0OpyN/2QIhDQ6nI3/ZAAB2xvFj090AAHbG8WPT3QAAdsbxY9PdAAB2xvFj090AAHbG8WPT3QAAdsbxY9PdAAB2xvFj090B49h7Q6Aj5QO7PjON4HfpA7s+M43gd+kDuz4zjeB36QO7PjON4HfpA7s+M43gd+kDuz4zjeB36QO7PjON4HfpA7s+M43gd+kDuz4zjeB36QGap+vYIMvtAZqn69ggy+0DegmgKmUb8QN6CaAqZRvxA3oJoCplG/EDegmgKmUb8QN6CaAqZRvxAVlzWHSlb/UDMNUQxuW/+QMw1RDG5b/5AzDVEMblv/kBe9A+sbEwAQV70D6xsTABBXvQPrGxMAEFe9A+sbEwAQV70D6xsTABBXvQPrGxMAEFe9A+sbEwAQV70D6xsTABB1c19v/xgAUHVzX2//GABQdXNfb/8YAFB1c19v/xgAUFMp+vSjHUCQUyn69KMdQJBTKfr0ox1AkFMp+vSjHUCQUyn69KMdQJBw4BZ5hyKA0HDgFnmHIoDQcOAWeYcigNBw4BZ5hyKA0E7Wsf5rJ4EQTtax/msngRBO1rH+ayeBEE7Wsf5rJ4EQTtax/msngRBO1rH+ayeBEE7Wsf5rJ4EQbIzNQ09swVBf0zIgZ0uDEE=",
          "dtype": "f8"
         },
         "yaxis": "y"
        }
       ],
       "layout": {
        "coloraxis": {
         "colorbar": {
          "title": {
           "text": "error"
          }
         },
         "colorscale": [
          [
           0,
           "#0d0887"
          ],
          [
           0.1111111111111111,
           "#46039f"
          ],
          [
           0.2222222222222222,
           "#7201a8"
          ],
          [
           0.3333333333333333,
           "#9c179e"
          ],
          [
           0.4444444444444444,
           "#bd3786"
          ],
          [
           0.5555555555555556,
           "#d8576b"
          ],
          [
           0.6666666666666666,
           "#ed7953"
          ],
          [
           0.7777777777777778,
           "#fb9f3a"
          ],
          [
           0.8888888888888888,
           "#fdca26"
          ],
          [
           1,
           "#f0f921"
          ]
         ]
        },
        "legend": {
         "tracegroupgap": 0
        },
        "template": {
         "data": {
          "bar": [
           {
            "error_x": {
             "color": "#f2f5fa"
            },
            "error_y": {
             "color": "#f2f5fa"
            },
            "marker": {
             "line": {
              "color": "rgb(17,17,17)",
              "width": 0.5
             },
             "pattern": {
              "fillmode": "overlay",
              "size": 10,
              "solidity": 0.2
             }
            },
            "type": "bar"
           }
          ],
          "barpolar": [
           {
            "marker": {
             "line": {
              "color": "rgb(17,17,17)",
              "width": 0.5
             },
             "pattern": {
              "fillmode": "overlay",
              "size": 10,
              "solidity": 0.2
             }
            },
            "type": "barpolar"
           }
          ],
          "carpet": [
           {
            "aaxis": {
             "endlinecolor": "#A2B1C6",
             "gridcolor": "#506784",
             "linecolor": "#506784",
             "minorgridcolor": "#506784",
             "startlinecolor": "#A2B1C6"
            },
            "baxis": {
             "endlinecolor": "#A2B1C6",
             "gridcolor": "#506784",
             "linecolor": "#506784",
             "minorgridcolor": "#506784",
             "startlinecolor": "#A2B1C6"
            },
            "type": "carpet"
           }
          ],
          "choropleth": [
           {
            "colorbar": {
             "outlinewidth": 0,
             "ticks": ""
            },
            "type": "choropleth"
           }
          ],
          "contour": [
           {
            "colorbar": {
             "outlinewidth": 0,
             "ticks": ""
            },
            "colorscale": [
             [
              0,
              "#0d0887"
             ],
             [
              0.1111111111111111,
              "#46039f"
             ],
             [
              0.2222222222222222,
              "#7201a8"
             ],
             [
              0.3333333333333333,
              "#9c179e"
             ],
             [
              0.4444444444444444,
              "#bd3786"
             ],
             [
              0.5555555555555556,
              "#d8576b"
             ],
             [
              0.6666666666666666,
              "#ed7953"
             ],
             [
              0.7777777777777778,
              "#fb9f3a"
             ],
             [
              0.8888888888888888,
              "#fdca26"
             ],
             [
              1,
              "#f0f921"
             ]
            ],
            "type": "contour"
           }
          ],
          "contourcarpet": [
           {
            "colorbar": {
             "outlinewidth": 0,
             "ticks": ""
            },
            "type": "contourcarpet"
           }
          ],
          "heatmap": [
           {
            "colorbar": {
             "outlinewidth": 0,
             "ticks": ""
            },
            "colorscale": [
             [
              0,
              "#0d0887"
             ],
             [
              0.1111111111111111,
              "#46039f"
             ],
             [
              0.2222222222222222,
              "#7201a8"
             ],
             [
              0.3333333333333333,
              "#9c179e"
             ],
             [
              0.4444444444444444,
              "#bd3786"
             ],
             [
              0.5555555555555556,
              "#d8576b"
             ],
             [
              0.6666666666666666,
              "#ed7953"
             ],
             [
              0.7777777777777778,
              "#fb9f3a"
             ],
             [
              0.8888888888888888,
              "#fdca26"
             ],
             [
              1,
              "#f0f921"
             ]
            ],
            "type": "heatmap"
           }
          ],
          "histogram": [
           {
            "marker": {
             "pattern": {
              "fillmode": "overlay",
              "size": 10,
              "solidity": 0.2
             }
            },
            "type": "histogram"
           }
          ],
          "histogram2d": [
           {
            "colorbar": {
             "outlinewidth": 0,
             "ticks": ""
            },
            "colorscale": [
             [
              0,
              "#0d0887"
             ],
             [
              0.1111111111111111,
              "#46039f"
             ],
             [
              0.2222222222222222,
              "#7201a8"
             ],
             [
              0.3333333333333333,
              "#9c179e"
             ],
             [
              0.4444444444444444,
              "#bd3786"
             ],
             [
              0.5555555555555556,
              "#d8576b"
             ],
             [
              0.6666666666666666,
              "#ed7953"
             ],
             [
              0.7777777777777778,
              "#fb9f3a"
             ],
             [
              0.8888888888888888,
              "#fdca26"
             ],
             [
              1,
              "#f0f921"
             ]
            ],
            "type": "histogram2d"
           }
          ],
          "histogram2dcontour": [
           {
            "colorbar": {
             "outlinewidth": 0,
             "ticks": ""
            },
            "colorscale": [
             [
              0,
              "#0d0887"
             ],
             [
              0.1111111111111111,
              "#46039f"
             ],
             [
              0.2222222222222222,
              "#7201a8"
             ],
             [
              0.3333333333333333,
              "#9c179e"
             ],
             [
              0.4444444444444444,
              "#bd3786"
             ],
             [
              0.5555555555555556,
              "#d8576b"
             ],
             [
              0.6666666666666666,
              "#ed7953"
             ],
             [
              0.7777777777777778,
              "#fb9f3a"
             ],
             [
              0.8888888888888888,
              "#fdca26"
             ],
             [
              1,
              "#f0f921"
             ]
            ],
            "type": "histogram2dcontour"
           }
          ],
          "mesh3d": [
           {
            "colorbar": {
             "outlinewidth": 0,
             "ticks": ""
            },
            "type": "mesh3d"
           }
          ],
          "parcoords": [
           {
            "line": {
             "colorbar": {
              "outlinewidth": 0,
              "ticks": ""
             }
            },
            "type": "parcoords"
           }
          ],
          "pie": [
           {
            "automargin": true,
            "type": "pie"
           }
          ],
          "scatter": [
           {
            "marker": {
             "line": {
              "color": "#283442"
             }
            },
            "type": "scatter"
           }
          ],
          "scatter3d": [
           {
            "line": {
             "colorbar": {
              "outlinewidth": 0,
              "ticks": ""
             }
            },
            "marker": {
             "colorbar": {
              "outlinewidth": 0,
              "ticks": ""
             }
            },
            "type": "scatter3d"
           }
          ],
          "scattercarpet": [
           {
            "marker": {
             "colorbar": {
              "outlinewidth": 0,
              "ticks": ""
             }
            },
            "type": "scattercarpet"
           }
          ],
          "scattergeo": [
           {
            "marker": {
             "colorbar": {
              "outlinewidth": 0,
              "ticks": ""
             }
            },
            "type": "scattergeo"
           }
          ],
          "scattergl": [
           {
            "marker": {
             "line": {
              "color": "#283442"
             }
            },
            "type": "scattergl"
           }
          ],
          "scattermap": [
           {
            "marker": {
             "colorbar": {
              "outlinewidth": 0,
              "ticks": ""
             }
            },
            "type": "scattermap"
           }
          ],
          "scattermapbox": [
           {
            "marker": {
             "colorbar": {
              "outlinewidth": 0,
              "ticks": ""
             }
            },
            "type": "scattermapbox"
           }
          ],
          "scatterpolar": [
           {
            "marker": {
             "colorbar": {
              "outlinewidth": 0,
              "ticks": ""
             }
            },
            "type": "scatterpolar"
           }
          ],
          "scatterpolargl": [
           {
            "marker": {
             "colorbar": {
              "outlinewidth": 0,
              "ticks": ""
             }
            },
            "type": "scatterpolargl"
           }
          ],
          "scatterternary": [
           {
            "marker": {
             "colorbar": {
              "outlinewidth": 0,
              "ticks": ""
             }
            },
            "type": "scatterternary"
           }
          ],
          "surface": [
           {
            "colorbar": {
             "outlinewidth": 0,
             "ticks": ""
            },
            "colorscale": [
             [
              0,
              "#0d0887"
             ],
             [
              0.1111111111111111,
              "#46039f"
             ],
             [
              0.2222222222222222,
              "#7201a8"
             ],
             [
              0.3333333333333333,
              "#9c179e"
             ],
             [
              0.4444444444444444,
              "#bd3786"
             ],
             [
              0.5555555555555556,
              "#d8576b"
             ],
             [
              0.6666666666666666,
              "#ed7953"
             ],
             [
              0.7777777777777778,
              "#fb9f3a"
             ],
             [
              0.8888888888888888,
              "#fdca26"
             ],
             [
              1,
              "#f0f921"
             ]
            ],
            "type": "surface"
           }
          ],
          "table": [
           {
            "cells": {
             "fill": {
              "color": "#506784"
             },
             "line": {
              "color": "rgb(17,17,17)"
             }
            },
            "header": {
             "fill": {
              "color": "#2a3f5f"
             },
             "line": {
              "color": "rgb(17,17,17)"
             }
            },
            "type": "table"
           }
          ]
         },
         "layout": {
          "annotationdefaults": {
           "arrowcolor": "#f2f5fa",
           "arrowhead": 0,
           "arrowwidth": 1
          },
          "autotypenumbers": "strict",
          "coloraxis": {
           "colorbar": {
            "outlinewidth": 0,
            "ticks": ""
           }
          },
          "colorscale": {
           "diverging": [
            [
             0,
             "#8e0152"
            ],
            [
             0.1,
             "#c51b7d"
            ],
            [
             0.2,
             "#de77ae"
            ],
            [
             0.3,
             "#f1b6da"
            ],
            [
             0.4,
             "#fde0ef"
            ],
            [
             0.5,
             "#f7f7f7"
            ],
            [
             0.6,
             "#e6f5d0"
            ],
            [
             0.7,
             "#b8e186"
            ],
            [
             0.8,
             "#7fbc41"
            ],
            [
             0.9,
             "#4d9221"
            ],
            [
             1,
             "#276419"
            ]
           ],
           "sequential": [
            [
             0,
             "#0d0887"
            ],
            [
             0.1111111111111111,
             "#46039f"
            ],
            [
             0.2222222222222222,
             "#7201a8"
            ],
            [
             0.3333333333333333,
             "#9c179e"
            ],
            [
             0.4444444444444444,
             "#bd3786"
            ],
            [
             0.5555555555555556,
             "#d8576b"
            ],
            [
             0.6666666666666666,
             "#ed7953"
            ],
            [
             0.7777777777777778,
             "#fb9f3a"
            ],
            [
             0.8888888888888888,
             "#fdca26"
            ],
            [
             1,
             "#f0f921"
            ]
           ],
           "sequentialminus": [
            [
             0,
             "#0d0887"
            ],
            [
             0.1111111111111111,
             "#46039f"
            ],
            [
             0.2222222222222222,
             "#7201a8"
            ],
            [
             0.3333333333333333,
             "#9c179e"
            ],
            [
             0.4444444444444444,
             "#bd3786"
            ],
            [
             0.5555555555555556,
             "#d8576b"
            ],
            [
             0.6666666666666666,
             "#ed7953"
            ],
            [
             0.7777777777777778,
             "#fb9f3a"
            ],
            [
             0.8888888888888888,
             "#fdca26"
            ],
            [
             1,
             "#f0f921"
            ]
           ]
          },
          "colorway": [
           "#636efa",
           "#EF553B",
           "#00cc96",
           "#ab63fa",
           "#FFA15A",
           "#19d3f3",
           "#FF6692",
           "#B6E880",
           "#FF97FF",
           "#FECB52"
          ],
          "font": {
           "color": "#f2f5fa"
          },
          "geo": {
           "bgcolor": "rgb(17,17,17)",
           "lakecolor": "rgb(17,17,17)",
           "landcolor": "rgb(17,17,17)",
           "showlakes": true,
           "showland": true,
           "subunitcolor": "#506784"
          },
          "hoverlabel": {
           "align": "left"
          },
          "hovermode": "closest",
          "mapbox": {
           "style": "dark"
          },
          "paper_bgcolor": "rgb(17,17,17)",
          "plot_bgcolor": "rgb(17,17,17)",
          "polar": {
           "angularaxis": {
            "gridcolor": "#506784",
            "linecolor": "#506784",
            "ticks": ""
           },
           "bgcolor": "rgb(17,17,17)",
           "radialaxis": {
            "gridcolor": "#506784",
            "linecolor": "#506784",
            "ticks": ""
           }
          },
          "scene": {
           "xaxis": {
            "backgroundcolor": "rgb(17,17,17)",
            "gridcolor": "#506784",
            "gridwidth": 2,
            "linecolor": "#506784",
            "showbackground": true,
            "ticks": "",
            "zerolinecolor": "#C8D4E3"
           },
           "yaxis": {
            "backgroundcolor": "rgb(17,17,17)",
            "gridcolor": "#506784",
            "gridwidth": 2,
            "linecolor": "#506784",
            "showbackground": true,
            "ticks": "",
            "zerolinecolor": "#C8D4E3"
           },
           "zaxis": {
            "backgroundcolor": "rgb(17,17,17)",
            "gridcolor": "#506784",
            "gridwidth": 2,
            "linecolor": "#506784",
            "showbackground": true,
            "ticks": "",
            "zerolinecolor": "#C8D4E3"
           }
          },
          "shapedefaults": {
           "line": {
            "color": "#f2f5fa"
           }
          },
          "sliderdefaults": {
           "bgcolor": "#C8D4E3",
           "bordercolor": "rgb(17,17,17)",
           "borderwidth": 1,
           "tickwidth": 0
          },
          "ternary": {
           "aaxis": {
            "gridcolor": "#506784",
            "linecolor": "#506784",
            "ticks": ""
           },
           "baxis": {
            "gridcolor": "#506784",
            "linecolor": "#506784",
            "ticks": ""
           },
           "bgcolor": "rgb(17,17,17)",
           "caxis": {
            "gridcolor": "#506784",
            "linecolor": "#506784",
            "ticks": ""
           }
          },
          "title": {
           "x": 0.05
          },
          "updatemenudefaults": {
           "bgcolor": "#506784",
           "borderwidth": 0
          },
          "xaxis": {
           "automargin": true,
           "gridcolor": "#283442",
           "linecolor": "#506784",
           "ticks": "",
           "title": {
            "standoff": 15
           },
           "zerolinecolor": "#283442",
           "zerolinewidth": 2
          },
          "yaxis": {
           "automargin": true,
           "gridcolor": "#283442",
           "linecolor": "#506784",
           "ticks": "",
           "title": {
            "standoff": 15
           },
           "zerolinecolor": "#283442",
           "zerolinewidth": 2
          }
         }
        },
        "title": {
         "font": {
          "family": "tahoma",
          "size": 28
         },
         "text": "Predicted Vs. Actual"
        },
        "xaxis": {
         "anchor": "y",
         "domain": [
          0,
          1
         ],
         "title": {
          "text": "Actual_Salary"
         }
        },
        "yaxis": {
         "anchor": "x",
         "domain": [
          0,
          1
         ],
         "title": {
          "text": "Predicted_Salary"
         }
        }
       }
      }
     },
     "metadata": {},
     "output_type": "display_data"
    }
   ],
   "source": [
    "import plotly.express as px \n",
    "from plotly.offline import iplot\n",
    "fig = px.scatter(\n",
    "    predected_df , \n",
    "    x = \"Actual_Salary\", \n",
    "    y = \"Predicted_Salary\",\n",
    "    color = \"error\",\n",
    "    opacity=0.8,\n",
    "    title= \"Predicted Vs. Actual\",\n",
    "    template=\"plotly_dark\",\n",
    "    trendline=\"ols\"\n",
    "    \n",
    ")\n",
    "\n",
    "fig.update_layout(\n",
    "    title = {\n",
    "        \"font\" :{\n",
    "            \"size\" : 28,\n",
    "            \"family\" : \"tahoma\"\n",
    "        }\n",
    "    }\n",
    ")\n",
    "iplot(fig)"
   ]
  }
 ],
 "metadata": {
  "kernelspec": {
   "display_name": "Python 3",
   "language": "python",
   "name": "python3"
  },
  "language_info": {
   "codemirror_mode": {
    "name": "ipython",
    "version": 3
   },
   "file_extension": ".py",
   "mimetype": "text/x-python",
   "name": "python",
   "nbconvert_exporter": "python",
   "pygments_lexer": "ipython3",
   "version": "3.13.0"
  }
 },
 "nbformat": 4,
 "nbformat_minor": 5
}
